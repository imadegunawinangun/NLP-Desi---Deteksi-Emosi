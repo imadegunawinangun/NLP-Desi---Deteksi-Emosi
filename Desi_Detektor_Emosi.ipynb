{
  "nbformat": 4,
  "nbformat_minor": 0,
  "metadata": {
    "colab": {
      "name": "Desi - Detektor Emosi.ipynb",
      "provenance": [],
      "mount_file_id": "1Pkkd8BHUkC2h2mRl0_7DI5OvvojiqI7u",
      "authorship_tag": "ABX9TyOmVz7TKd/4QFy9AMcbXnQ1",
      "include_colab_link": true
    },
    "kernelspec": {
      "name": "python3",
      "display_name": "Python 3"
    },
    "language_info": {
      "name": "python"
    },
    "accelerator": "GPU"
  },
  "cells": [
    {
      "cell_type": "markdown",
      "metadata": {
        "id": "view-in-github",
        "colab_type": "text"
      },
      "source": [
        "<a href=\"https://colab.research.google.com/github/imadegunawinangun/NLP-Desi---Deteksi-Emosi/blob/main/Desi_Detektor_Emosi.ipynb\" target=\"_parent\"><img src=\"https://colab.research.google.com/assets/colab-badge.svg\" alt=\"Open In Colab\"/></a>"
      ]
    },
    {
      "cell_type": "code",
      "metadata": {
        "id": "PL4mKHLJufaT"
      },
      "source": [
        "from google.colab import drive\n",
        "#drive.mount('/content/drive')"
      ],
      "execution_count": null,
      "outputs": []
    },
    {
      "cell_type": "code",
      "metadata": {
        "id": "nbBEbSckx7w2",
        "colab": {
          "base_uri": "https://localhost:8080/"
        },
        "outputId": "90288f89-f9fa-466c-f9ef-3608c46e34de"
      },
      "source": [
        "!git clone https://github.com/imadegunawinangun/NLP-Desi---Deteksi-Emosi"
      ],
      "execution_count": 2,
      "outputs": [
        {
          "output_type": "stream",
          "text": [
            "Cloning into 'NLP-Desi---Deteksi-Emosi'...\n",
            "remote: Enumerating objects: 35, done.\u001b[K\n",
            "remote: Counting objects: 100% (35/35), done.\u001b[K\n",
            "remote: Compressing objects: 100% (32/32), done.\u001b[K\n",
            "remote: Total 35 (delta 17), reused 14 (delta 3), pack-reused 0\u001b[K\n",
            "Unpacking objects: 100% (35/35), done.\n"
          ],
          "name": "stdout"
        }
      ]
    },
    {
      "cell_type": "code",
      "metadata": {
        "id": "967DPXh9yB0K",
        "colab": {
          "base_uri": "https://localhost:8080/"
        },
        "outputId": "16ec8f45-bdd3-4845-ac7c-6e9e4de854d2"
      },
      "source": [
        "!ls NLP-Desi---Deteksi-Emosi"
      ],
      "execution_count": 1,
      "outputs": [
        {
          "output_type": "stream",
          "text": [
            "ls: cannot access 'NLP-Desi---Deteksi-Emosi': No such file or directory\n"
          ],
          "name": "stdout"
        }
      ]
    },
    {
      "cell_type": "code",
      "metadata": {
        "id": "MDkRfX0uy_tJ"
      },
      "source": [
        "import pandas as pd\n",
        "import os\n",
        "import numpy as np\n"
      ],
      "execution_count": 3,
      "outputs": []
    },
    {
      "cell_type": "code",
      "metadata": {
        "id": "_BLUFCQjzSS9",
        "colab": {
          "base_uri": "https://localhost:8080/"
        },
        "outputId": "8254ff18-617a-4658-b9c5-9699a6f1207f"
      },
      "source": [
        "read_file = pd.read_csv (r'NLP-Desi---Deteksi-Emosi/data.txt',error_bad_lines=False,sep=';')\n",
        "read_file.to_csv ('NLP-Desi---Deteksi-Emosi/data.csv', index=None)"
      ],
      "execution_count": 4,
      "outputs": [
        {
          "output_type": "stream",
          "text": [
            "b'Skipping line 144: expected 2 fields, saw 3\\nSkipping line 163: expected 2 fields, saw 3\\nSkipping line 460: expected 2 fields, saw 3\\nSkipping line 496: expected 2 fields, saw 3\\nSkipping line 541: expected 2 fields, saw 3\\nSkipping line 557: expected 2 fields, saw 3\\nSkipping line 697: expected 2 fields, saw 3\\nSkipping line 882: expected 2 fields, saw 3\\nSkipping line 890: expected 2 fields, saw 3\\nSkipping line 908: expected 2 fields, saw 3\\nSkipping line 911: expected 2 fields, saw 3\\nSkipping line 1037: expected 2 fields, saw 3\\nSkipping line 1070: expected 2 fields, saw 3\\nSkipping line 1173: expected 2 fields, saw 3\\nSkipping line 1193: expected 2 fields, saw 3\\nSkipping line 1197: expected 2 fields, saw 3\\nSkipping line 1317: expected 2 fields, saw 3\\nSkipping line 1698: expected 2 fields, saw 3\\nSkipping line 1716: expected 2 fields, saw 3\\nSkipping line 1874: expected 2 fields, saw 3\\nSkipping line 2188: expected 2 fields, saw 3\\nSkipping line 2228: expected 2 fields, saw 3\\nSkipping line 2552: expected 2 fields, saw 3\\nSkipping line 2770: expected 2 fields, saw 3\\nSkipping line 2808: expected 2 fields, saw 3\\nSkipping line 3193: expected 2 fields, saw 3\\nSkipping line 3254: expected 2 fields, saw 3\\nSkipping line 3466: expected 2 fields, saw 3\\nSkipping line 3541: expected 2 fields, saw 3\\nSkipping line 3548: expected 2 fields, saw 3\\nSkipping line 3561: expected 2 fields, saw 3\\nSkipping line 3579: expected 2 fields, saw 3\\nSkipping line 3606: expected 2 fields, saw 3\\nSkipping line 3680: expected 2 fields, saw 3\\nSkipping line 3863: expected 2 fields, saw 3\\nSkipping line 3883: expected 2 fields, saw 3\\nSkipping line 3886: expected 2 fields, saw 3\\nSkipping line 4013: expected 2 fields, saw 3\\nSkipping line 4127: expected 2 fields, saw 3\\nSkipping line 4235: expected 2 fields, saw 3\\nSkipping line 4277: expected 2 fields, saw 3\\nSkipping line 4675: expected 2 fields, saw 3\\nSkipping line 4746: expected 2 fields, saw 3\\nSkipping line 4882: expected 2 fields, saw 3\\nSkipping line 4920: expected 2 fields, saw 3\\nSkipping line 5379: expected 2 fields, saw 3\\nSkipping line 5382: expected 2 fields, saw 3\\nSkipping line 5483: expected 2 fields, saw 3\\nSkipping line 5528: expected 2 fields, saw 3\\nSkipping line 5572: expected 2 fields, saw 3\\nSkipping line 5594: expected 2 fields, saw 3\\nSkipping line 5616: expected 2 fields, saw 3\\nSkipping line 5924: expected 2 fields, saw 3\\nSkipping line 6100: expected 2 fields, saw 3\\nSkipping line 6216: expected 2 fields, saw 3\\nSkipping line 6222: expected 2 fields, saw 3\\nSkipping line 6362: expected 2 fields, saw 3\\nSkipping line 6401: expected 2 fields, saw 3\\nSkipping line 6567: expected 2 fields, saw 3\\nSkipping line 6696: expected 2 fields, saw 3\\nSkipping line 6730: expected 2 fields, saw 3\\nSkipping line 6814: expected 2 fields, saw 3\\nSkipping line 7013: expected 2 fields, saw 3\\nSkipping line 7191: expected 2 fields, saw 3\\nSkipping line 7266: expected 2 fields, saw 3\\nSkipping line 7291: expected 2 fields, saw 3\\nSkipping line 7313: expected 2 fields, saw 3\\nSkipping line 7562: expected 2 fields, saw 3\\nSkipping line 7646: expected 2 fields, saw 3\\nSkipping line 7672: expected 2 fields, saw 3\\nSkipping line 7761: expected 2 fields, saw 3\\nSkipping line 7772: expected 2 fields, saw 3\\nSkipping line 7789: expected 2 fields, saw 3\\nSkipping line 7877: expected 2 fields, saw 3\\nSkipping line 7938: expected 2 fields, saw 3\\nSkipping line 8130: expected 2 fields, saw 3\\nSkipping line 8310: expected 2 fields, saw 3\\nSkipping line 8316: expected 2 fields, saw 3\\nSkipping line 8516: expected 2 fields, saw 3\\nSkipping line 8612: expected 2 fields, saw 3\\nSkipping line 8756: expected 2 fields, saw 3\\nSkipping line 8886: expected 2 fields, saw 3\\nSkipping line 8916: expected 2 fields, saw 3\\nSkipping line 9219: expected 2 fields, saw 3\\nSkipping line 9424: expected 2 fields, saw 3\\nSkipping line 9470: expected 2 fields, saw 3\\nSkipping line 9812: expected 2 fields, saw 3\\nSkipping line 9814: expected 2 fields, saw 3\\nSkipping line 9828: expected 2 fields, saw 3\\nSkipping line 10029: expected 2 fields, saw 3\\nSkipping line 10054: expected 2 fields, saw 3\\nSkipping line 10119: expected 2 fields, saw 3\\nSkipping line 10185: expected 2 fields, saw 3\\nSkipping line 10221: expected 2 fields, saw 3\\nSkipping line 10227: expected 2 fields, saw 3\\nSkipping line 10323: expected 2 fields, saw 3\\nSkipping line 10618: expected 2 fields, saw 3\\nSkipping line 10622: expected 2 fields, saw 3\\nSkipping line 10920: expected 2 fields, saw 3\\nSkipping line 10948: expected 2 fields, saw 3\\nSkipping line 10961: expected 2 fields, saw 3\\nSkipping line 11285: expected 2 fields, saw 3\\nSkipping line 11375: expected 2 fields, saw 3\\nSkipping line 11517: expected 2 fields, saw 3\\nSkipping line 11646: expected 2 fields, saw 3\\nSkipping line 11742: expected 2 fields, saw 3\\nSkipping line 11803: expected 2 fields, saw 3\\nSkipping line 11843: expected 2 fields, saw 3\\nSkipping line 11854: expected 2 fields, saw 3\\nSkipping line 11874: expected 2 fields, saw 3\\nSkipping line 11946: expected 2 fields, saw 3\\nSkipping line 12263: expected 2 fields, saw 3\\nSkipping line 12818: expected 2 fields, saw 3\\nSkipping line 12855: expected 2 fields, saw 3\\nSkipping line 13014: expected 2 fields, saw 3\\nSkipping line 13089: expected 2 fields, saw 3\\nSkipping line 13359: expected 2 fields, saw 3\\nSkipping line 13400: expected 2 fields, saw 3\\nSkipping line 13456: expected 2 fields, saw 3\\nSkipping line 13481: expected 2 fields, saw 3\\nSkipping line 13496: expected 2 fields, saw 3\\nSkipping line 13632: expected 2 fields, saw 3\\nSkipping line 13770: expected 2 fields, saw 3\\nSkipping line 13819: expected 2 fields, saw 3\\nSkipping line 14032: expected 2 fields, saw 3\\nSkipping line 14440: expected 2 fields, saw 3\\nSkipping line 14456: expected 2 fields, saw 3\\nSkipping line 14668: expected 2 fields, saw 3\\nSkipping line 14844: expected 2 fields, saw 3\\nSkipping line 14919: expected 2 fields, saw 3\\nSkipping line 14992: expected 2 fields, saw 3\\nSkipping line 15144: expected 2 fields, saw 3\\nSkipping line 15162: expected 2 fields, saw 3\\nSkipping line 15244: expected 2 fields, saw 3\\nSkipping line 15325: expected 2 fields, saw 3\\nSkipping line 15368: expected 2 fields, saw 3\\nSkipping line 15369: expected 2 fields, saw 3\\nSkipping line 15398: expected 2 fields, saw 3\\nSkipping line 15502: expected 2 fields, saw 3\\nSkipping line 15556: expected 2 fields, saw 3\\nSkipping line 15588: expected 2 fields, saw 3\\nSkipping line 15923: expected 2 fields, saw 3\\n'\n"
          ],
          "name": "stderr"
        }
      ]
    },
    {
      "cell_type": "code",
      "metadata": {
        "id": "s6YuBztG0nmk",
        "colab": {
          "base_uri": "https://localhost:8080/",
          "height": 478
        },
        "outputId": "9cbff60e-9221-46cf-ee70-5bbc8c8eda68"
      },
      "source": [
        "datadir = 'NLP-Desi---Deteksi-Emosi//'\n",
        "columns = ['kalimat', 'emosi']\n",
        "data = pd.read_csv(os.path.join(datadir, 'data.csv'), names = columns)\n",
        "data['emosi']=data['emosi'].astype(\"category\")\n",
        "pd.set_option('display.max_colwidth', -1)\n",
        "data"
      ],
      "execution_count": 5,
      "outputs": [
        {
          "output_type": "stream",
          "text": [
            "/usr/local/lib/python3.7/dist-packages/ipykernel_launcher.py:5: FutureWarning: Passing a negative integer is deprecated in version 1.0 and will not be supported in future version. Instead, use None to not limit the column width.\n",
            "  \"\"\"\n"
          ],
          "name": "stderr"
        },
        {
          "output_type": "execute_result",
          "data": {
            "text/html": [
              "<div>\n",
              "<style scoped>\n",
              "    .dataframe tbody tr th:only-of-type {\n",
              "        vertical-align: middle;\n",
              "    }\n",
              "\n",
              "    .dataframe tbody tr th {\n",
              "        vertical-align: top;\n",
              "    }\n",
              "\n",
              "    .dataframe thead th {\n",
              "        text-align: right;\n",
              "    }\n",
              "</style>\n",
              "<table border=\"1\" class=\"dataframe\">\n",
              "  <thead>\n",
              "    <tr style=\"text-align: right;\">\n",
              "      <th></th>\n",
              "      <th>kalimat</th>\n",
              "      <th>emosi</th>\n",
              "    </tr>\n",
              "  </thead>\n",
              "  <tbody>\n",
              "    <tr>\n",
              "      <th>0</th>\n",
              "      <td>saya tidak merasa terhina</td>\n",
              "      <td>kesedihan</td>\n",
              "    </tr>\n",
              "    <tr>\n",
              "      <th>1</th>\n",
              "      <td>saya bisa berubah dari merasa sangat putus asa menjadi sangat berharap hanya dari berada di sekitar seseorang yang peduli dan terjaga</td>\n",
              "      <td>kesedihan</td>\n",
              "    </tr>\n",
              "    <tr>\n",
              "      <th>2</th>\n",
              "      <td>saya mengambil waktu sebentar untuk memposting saya merasa serakah salah</td>\n",
              "      <td>kemarahan</td>\n",
              "    </tr>\n",
              "    <tr>\n",
              "      <th>3</th>\n",
              "      <td>saya pernah merasa nostalgia tentang perapian saya akan tahu bahwa itu masih di properti</td>\n",
              "      <td>cinta</td>\n",
              "    </tr>\n",
              "    <tr>\n",
              "      <th>4</th>\n",
              "      <td>saya merasa kesal</td>\n",
              "      <td>kemarahan</td>\n",
              "    </tr>\n",
              "    <tr>\n",
              "      <th>...</th>\n",
              "      <td>...</td>\n",
              "      <td>...</td>\n",
              "    </tr>\n",
              "    <tr>\n",
              "      <th>15853</th>\n",
              "      <td>saya hanya memiliki waktu yang sangat singkat di beanbag dan saya berkata kepada anna bahwa saya merasa seperti saya telah dipukuli</td>\n",
              "      <td>kesedihan</td>\n",
              "    </tr>\n",
              "    <tr>\n",
              "      <th>15854</th>\n",
              "      <td>saya sekarang berbalik dan saya merasa menyedihkan bahwa saya masih menunggu meja dan subbing dengan gelar mengajar</td>\n",
              "      <td>kesedihan</td>\n",
              "    </tr>\n",
              "    <tr>\n",
              "      <th>15855</th>\n",
              "      <td>saya merasa kuat dan baik secara keseluruhan</td>\n",
              "      <td>kegembiraan</td>\n",
              "    </tr>\n",
              "    <tr>\n",
              "      <th>15856</th>\n",
              "      <td>Saya merasa ini adalah komentar yang kasar dan saya senang bahwa t</td>\n",
              "      <td>kemarahan</td>\n",
              "    </tr>\n",
              "    <tr>\n",
              "      <th>15857</th>\n",
              "      <td>saya tahu banyak tapi saya merasa sangat bodoh karena saya tidak bisa menggambarkannya</td>\n",
              "      <td>kesedihan</td>\n",
              "    </tr>\n",
              "  </tbody>\n",
              "</table>\n",
              "<p>15858 rows × 2 columns</p>\n",
              "</div>"
            ],
            "text/plain": [
              "                                                                                                                                     kalimat        emosi\n",
              "0      saya tidak merasa terhina                                                                                                              kesedihan  \n",
              "1      saya bisa berubah dari merasa sangat putus asa menjadi sangat berharap hanya dari berada di sekitar seseorang yang peduli dan terjaga  kesedihan  \n",
              "2      saya mengambil waktu sebentar untuk memposting saya merasa serakah salah                                                               kemarahan  \n",
              "3      saya pernah merasa nostalgia tentang perapian saya akan tahu bahwa itu masih di properti                                               cinta      \n",
              "4      saya merasa kesal                                                                                                                      kemarahan  \n",
              "...                  ...                                                                                                                            ...  \n",
              "15853  saya hanya memiliki waktu yang sangat singkat di beanbag dan saya berkata kepada anna bahwa saya merasa seperti saya telah dipukuli    kesedihan  \n",
              "15854  saya sekarang berbalik dan saya merasa menyedihkan bahwa saya masih menunggu meja dan subbing dengan gelar mengajar                    kesedihan  \n",
              "15855  saya merasa kuat dan baik secara keseluruhan                                                                                           kegembiraan\n",
              "15856  Saya merasa ini adalah komentar yang kasar dan saya senang bahwa t                                                                     kemarahan  \n",
              "15857  saya tahu banyak tapi saya merasa sangat bodoh karena saya tidak bisa menggambarkannya                                                 kesedihan  \n",
              "\n",
              "[15858 rows x 2 columns]"
            ]
          },
          "metadata": {
            "tags": []
          },
          "execution_count": 5
        }
      ]
    },
    {
      "cell_type": "code",
      "metadata": {
        "id": "IRlH0Fyas27x",
        "outputId": "65335596-b66a-4b9c-9a03-6163c99e8793",
        "colab": {
          "base_uri": "https://localhost:8080/",
          "height": 283
        }
      },
      "source": [
        "data.emosi.value_counts().sort_values().plot(kind = 'barh')"
      ],
      "execution_count": 6,
      "outputs": [
        {
          "output_type": "execute_result",
          "data": {
            "text/plain": [
              "<matplotlib.axes._subplots.AxesSubplot at 0x7feee8940390>"
            ]
          },
          "metadata": {
            "tags": []
          },
          "execution_count": 6
        },
        {
          "output_type": "display_data",
          "data": {
            "image/png": "[encoded data removed]",
            "text/plain": [
              "<Figure size 432x288 with 1 Axes>"
            ]
          },
          "metadata": {
            "tags": [],
            "needs_background": "light"
          }
        }
      ]
    },
    {
      "cell_type": "code",
      "metadata": {
        "id": "XYp9sVV1JyWI",
        "colab": {
          "base_uri": "https://localhost:8080/"
        },
        "outputId": "4b73292b-51c9-480f-a811-2fa45ffae8a3"
      },
      "source": [
        "data['emosi']"
      ],
      "execution_count": null,
      "outputs": [
        {
          "output_type": "execute_result",
          "data": {
            "text/plain": [
              "0        kesedihan  \n",
              "1        kesedihan  \n",
              "2        kemarahan  \n",
              "3        cinta      \n",
              "4        kemarahan  \n",
              "           ...      \n",
              "15853    kesedihan  \n",
              "15854    kesedihan  \n",
              "15855    kegembiraan\n",
              "15856    kemarahan  \n",
              "15857    kesedihan  \n",
              "Name: emosi, Length: 15858, dtype: category\n",
              "Categories (15, object): [' kegembiraan', ' ​​cinta', ' ​​kegembiraan', ' ​​kesedihan', ...,\n",
              "                          'kejutanyang luar biasa dan menyentuh', 'kemarahan', 'kesedihan', 'ketakutan']"
            ]
          },
          "metadata": {
            "tags": []
          },
          "execution_count": 7
        }
      ]
    },
    {
      "cell_type": "code",
      "metadata": {
        "colab": {
          "base_uri": "https://localhost:8080/",
          "height": 971
        },
        "id": "0bCGXCNw6lPu",
        "outputId": "2d66ac4a-4af2-4e8a-c7ac-7010569ed810"
      },
      "source": [
        "category = pd.get_dummies(data.emosi)\n",
        "df_baru = pd.concat([data, category], axis=1)\n",
        "df_baru = df_baru.drop(columns='emosi')\n",
        "df_baru"
      ],
      "execution_count": null,
      "outputs": [
        {
          "output_type": "execute_result",
          "data": {
            "text/html": [
              "<div>\n",
              "<style scoped>\n",
              "    .dataframe tbody tr th:only-of-type {\n",
              "        vertical-align: middle;\n",
              "    }\n",
              "\n",
              "    .dataframe tbody tr th {\n",
              "        vertical-align: top;\n",
              "    }\n",
              "\n",
              "    .dataframe thead th {\n",
              "        text-align: right;\n",
              "    }\n",
              "</style>\n",
              "<table border=\"1\" class=\"dataframe\">\n",
              "  <thead>\n",
              "    <tr style=\"text-align: right;\">\n",
              "      <th></th>\n",
              "      <th>kalimat</th>\n",
              "      <th>kegembiraan</th>\n",
              "      <th>​​cinta</th>\n",
              "      <th>​​kegembiraan</th>\n",
              "      <th>​​kesedihan</th>\n",
              "      <th>​​marah</th>\n",
              "      <th>​​sukacita</th>\n",
              "      <th>​​takut</th>\n",
              "      <th>bersukacita</th>\n",
              "      <th>cinta</th>\n",
              "      <th>kegembiraan</th>\n",
              "      <th>kejutan</th>\n",
              "      <th>kejutanyang luar biasa dan menyentuh</th>\n",
              "      <th>kemarahan</th>\n",
              "      <th>kesedihan</th>\n",
              "      <th>ketakutan</th>\n",
              "    </tr>\n",
              "  </thead>\n",
              "  <tbody>\n",
              "    <tr>\n",
              "      <th>0</th>\n",
              "      <td>saya tidak merasa terhina</td>\n",
              "      <td>0</td>\n",
              "      <td>0</td>\n",
              "      <td>0</td>\n",
              "      <td>0</td>\n",
              "      <td>0</td>\n",
              "      <td>0</td>\n",
              "      <td>0</td>\n",
              "      <td>0</td>\n",
              "      <td>0</td>\n",
              "      <td>0</td>\n",
              "      <td>0</td>\n",
              "      <td>0</td>\n",
              "      <td>0</td>\n",
              "      <td>1</td>\n",
              "      <td>0</td>\n",
              "    </tr>\n",
              "    <tr>\n",
              "      <th>1</th>\n",
              "      <td>saya bisa berubah dari merasa sangat putus asa menjadi sangat berharap hanya dari berada di sekitar seseorang yang peduli dan terjaga</td>\n",
              "      <td>0</td>\n",
              "      <td>0</td>\n",
              "      <td>0</td>\n",
              "      <td>0</td>\n",
              "      <td>0</td>\n",
              "      <td>0</td>\n",
              "      <td>0</td>\n",
              "      <td>0</td>\n",
              "      <td>0</td>\n",
              "      <td>0</td>\n",
              "      <td>0</td>\n",
              "      <td>0</td>\n",
              "      <td>0</td>\n",
              "      <td>1</td>\n",
              "      <td>0</td>\n",
              "    </tr>\n",
              "    <tr>\n",
              "      <th>2</th>\n",
              "      <td>saya mengambil waktu sebentar untuk memposting saya merasa serakah salah</td>\n",
              "      <td>0</td>\n",
              "      <td>0</td>\n",
              "      <td>0</td>\n",
              "      <td>0</td>\n",
              "      <td>0</td>\n",
              "      <td>0</td>\n",
              "      <td>0</td>\n",
              "      <td>0</td>\n",
              "      <td>0</td>\n",
              "      <td>0</td>\n",
              "      <td>0</td>\n",
              "      <td>0</td>\n",
              "      <td>1</td>\n",
              "      <td>0</td>\n",
              "      <td>0</td>\n",
              "    </tr>\n",
              "    <tr>\n",
              "      <th>3</th>\n",
              "      <td>saya pernah merasa nostalgia tentang perapian saya akan tahu bahwa itu masih di properti</td>\n",
              "      <td>0</td>\n",
              "      <td>0</td>\n",
              "      <td>0</td>\n",
              "      <td>0</td>\n",
              "      <td>0</td>\n",
              "      <td>0</td>\n",
              "      <td>0</td>\n",
              "      <td>0</td>\n",
              "      <td>1</td>\n",
              "      <td>0</td>\n",
              "      <td>0</td>\n",
              "      <td>0</td>\n",
              "      <td>0</td>\n",
              "      <td>0</td>\n",
              "      <td>0</td>\n",
              "    </tr>\n",
              "    <tr>\n",
              "      <th>4</th>\n",
              "      <td>saya merasa kesal</td>\n",
              "      <td>0</td>\n",
              "      <td>0</td>\n",
              "      <td>0</td>\n",
              "      <td>0</td>\n",
              "      <td>0</td>\n",
              "      <td>0</td>\n",
              "      <td>0</td>\n",
              "      <td>0</td>\n",
              "      <td>0</td>\n",
              "      <td>0</td>\n",
              "      <td>0</td>\n",
              "      <td>0</td>\n",
              "      <td>1</td>\n",
              "      <td>0</td>\n",
              "      <td>0</td>\n",
              "    </tr>\n",
              "    <tr>\n",
              "      <th>...</th>\n",
              "      <td>...</td>\n",
              "      <td>...</td>\n",
              "      <td>...</td>\n",
              "      <td>...</td>\n",
              "      <td>...</td>\n",
              "      <td>...</td>\n",
              "      <td>...</td>\n",
              "      <td>...</td>\n",
              "      <td>...</td>\n",
              "      <td>...</td>\n",
              "      <td>...</td>\n",
              "      <td>...</td>\n",
              "      <td>...</td>\n",
              "      <td>...</td>\n",
              "      <td>...</td>\n",
              "      <td>...</td>\n",
              "    </tr>\n",
              "    <tr>\n",
              "      <th>15853</th>\n",
              "      <td>saya hanya memiliki waktu yang sangat singkat di beanbag dan saya berkata kepada anna bahwa saya merasa seperti saya telah dipukuli</td>\n",
              "      <td>0</td>\n",
              "      <td>0</td>\n",
              "      <td>0</td>\n",
              "      <td>0</td>\n",
              "      <td>0</td>\n",
              "      <td>0</td>\n",
              "      <td>0</td>\n",
              "      <td>0</td>\n",
              "      <td>0</td>\n",
              "      <td>0</td>\n",
              "      <td>0</td>\n",
              "      <td>0</td>\n",
              "      <td>0</td>\n",
              "      <td>1</td>\n",
              "      <td>0</td>\n",
              "    </tr>\n",
              "    <tr>\n",
              "      <th>15854</th>\n",
              "      <td>saya sekarang berbalik dan saya merasa menyedihkan bahwa saya masih menunggu meja dan subbing dengan gelar mengajar</td>\n",
              "      <td>0</td>\n",
              "      <td>0</td>\n",
              "      <td>0</td>\n",
              "      <td>0</td>\n",
              "      <td>0</td>\n",
              "      <td>0</td>\n",
              "      <td>0</td>\n",
              "      <td>0</td>\n",
              "      <td>0</td>\n",
              "      <td>0</td>\n",
              "      <td>0</td>\n",
              "      <td>0</td>\n",
              "      <td>0</td>\n",
              "      <td>1</td>\n",
              "      <td>0</td>\n",
              "    </tr>\n",
              "    <tr>\n",
              "      <th>15855</th>\n",
              "      <td>saya merasa kuat dan baik secara keseluruhan</td>\n",
              "      <td>0</td>\n",
              "      <td>0</td>\n",
              "      <td>0</td>\n",
              "      <td>0</td>\n",
              "      <td>0</td>\n",
              "      <td>0</td>\n",
              "      <td>0</td>\n",
              "      <td>0</td>\n",
              "      <td>0</td>\n",
              "      <td>1</td>\n",
              "      <td>0</td>\n",
              "      <td>0</td>\n",
              "      <td>0</td>\n",
              "      <td>0</td>\n",
              "      <td>0</td>\n",
              "    </tr>\n",
              "    <tr>\n",
              "      <th>15856</th>\n",
              "      <td>Saya merasa ini adalah komentar yang kasar dan saya senang bahwa t</td>\n",
              "      <td>0</td>\n",
              "      <td>0</td>\n",
              "      <td>0</td>\n",
              "      <td>0</td>\n",
              "      <td>0</td>\n",
              "      <td>0</td>\n",
              "      <td>0</td>\n",
              "      <td>0</td>\n",
              "      <td>0</td>\n",
              "      <td>0</td>\n",
              "      <td>0</td>\n",
              "      <td>0</td>\n",
              "      <td>1</td>\n",
              "      <td>0</td>\n",
              "      <td>0</td>\n",
              "    </tr>\n",
              "    <tr>\n",
              "      <th>15857</th>\n",
              "      <td>saya tahu banyak tapi saya merasa sangat bodoh karena saya tidak bisa menggambarkannya</td>\n",
              "      <td>0</td>\n",
              "      <td>0</td>\n",
              "      <td>0</td>\n",
              "      <td>0</td>\n",
              "      <td>0</td>\n",
              "      <td>0</td>\n",
              "      <td>0</td>\n",
              "      <td>0</td>\n",
              "      <td>0</td>\n",
              "      <td>0</td>\n",
              "      <td>0</td>\n",
              "      <td>0</td>\n",
              "      <td>0</td>\n",
              "      <td>1</td>\n",
              "      <td>0</td>\n",
              "    </tr>\n",
              "  </tbody>\n",
              "</table>\n",
              "<p>15858 rows × 16 columns</p>\n",
              "</div>"
            ],
            "text/plain": [
              "                                                                                                                                     kalimat  ...  ketakutan\n",
              "0      saya tidak merasa terhina                                                                                                              ...  0        \n",
              "1      saya bisa berubah dari merasa sangat putus asa menjadi sangat berharap hanya dari berada di sekitar seseorang yang peduli dan terjaga  ...  0        \n",
              "2      saya mengambil waktu sebentar untuk memposting saya merasa serakah salah                                                               ...  0        \n",
              "3      saya pernah merasa nostalgia tentang perapian saya akan tahu bahwa itu masih di properti                                               ...  0        \n",
              "4      saya merasa kesal                                                                                                                      ...  0        \n",
              "...                  ...                                                                                                                      ... ..        \n",
              "15853  saya hanya memiliki waktu yang sangat singkat di beanbag dan saya berkata kepada anna bahwa saya merasa seperti saya telah dipukuli    ...  0        \n",
              "15854  saya sekarang berbalik dan saya merasa menyedihkan bahwa saya masih menunggu meja dan subbing dengan gelar mengajar                    ...  0        \n",
              "15855  saya merasa kuat dan baik secara keseluruhan                                                                                           ...  0        \n",
              "15856  Saya merasa ini adalah komentar yang kasar dan saya senang bahwa t                                                                     ...  0        \n",
              "15857  saya tahu banyak tapi saya merasa sangat bodoh karena saya tidak bisa menggambarkannya                                                 ...  0        \n",
              "\n",
              "[15858 rows x 16 columns]"
            ]
          },
          "metadata": {
            "tags": []
          },
          "execution_count": 8
        }
      ]
    },
    {
      "cell_type": "code",
      "metadata": {
        "id": "nRMmIT2e2WSI"
      },
      "source": [
        "def load_img_steering(df):\n",
        "  teks = []\n",
        "  label = []\n",
        "  for i in range(len(data)):\n",
        "    indexed_data = df.iloc[i]\n",
        "    teks.append((indexed_data[0]))\n",
        "    label.append(indexed_data[[1, 2, 3, 4, 5,6,7,8,9,10,11,12,13,14,15]] )\n",
        "    # left image append\n",
        "    #image_path.append(os.path.join(datadir,left.strip()))\n",
        "    #steering.append(float(indexed_data[3])+0.15)\n",
        "    # right image append\n",
        "    #image_path.append(os.path.join(datadir,right.strip()))\n",
        "    #steering.append(float(indexed_data[3])-0.15)\n",
        "  data_teks = np.asarray(teks)\n",
        "  label_teks = np.asarray(label)\n",
        "  return   data_teks , label_teks\n",
        " \n",
        "data_teks, label_teks = load_img_steering(df_baru)\n"
      ],
      "execution_count": null,
      "outputs": []
    },
    {
      "cell_type": "code",
      "metadata": {
        "colab": {
          "base_uri": "https://localhost:8080/"
        },
        "id": "W0XFIV7O6Rob",
        "outputId": "7acec631-677f-492f-9fef-931bf2485458"
      },
      "source": [
        "data_teks"
      ],
      "execution_count": null,
      "outputs": [
        {
          "output_type": "execute_result",
          "data": {
            "text/plain": [
              "array(['saya tidak merasa terhina',\n",
              "       'saya bisa berubah dari merasa sangat putus asa menjadi sangat berharap hanya dari berada di sekitar seseorang yang peduli dan terjaga',\n",
              "       'saya mengambil waktu sebentar untuk memposting saya merasa serakah salah',\n",
              "       ..., 'saya merasa kuat dan baik secara keseluruhan',\n",
              "       'Saya merasa ini adalah komentar yang kasar dan saya senang bahwa t',\n",
              "       'saya tahu banyak tapi saya merasa sangat bodoh karena saya tidak bisa menggambarkannya'],\n",
              "      dtype='<U410')"
            ]
          },
          "metadata": {
            "tags": []
          },
          "execution_count": 10
        }
      ]
    },
    {
      "cell_type": "code",
      "metadata": {
        "id": "PZntTDn69gTX",
        "colab": {
          "base_uri": "https://localhost:8080/"
        },
        "outputId": "d4fecb2d-1f73-4673-e3ec-22f30cf47918"
      },
      "source": [
        "label_teks = np.array(label_teks, dtype=np.int32)\n",
        "label_teks"
      ],
      "execution_count": null,
      "outputs": [
        {
          "output_type": "execute_result",
          "data": {
            "text/plain": [
              "array([[0, 0, 0, ..., 0, 1, 0],\n",
              "       [0, 0, 0, ..., 0, 1, 0],\n",
              "       [0, 0, 0, ..., 1, 0, 0],\n",
              "       ...,\n",
              "       [0, 0, 0, ..., 0, 0, 0],\n",
              "       [0, 0, 0, ..., 1, 0, 0],\n",
              "       [0, 0, 0, ..., 0, 1, 0]], dtype=int32)"
            ]
          },
          "metadata": {
            "tags": []
          },
          "execution_count": 11
        }
      ]
    },
    {
      "cell_type": "code",
      "metadata": {
        "id": "eT8AvFrOMVGC"
      },
      "source": [
        "from sklearn.model_selection import train_test_split\n",
        "\n",
        "kalimat_latih, kalimat_test, y_latih, y_test = train_test_split(data_teks, label_teks, test_size=0.2)"
      ],
      "execution_count": null,
      "outputs": []
    },
    {
      "cell_type": "code",
      "metadata": {
        "id": "QvHGllPIyEah"
      },
      "source": [
        "from tensorflow.keras.preprocessing.text import Tokenizer\n",
        "from tensorflow.keras.preprocessing.sequence import pad_sequences\n",
        "num_words = 10000\n",
        "tokenizer = Tokenizer(num_words, oov_token='*')\n",
        "tokenizer.fit_on_texts(kalimat_latih) \n",
        "tokenizer.fit_on_texts(kalimat_test)\n",
        " \n",
        "x_train_tokens = tokenizer.texts_to_sequences(kalimat_latih)\n",
        "x_valid_tokens = tokenizer.texts_to_sequences(kalimat_test)\n",
        "\n",
        "x_train_padded = pad_sequences(x_train_tokens) \n",
        "x_valid_padded = pad_sequences(x_valid_tokens)\n"
      ],
      "execution_count": null,
      "outputs": []
    },
    {
      "cell_type": "code",
      "metadata": {
        "id": "1kty_l5P5U3-"
      },
      "source": [
        "num_tokens = [len(tokens) for tokens in x_train_tokens + x_valid_tokens]\n",
        "num_tokens = np.array(num_tokens)"
      ],
      "execution_count": null,
      "outputs": []
    },
    {
      "cell_type": "code",
      "metadata": {
        "colab": {
          "base_uri": "https://localhost:8080/"
        },
        "id": "3oSPcLqN5cEV",
        "outputId": "47d940b7-6caa-43e0-8390-e86c626919b0"
      },
      "source": [
        "np.mean(num_tokens)"
      ],
      "execution_count": null,
      "outputs": [
        {
          "output_type": "execute_result",
          "data": {
            "text/plain": [
              "17.55946525413041"
            ]
          },
          "metadata": {
            "tags": []
          },
          "execution_count": 15
        }
      ]
    },
    {
      "cell_type": "code",
      "metadata": {
        "colab": {
          "base_uri": "https://localhost:8080/"
        },
        "id": "B2iCb6-n5d_j",
        "outputId": "e1b32283-00fc-4ee2-fdae-76a9b5c5c4c5"
      },
      "source": [
        "np.max(num_tokens)"
      ],
      "execution_count": null,
      "outputs": [
        {
          "output_type": "execute_result",
          "data": {
            "text/plain": [
              "67"
            ]
          },
          "metadata": {
            "tags": []
          },
          "execution_count": 16
        }
      ]
    },
    {
      "cell_type": "code",
      "metadata": {
        "colab": {
          "base_uri": "https://localhost:8080/"
        },
        "id": "5GvhBddd5kLg",
        "outputId": "862a07de-ba87-4c3f-984f-bf08c34eeec2"
      },
      "source": [
        "max_tokens = np.mean(num_tokens) + 2 * np.std(num_tokens)\n",
        "max_tokens = int(max_tokens)\n",
        "max_tokens"
      ],
      "execution_count": null,
      "outputs": [
        {
          "output_type": "execute_result",
          "data": {
            "text/plain": [
              "37"
            ]
          },
          "metadata": {
            "tags": []
          },
          "execution_count": 17
        }
      ]
    },
    {
      "cell_type": "code",
      "metadata": {
        "colab": {
          "base_uri": "https://localhost:8080/"
        },
        "id": "q05eKTPS5nc_",
        "outputId": "bfd8fd77-9c93-42cb-c239-e6024982c43b"
      },
      "source": [
        "np.sum(num_tokens < max_tokens) / len(num_tokens)"
      ],
      "execution_count": null,
      "outputs": [
        {
          "output_type": "execute_result",
          "data": {
            "text/plain": [
              "0.9445075040988775"
            ]
          },
          "metadata": {
            "tags": []
          },
          "execution_count": 18
        }
      ]
    },
    {
      "cell_type": "code",
      "metadata": {
        "colab": {
          "base_uri": "https://localhost:8080/"
        },
        "id": "TKCyxImU2ipc",
        "outputId": "436272c4-8fb9-4d50-a6e9-f37b527eceb3"
      },
      "source": [
        "print(kalimat_latih[0])\n",
        "print(np.array(x_train_tokens[0]))\n",
        "print(np.array(x_train_padded[0]))\n",
        "print(np.array(tokenizer.sequences_to_texts(x_train_padded)[0]))"
      ],
      "execution_count": null,
      "outputs": [
        {
          "output_type": "stream",
          "text": [
            "saya tidak membaca tradisi karena saya sangat menyukainya ketika orang asing membuka pintu saya, saya tidak merasa tersinggung atau seperti dia mencoba mengirim pesan kepada saya dan seluruh dunia bahwa saya tidak dapat membukanya sendiri\n",
            "[   2    6  183 3074   15    2    9  539   27   19  918  801  761    2\n",
            "    2    6    3  299   31   13   29  103 1132  967  110    2    4  353\n",
            "  167   14    2    6   52 6183   55]\n",
            "[   0    0    0    0    0    0    0    0    0    0    0    0    0    0\n",
            "    0    0    0    0    0    0    0    0    0    0    0    0    0    0\n",
            "    0    0    0    0    2    6  183 3074   15    2    9  539   27   19\n",
            "  918  801  761    2    2    6    3  299   31   13   29  103 1132  967\n",
            "  110    2    4  353  167   14    2    6   52 6183   55]\n",
            "* * * * * * * * * * * * * * * * * * * * * * * * * * * * * * * * saya tidak membaca tradisi karena saya sangat menyukainya ketika orang asing membuka pintu saya saya tidak merasa tersinggung atau seperti dia mencoba mengirim pesan kepada saya dan seluruh dunia bahwa saya tidak dapat membukanya sendiri\n"
          ],
          "name": "stdout"
        }
      ]
    },
    {
      "cell_type": "code",
      "metadata": {
        "id": "_j5BmnnOHti0",
        "colab": {
          "base_uri": "https://localhost:8080/"
        },
        "outputId": "121f28da-2933-4a51-dc23-ba90df73ecd6"
      },
      "source": [
        "pip install -q -U keras-tuner\n"
      ],
      "execution_count": null,
      "outputs": [
        {
          "output_type": "stream",
          "text": [
            "\u001b[?25l\r\u001b[K     |███▍                            | 10kB 16.8MB/s eta 0:00:01\r\u001b[K     |██████▉                         | 20kB 21.6MB/s eta 0:00:01\r\u001b[K     |██████████▏                     | 30kB 11.2MB/s eta 0:00:01\r\u001b[K     |█████████████▋                  | 40kB 8.4MB/s eta 0:00:01\r\u001b[K     |█████████████████               | 51kB 5.4MB/s eta 0:00:01\r\u001b[K     |████████████████████▍           | 61kB 6.1MB/s eta 0:00:01\r\u001b[K     |███████████████████████▊        | 71kB 5.8MB/s eta 0:00:01\r\u001b[K     |███████████████████████████▏    | 81kB 6.4MB/s eta 0:00:01\r\u001b[K     |██████████████████████████████▋ | 92kB 6.5MB/s eta 0:00:01\r\u001b[K     |████████████████████████████████| 102kB 4.5MB/s \n",
            "\u001b[?25h  Building wheel for kt-legacy (setup.py) ... \u001b[?25l\u001b[?25hdone\n"
          ],
          "name": "stdout"
        }
      ]
    },
    {
      "cell_type": "code",
      "metadata": {
        "id": "lXrbBRZLHxwc",
        "colab": {
          "base_uri": "https://localhost:8080/"
        },
        "outputId": "3582932e-32a3-4a8a-e137-268ddca222b1"
      },
      "source": [
        "import kerastuner.tuners as kt\n"
      ],
      "execution_count": null,
      "outputs": [
        {
          "output_type": "stream",
          "text": [
            "/usr/local/lib/python3.7/dist-packages/ipykernel_launcher.py:1: DeprecationWarning: `import kerastuner` is deprecated, please use `import keras_tuner`.\n",
            "  \"\"\"Entry point for launching an IPython kernel.\n"
          ],
          "name": "stderr"
        }
      ]
    },
    {
      "cell_type": "code",
      "metadata": {
        "id": "BnrT-d1myNsq"
      },
      "source": [
        "import tensorflow as tf\n",
        "\n",
        "def model_rnn1(hp):\n",
        "  model = tf.keras.Sequential()\n",
        "  model.add(tf.keras.layers.Embedding(num_words, hp.Int(\"Output Embed\",min_value= 32, max_value = 128, step= 32), input_length=max_tokens,name='layer_embedding'))\n",
        "  model.add(tf.keras.layers.LSTM(hp.Int(\"LSTM\",min_value= 32, max_value = 128, step= 32)))\n",
        "\n",
        "  for i in range(hp.Int(\"Dense Layers\", min_value=1, max_value=2)):\n",
        "      model.add(tf.keras.layers.Dense(hp.Int(f\"Dense_{i+1}_layer\", min_value= 32, max_value = 128, step= 32), \n",
        "                                   activation='relu'))\n",
        "\n",
        "  model.add(tf.keras.layers.Dense(15, activation='softmax'))\n",
        "  model.compile(loss='categorical_crossentropy', optimizer=tf.keras.optimizers.Adam(hp.Choice(f\"learning_rate\", [ 5e-4])),metrics=['accuracy'])\n",
        "  return model\n",
        "def model_rnn():\n",
        "  model = tf.keras.Sequential()\n",
        "  model.add(tf.keras.layers.Embedding(num_words, 128, input_length=max_tokens,name='layer_embedding'))\n",
        "  model.add(tf.keras.layers.LSTM(128))\n",
        "  model.add(tf.keras.layers.Dense(512, activation='relu'))\n",
        "  model.add(tf.keras.layers.Dense(256, activation='relu'))\n",
        "\n",
        "\n",
        "  model.add(tf.keras.layers.Dense(15, activation='softmax'))\n",
        "  model.compile(loss='categorical_crossentropy', optimizer=tf.keras.optimizers.Adam(1e-4),metrics=['accuracy'])\n",
        "  return model\n"
      ],
      "execution_count": null,
      "outputs": []
    },
    {
      "cell_type": "code",
      "metadata": {
        "id": "Ts-_PaLJKyan",
        "colab": {
          "base_uri": "https://localhost:8080/"
        },
        "outputId": "c81f608a-4355-4f78-bb1c-d0dd95cd5edc"
      },
      "source": [
        "class MyTuner(kt.RandomSearch):\n",
        "  def run_trial(self, trial, *args, **kwargs):\n",
        "    # You can add additional HyperParameters for preprocessing and custom training loops\n",
        "    # via overriding `run_trial`\n",
        "\n",
        "    super(MyTuner, self).run_trial(trial, *args, **kwargs)\n",
        "\n",
        "# Uses same arguments as the BayesianOptimization Tuner.\n",
        "tuner = MyTuner(model_rnn1,\n",
        "                objective='val_accuracy',\n",
        "                max_trials=1000,)\n",
        "# Don't pass epochs or batch_size here, let the Tuner tune them.\n",
        "\n",
        "tuner.search(\n",
        "    x_train_padded, y_latih,\n",
        "        validation_split=0.2,\n",
        "            epochs=50,\n",
        "            callbacks=[\n",
        "              tf.keras.callbacks.EarlyStopping(\n",
        "              monitor='val_accuracy',\n",
        "              patience=5,\n",
        "              )\n",
        "              ]\n",
        "             )"
      ],
      "execution_count": null,
      "outputs": [
        {
          "output_type": "stream",
          "text": [
            "Trial 17 Complete [00h 03m 15s]\n",
            "val_accuracy: 0.6402679085731506\n",
            "\n",
            "Best val_accuracy So Far: 0.7115839123725891\n",
            "Total elapsed time: 01h 20m 40s\n",
            "\n",
            "Search: Running Trial #18\n",
            "\n",
            "Hyperparameter    |Value             |Best Value So Far \n",
            "Output Embed      |96                |96                \n",
            "LSTM              |64                |128               \n",
            "Dense Layers      |2                 |1                 \n",
            "Dense_1_layer     |96                |128               \n",
            "learning_rate     |0.0005            |0.0005            \n",
            "Dense_2_layer     |96                |64                \n",
            "\n",
            "Epoch 1/50\n",
            "WARNING:tensorflow:Model was constructed with shape (None, 37) for input KerasTensor(type_spec=TensorSpec(shape=(None, 37), dtype=tf.float32, name='layer_embedding_input'), name='layer_embedding_input', description=\"created by layer 'layer_embedding_input'\"), but it was called on an input with incompatible shape (None, 67).\n",
            "WARNING:tensorflow:Model was constructed with shape (None, 37) for input KerasTensor(type_spec=TensorSpec(shape=(None, 37), dtype=tf.float32, name='layer_embedding_input'), name='layer_embedding_input', description=\"created by layer 'layer_embedding_input'\"), but it was called on an input with incompatible shape (None, 67).\n",
            "317/318 [============================>.] - ETA: 0s - loss: 1.6789 - accuracy: 0.3146WARNING:tensorflow:Model was constructed with shape (None, 37) for input KerasTensor(type_spec=TensorSpec(shape=(None, 37), dtype=tf.float32, name='layer_embedding_input'), name='layer_embedding_input', description=\"created by layer 'layer_embedding_input'\"), but it was called on an input with incompatible shape (None, 67).\n",
            "318/318 [==============================] - 21s 60ms/step - loss: 1.6788 - accuracy: 0.3145 - val_loss: 1.5676 - val_accuracy: 0.3247\n",
            "Epoch 2/50\n",
            "318/318 [==============================] - 19s 59ms/step - loss: 1.2939 - accuracy: 0.4929 - val_loss: 1.1290 - val_accuracy: 0.5682\n",
            "Epoch 3/50\n",
            "318/318 [==============================] - 19s 59ms/step - loss: 0.7698 - accuracy: 0.7177 - val_loss: 0.9487 - val_accuracy: 0.6608\n",
            "Epoch 4/50\n",
            "318/318 [==============================] - 19s 58ms/step - loss: 0.5127 - accuracy: 0.8191 - val_loss: 1.0422 - val_accuracy: 0.6485\n",
            "Epoch 5/50\n",
            "318/318 [==============================] - 19s 58ms/step - loss: 0.3986 - accuracy: 0.8630 - val_loss: 1.0233 - val_accuracy: 0.6572\n",
            "Epoch 6/50\n",
            "318/318 [==============================] - 19s 58ms/step - loss: 0.3579 - accuracy: 0.8745 - val_loss: 1.2182 - val_accuracy: 0.6320\n",
            "Epoch 7/50\n",
            "318/318 [==============================] - 19s 58ms/step - loss: 0.4827 - accuracy: 0.8319 - val_loss: 1.4425 - val_accuracy: 0.5725\n",
            "Epoch 8/50\n",
            "106/318 [=========>....................] - ETA: 11s - loss: 0.4782 - accuracy: 0.8379"
          ],
          "name": "stdout"
        }
      ]
    },
    {
      "cell_type": "code",
      "metadata": {
        "id": "vuT4alASGLDX"
      },
      "source": [
        ""
      ],
      "execution_count": null,
      "outputs": []
    },
    {
      "cell_type": "code",
      "metadata": {
        "id": "1UYr5XPhyRXS"
      },
      "source": [
        "model = model_rnn()\n",
        "num_epochs = 30\n",
        "history = model.fit(x_train_padded, y_latih, epochs=num_epochs, \n",
        "                    validation_split=0.2)"
      ],
      "execution_count": null,
      "outputs": []
    },
    {
      "cell_type": "code",
      "metadata": {
        "id": "UojJD9VbK3Kb"
      },
      "source": [
        ""
      ],
      "execution_count": null,
      "outputs": []
    }
  ]
}