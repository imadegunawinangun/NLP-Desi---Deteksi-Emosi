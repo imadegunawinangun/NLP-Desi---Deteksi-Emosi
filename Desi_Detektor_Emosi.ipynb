{
  "nbformat": 4,
  "nbformat_minor": 0,
  "metadata": {
    "colab": {
      "name": "Desi - Detektor Emosi.ipynb",
      "provenance": [],
      "mount_file_id": "1Pkkd8BHUkC2h2mRl0_7DI5OvvojiqI7u",
      "authorship_tag": "ABX9TyOTUB2AvaJILVbF0zAAn78X",
      "include_colab_link": true
    },
    "kernelspec": {
      "name": "python3",
      "display_name": "Python 3"
    },
    "language_info": {
      "name": "python"
    },
    "accelerator": "GPU"
  },
  "cells": [
    {
      "cell_type": "markdown",
      "metadata": {
        "id": "view-in-github",
        "colab_type": "text"
      },
      "source": [
        "<a href=\"https://colab.research.google.com/github/imadegunawinangun/NLP-Desi---Deteksi-Emosi/blob/main/Desi_Detektor_Emosi.ipynb\" target=\"_parent\"><img src=\"https://colab.research.google.com/assets/colab-badge.svg\" alt=\"Open In Colab\"/></a>"
      ]
    },
    {
      "cell_type": "code",
      "metadata": {
        "id": "PL4mKHLJufaT"
      },
      "source": [
        "from google.colab import drive\n",
        "#drive.mount('/content/drive')"
      ],
      "execution_count": 1,
      "outputs": []
    },
    {
      "cell_type": "code",
      "metadata": {
        "id": "nbBEbSckx7w2",
        "colab": {
          "base_uri": "https://localhost:8080/"
        },
        "outputId": "4cfdb657-a0d2-4939-e3ae-dccce19c94b1"
      },
      "source": [
        "!git clone https://github.com/imadegunawinangun/NLP-Desi---Deteksi-Emosi"
      ],
      "execution_count": 2,
      "outputs": [
        {
          "output_type": "stream",
          "text": [
            "Cloning into 'NLP-Desi---Deteksi-Emosi'...\n",
            "remote: Enumerating objects: 38, done.\u001b[K\n",
            "remote: Counting objects: 100% (38/38), done.\u001b[K\n",
            "remote: Compressing objects: 100% (35/35), done.\u001b[K\n",
            "remote: Total 38 (delta 19), reused 14 (delta 3), pack-reused 0\u001b[K\n",
            "Unpacking objects: 100% (38/38), done.\n"
          ],
          "name": "stdout"
        }
      ]
    },
    {
      "cell_type": "code",
      "metadata": {
        "id": "967DPXh9yB0K",
        "colab": {
          "base_uri": "https://localhost:8080/"
        },
        "outputId": "e16ffbc8-65e6-453d-9557-05fee641c188"
      },
      "source": [
        "!ls NLP-Desi---Deteksi-Emosi"
      ],
      "execution_count": 3,
      "outputs": [
        {
          "output_type": "stream",
          "text": [
            "archive.zip  Desi_Detektor_Emosi.ipynb\t   LICENSE\n",
            "data.txt     imdb_indonesian_movies_2.csv  test.txt\n"
          ],
          "name": "stdout"
        }
      ]
    },
    {
      "cell_type": "code",
      "metadata": {
        "id": "MDkRfX0uy_tJ"
      },
      "source": [
        "import pandas as pd\n",
        "import os\n",
        "import numpy as np\n"
      ],
      "execution_count": 4,
      "outputs": []
    },
    {
      "cell_type": "code",
      "metadata": {
        "id": "_BLUFCQjzSS9",
        "colab": {
          "base_uri": "https://localhost:8080/"
        },
        "outputId": "e4251722-bc28-4e5c-8965-be6c1136906b"
      },
      "source": [
        "read_file = pd.read_csv (r'NLP-Desi---Deteksi-Emosi/data.txt',error_bad_lines=False,sep=';')\n",
        "read_file.to_csv ('NLP-Desi---Deteksi-Emosi/data.csv', index=None)"
      ],
      "execution_count": 5,
      "outputs": [
        {
          "output_type": "stream",
          "text": [
            "b'Skipping line 144: expected 2 fields, saw 3\\nSkipping line 163: expected 2 fields, saw 3\\nSkipping line 460: expected 2 fields, saw 3\\nSkipping line 496: expected 2 fields, saw 3\\nSkipping line 541: expected 2 fields, saw 3\\nSkipping line 557: expected 2 fields, saw 3\\nSkipping line 697: expected 2 fields, saw 3\\nSkipping line 882: expected 2 fields, saw 3\\nSkipping line 890: expected 2 fields, saw 3\\nSkipping line 908: expected 2 fields, saw 3\\nSkipping line 911: expected 2 fields, saw 3\\nSkipping line 1037: expected 2 fields, saw 3\\nSkipping line 1070: expected 2 fields, saw 3\\nSkipping line 1173: expected 2 fields, saw 3\\nSkipping line 1193: expected 2 fields, saw 3\\nSkipping line 1197: expected 2 fields, saw 3\\nSkipping line 1317: expected 2 fields, saw 3\\nSkipping line 1698: expected 2 fields, saw 3\\nSkipping line 1716: expected 2 fields, saw 3\\nSkipping line 1874: expected 2 fields, saw 3\\nSkipping line 2188: expected 2 fields, saw 3\\nSkipping line 2228: expected 2 fields, saw 3\\nSkipping line 2552: expected 2 fields, saw 3\\nSkipping line 2770: expected 2 fields, saw 3\\nSkipping line 2808: expected 2 fields, saw 3\\nSkipping line 3193: expected 2 fields, saw 3\\nSkipping line 3254: expected 2 fields, saw 3\\nSkipping line 3466: expected 2 fields, saw 3\\nSkipping line 3541: expected 2 fields, saw 3\\nSkipping line 3548: expected 2 fields, saw 3\\nSkipping line 3561: expected 2 fields, saw 3\\nSkipping line 3579: expected 2 fields, saw 3\\nSkipping line 3606: expected 2 fields, saw 3\\nSkipping line 3680: expected 2 fields, saw 3\\nSkipping line 3863: expected 2 fields, saw 3\\nSkipping line 3883: expected 2 fields, saw 3\\nSkipping line 3886: expected 2 fields, saw 3\\nSkipping line 4013: expected 2 fields, saw 3\\nSkipping line 4127: expected 2 fields, saw 3\\nSkipping line 4235: expected 2 fields, saw 3\\nSkipping line 4277: expected 2 fields, saw 3\\nSkipping line 4675: expected 2 fields, saw 3\\nSkipping line 4746: expected 2 fields, saw 3\\nSkipping line 4882: expected 2 fields, saw 3\\nSkipping line 4920: expected 2 fields, saw 3\\nSkipping line 5379: expected 2 fields, saw 3\\nSkipping line 5382: expected 2 fields, saw 3\\nSkipping line 5483: expected 2 fields, saw 3\\nSkipping line 5528: expected 2 fields, saw 3\\nSkipping line 5572: expected 2 fields, saw 3\\nSkipping line 5594: expected 2 fields, saw 3\\nSkipping line 5616: expected 2 fields, saw 3\\nSkipping line 5924: expected 2 fields, saw 3\\nSkipping line 6100: expected 2 fields, saw 3\\nSkipping line 6216: expected 2 fields, saw 3\\nSkipping line 6222: expected 2 fields, saw 3\\nSkipping line 6362: expected 2 fields, saw 3\\nSkipping line 6401: expected 2 fields, saw 3\\nSkipping line 6567: expected 2 fields, saw 3\\nSkipping line 6696: expected 2 fields, saw 3\\nSkipping line 6730: expected 2 fields, saw 3\\nSkipping line 6814: expected 2 fields, saw 3\\nSkipping line 7013: expected 2 fields, saw 3\\nSkipping line 7191: expected 2 fields, saw 3\\nSkipping line 7266: expected 2 fields, saw 3\\nSkipping line 7291: expected 2 fields, saw 3\\nSkipping line 7313: expected 2 fields, saw 3\\nSkipping line 7562: expected 2 fields, saw 3\\nSkipping line 7646: expected 2 fields, saw 3\\nSkipping line 7672: expected 2 fields, saw 3\\nSkipping line 7761: expected 2 fields, saw 3\\nSkipping line 7772: expected 2 fields, saw 3\\nSkipping line 7789: expected 2 fields, saw 3\\nSkipping line 7877: expected 2 fields, saw 3\\nSkipping line 7938: expected 2 fields, saw 3\\nSkipping line 8130: expected 2 fields, saw 3\\nSkipping line 8310: expected 2 fields, saw 3\\nSkipping line 8316: expected 2 fields, saw 3\\nSkipping line 8516: expected 2 fields, saw 3\\nSkipping line 8612: expected 2 fields, saw 3\\nSkipping line 8756: expected 2 fields, saw 3\\nSkipping line 8886: expected 2 fields, saw 3\\nSkipping line 8916: expected 2 fields, saw 3\\nSkipping line 9219: expected 2 fields, saw 3\\nSkipping line 9424: expected 2 fields, saw 3\\nSkipping line 9470: expected 2 fields, saw 3\\nSkipping line 9812: expected 2 fields, saw 3\\nSkipping line 9814: expected 2 fields, saw 3\\nSkipping line 9828: expected 2 fields, saw 3\\nSkipping line 10029: expected 2 fields, saw 3\\nSkipping line 10054: expected 2 fields, saw 3\\nSkipping line 10119: expected 2 fields, saw 3\\nSkipping line 10185: expected 2 fields, saw 3\\nSkipping line 10221: expected 2 fields, saw 3\\nSkipping line 10227: expected 2 fields, saw 3\\nSkipping line 10323: expected 2 fields, saw 3\\nSkipping line 10618: expected 2 fields, saw 3\\nSkipping line 10622: expected 2 fields, saw 3\\nSkipping line 10920: expected 2 fields, saw 3\\nSkipping line 10948: expected 2 fields, saw 3\\nSkipping line 10961: expected 2 fields, saw 3\\nSkipping line 11285: expected 2 fields, saw 3\\nSkipping line 11375: expected 2 fields, saw 3\\nSkipping line 11517: expected 2 fields, saw 3\\nSkipping line 11646: expected 2 fields, saw 3\\nSkipping line 11742: expected 2 fields, saw 3\\nSkipping line 11803: expected 2 fields, saw 3\\nSkipping line 11843: expected 2 fields, saw 3\\nSkipping line 11854: expected 2 fields, saw 3\\nSkipping line 11874: expected 2 fields, saw 3\\nSkipping line 11946: expected 2 fields, saw 3\\nSkipping line 12263: expected 2 fields, saw 3\\nSkipping line 12818: expected 2 fields, saw 3\\nSkipping line 12855: expected 2 fields, saw 3\\nSkipping line 13014: expected 2 fields, saw 3\\nSkipping line 13089: expected 2 fields, saw 3\\nSkipping line 13359: expected 2 fields, saw 3\\nSkipping line 13400: expected 2 fields, saw 3\\nSkipping line 13456: expected 2 fields, saw 3\\nSkipping line 13481: expected 2 fields, saw 3\\nSkipping line 13496: expected 2 fields, saw 3\\nSkipping line 13632: expected 2 fields, saw 3\\nSkipping line 13770: expected 2 fields, saw 3\\nSkipping line 13819: expected 2 fields, saw 3\\nSkipping line 14032: expected 2 fields, saw 3\\nSkipping line 14440: expected 2 fields, saw 3\\nSkipping line 14456: expected 2 fields, saw 3\\nSkipping line 14668: expected 2 fields, saw 3\\nSkipping line 14844: expected 2 fields, saw 3\\nSkipping line 14919: expected 2 fields, saw 3\\nSkipping line 14992: expected 2 fields, saw 3\\nSkipping line 15144: expected 2 fields, saw 3\\nSkipping line 15162: expected 2 fields, saw 3\\nSkipping line 15244: expected 2 fields, saw 3\\nSkipping line 15325: expected 2 fields, saw 3\\nSkipping line 15368: expected 2 fields, saw 3\\nSkipping line 15369: expected 2 fields, saw 3\\nSkipping line 15398: expected 2 fields, saw 3\\nSkipping line 15502: expected 2 fields, saw 3\\nSkipping line 15556: expected 2 fields, saw 3\\nSkipping line 15588: expected 2 fields, saw 3\\nSkipping line 15923: expected 2 fields, saw 3\\n'\n"
          ],
          "name": "stderr"
        }
      ]
    },
    {
      "cell_type": "code",
      "metadata": {
        "id": "s6YuBztG0nmk",
        "colab": {
          "base_uri": "https://localhost:8080/",
          "height": 521
        },
        "outputId": "122213ea-4090-4f81-89a7-42d62e477a67"
      },
      "source": [
        "datadir = 'NLP-Desi---Deteksi-Emosi/'\n",
        "columns = ['kalimat', 'emosi']\n",
        "data = pd.read_csv(os.path.join(datadir, 'data.csv'), names = columns)\n",
        "#data['emosi']=data['emosi'].astype(\"category\")\n",
        "pd.set_option('display.max_colwidth', -1)\n",
        "data"
      ],
      "execution_count": 6,
      "outputs": [
        {
          "output_type": "stream",
          "text": [
            "/usr/local/lib/python3.7/dist-packages/ipykernel_launcher.py:5: FutureWarning: Passing a negative integer is deprecated in version 1.0 and will not be supported in future version. Instead, use None to not limit the column width.\n",
            "  \"\"\"\n"
          ],
          "name": "stderr"
        },
        {
          "output_type": "execute_result",
          "data": {
            "text/html": [
              "<div>\n",
              "<style scoped>\n",
              "    .dataframe tbody tr th:only-of-type {\n",
              "        vertical-align: middle;\n",
              "    }\n",
              "\n",
              "    .dataframe tbody tr th {\n",
              "        vertical-align: top;\n",
              "    }\n",
              "\n",
              "    .dataframe thead th {\n",
              "        text-align: right;\n",
              "    }\n",
              "</style>\n",
              "<table border=\"1\" class=\"dataframe\">\n",
              "  <thead>\n",
              "    <tr style=\"text-align: right;\">\n",
              "      <th></th>\n",
              "      <th>kalimat</th>\n",
              "      <th>emosi</th>\n",
              "    </tr>\n",
              "  </thead>\n",
              "  <tbody>\n",
              "    <tr>\n",
              "      <th>0</th>\n",
              "      <td>saya tidak merasa terhina</td>\n",
              "      <td>kesedihan</td>\n",
              "    </tr>\n",
              "    <tr>\n",
              "      <th>1</th>\n",
              "      <td>saya bisa berubah dari merasa sangat putus asa menjadi sangat berharap hanya dari berada di sekitar seseorang yang peduli dan terjaga</td>\n",
              "      <td>kesedihan</td>\n",
              "    </tr>\n",
              "    <tr>\n",
              "      <th>2</th>\n",
              "      <td>saya mengambil waktu sebentar untuk memposting saya merasa serakah salah</td>\n",
              "      <td>kemarahan</td>\n",
              "    </tr>\n",
              "    <tr>\n",
              "      <th>3</th>\n",
              "      <td>saya pernah merasa nostalgia tentang perapian saya akan tahu bahwa itu masih di properti</td>\n",
              "      <td>cinta</td>\n",
              "    </tr>\n",
              "    <tr>\n",
              "      <th>4</th>\n",
              "      <td>saya merasa kesal</td>\n",
              "      <td>kemarahan</td>\n",
              "    </tr>\n",
              "    <tr>\n",
              "      <th>...</th>\n",
              "      <td>...</td>\n",
              "      <td>...</td>\n",
              "    </tr>\n",
              "    <tr>\n",
              "      <th>15853</th>\n",
              "      <td>saya hanya memiliki waktu yang sangat singkat di beanbag dan saya berkata kepada anna bahwa saya merasa seperti saya telah dipukuli</td>\n",
              "      <td>kesedihan</td>\n",
              "    </tr>\n",
              "    <tr>\n",
              "      <th>15854</th>\n",
              "      <td>saya sekarang berbalik dan saya merasa menyedihkan bahwa saya masih menunggu meja dan subbing dengan gelar mengajar</td>\n",
              "      <td>kesedihan</td>\n",
              "    </tr>\n",
              "    <tr>\n",
              "      <th>15855</th>\n",
              "      <td>saya merasa kuat dan baik secara keseluruhan</td>\n",
              "      <td>kegembiraan</td>\n",
              "    </tr>\n",
              "    <tr>\n",
              "      <th>15856</th>\n",
              "      <td>Saya merasa ini adalah komentar yang kasar dan saya senang bahwa t</td>\n",
              "      <td>kemarahan</td>\n",
              "    </tr>\n",
              "    <tr>\n",
              "      <th>15857</th>\n",
              "      <td>saya tahu banyak tapi saya merasa sangat bodoh karena saya tidak bisa menggambarkannya</td>\n",
              "      <td>kesedihan</td>\n",
              "    </tr>\n",
              "  </tbody>\n",
              "</table>\n",
              "<p>15858 rows × 2 columns</p>\n",
              "</div>"
            ],
            "text/plain": [
              "                                                                                                                                     kalimat        emosi\n",
              "0      saya tidak merasa terhina                                                                                                              kesedihan  \n",
              "1      saya bisa berubah dari merasa sangat putus asa menjadi sangat berharap hanya dari berada di sekitar seseorang yang peduli dan terjaga  kesedihan  \n",
              "2      saya mengambil waktu sebentar untuk memposting saya merasa serakah salah                                                               kemarahan  \n",
              "3      saya pernah merasa nostalgia tentang perapian saya akan tahu bahwa itu masih di properti                                               cinta      \n",
              "4      saya merasa kesal                                                                                                                      kemarahan  \n",
              "...                  ...                                                                                                                            ...  \n",
              "15853  saya hanya memiliki waktu yang sangat singkat di beanbag dan saya berkata kepada anna bahwa saya merasa seperti saya telah dipukuli    kesedihan  \n",
              "15854  saya sekarang berbalik dan saya merasa menyedihkan bahwa saya masih menunggu meja dan subbing dengan gelar mengajar                    kesedihan  \n",
              "15855  saya merasa kuat dan baik secara keseluruhan                                                                                           kegembiraan\n",
              "15856  Saya merasa ini adalah komentar yang kasar dan saya senang bahwa t                                                                     kemarahan  \n",
              "15857  saya tahu banyak tapi saya merasa sangat bodoh karena saya tidak bisa menggambarkannya                                                 kesedihan  \n",
              "\n",
              "[15858 rows x 2 columns]"
            ]
          },
          "metadata": {
            "tags": []
          },
          "execution_count": 6
        }
      ]
    },
    {
      "cell_type": "code",
      "metadata": {
        "id": "IRlH0Fyas27x",
        "colab": {
          "base_uri": "https://localhost:8080/",
          "height": 282
        },
        "outputId": "3af42e88-696f-4372-d100-aaf4bc17e42d"
      },
      "source": [
        "data.emosi.value_counts().sort_values().plot(kind = 'barh')"
      ],
      "execution_count": 7,
      "outputs": [
        {
          "output_type": "execute_result",
          "data": {
            "text/plain": [
              "<matplotlib.axes._subplots.AxesSubplot at 0x7fbdf8dec050>"
            ]
          },
          "metadata": {
            "tags": []
          },
          "execution_count": 7
        },
        {
          "output_type": "display_data",
          "data": {
            "image/png": "[encoded data removed]",
            "text/plain": [
              "<Figure size 432x288 with 1 Axes>"
            ]
          },
          "metadata": {
            "tags": [],
            "needs_background": "light"
          }
        }
      ]
    },
    {
      "cell_type": "code",
      "metadata": {
        "id": "L1kFtt3fxVc0"
      },
      "source": [
        "from sklearn.utils import shuffle\n",
        "\n",
        "def data_balancing(data, samples_per_bin ):\n",
        "  print('total data:', len(data))\n",
        "  remove_list = []\n",
        "  for j in range(1):\n",
        "    list_ = []\n",
        "    for i in range(len(data)):\n",
        "      list_.append(i)\n",
        "\n",
        "    list_ = shuffle(list_)\n",
        "    list_ = list_[samples_per_bin:]\n",
        "    remove_list.extend(list_)\n",
        "  list_ = []\n",
        "  list_.append(data)\n",
        "  list_ = shuffle(list_)\n",
        "  list_ = list_[samples_per_bin:]\n",
        "  remove_list.extend(list_)\n",
        "  print('removed:', len(remove_list))\n",
        "  data_=data.copy()\n",
        "  data_.drop(data_.index[remove_list], inplace=True)\n",
        "  print('remaining:', len(data_))\n",
        "  return data_"
      ],
      "execution_count": 8,
      "outputs": []
    },
    {
      "cell_type": "code",
      "metadata": {
        "id": "878H8z_HOc0v",
        "outputId": "d51c0b7a-3d2d-4581-a035-45e9cec5141a",
        "colab": {
          "base_uri": "https://localhost:8080/",
          "height": 534
        }
      },
      "source": [
        "data.loc[data['emosi'] == 'kejutan']\n",
        "df = pd.concat([data_balancing(data.loc[data['emosi'] == 'kesedihan'],1000), \n",
        "                data_balancing(data.loc[data['emosi'] == 'kegembiraan'],1000),\n",
        "                data_balancing(data.loc[data['emosi'] == 'kemarahan'],1000),\n",
        "                data_balancing(data.loc[data['emosi'] == 'ketakutan'],1000),\n",
        "                data_balancing(data.loc[data['emosi'] == 'cinta'],1000)], \n",
        "               sort=True)\n",
        "df['emosi']=df['emosi'].astype(\"category\")\n",
        "df.emosi.value_counts().plot(kind = 'barh')\n"
      ],
      "execution_count": 9,
      "outputs": [
        {
          "output_type": "stream",
          "text": [
            "total data: 5094\n",
            "removed: 4094\n",
            "remaining: 1000\n",
            "total data: 4739\n",
            "removed: 3739\n",
            "remaining: 1000\n",
            "total data: 2096\n",
            "removed: 1096\n",
            "remaining: 1000\n",
            "total data: 1886\n",
            "removed: 886\n",
            "remaining: 1000\n",
            "total data: 1266\n",
            "removed: 266\n",
            "remaining: 1000\n"
          ],
          "name": "stdout"
        },
        {
          "output_type": "execute_result",
          "data": {
            "text/plain": [
              "<matplotlib.axes._subplots.AxesSubplot at 0x7fbde364e290>"
            ]
          },
          "metadata": {
            "tags": []
          },
          "execution_count": 9
        },
        {
          "output_type": "display_data",
          "data": {
            "image/png": "[encoded data removed]",
            "text/plain": [
              "<Figure size 432x288 with 1 Axes>"
            ]
          },
          "metadata": {
            "tags": [],
            "needs_background": "light"
          }
        }
      ]
    },
    {
      "cell_type": "code",
      "metadata": {
        "colab": {
          "base_uri": "https://localhost:8080/",
          "height": 702
        },
        "id": "0bCGXCNw6lPu",
        "outputId": "849fe607-9802-411f-d362-5fb5ec5bf184"
      },
      "source": [
        "category = pd.get_dummies(df.emosi)\n",
        "df_baru = pd.concat([df, category], axis=1)\n",
        "df_baru = df_baru.drop(columns='emosi')\n",
        "df_baru"
      ],
      "execution_count": 10,
      "outputs": [
        {
          "output_type": "execute_result",
          "data": {
            "text/html": [
              "<div>\n",
              "<style scoped>\n",
              "    .dataframe tbody tr th:only-of-type {\n",
              "        vertical-align: middle;\n",
              "    }\n",
              "\n",
              "    .dataframe tbody tr th {\n",
              "        vertical-align: top;\n",
              "    }\n",
              "\n",
              "    .dataframe thead th {\n",
              "        text-align: right;\n",
              "    }\n",
              "</style>\n",
              "<table border=\"1\" class=\"dataframe\">\n",
              "  <thead>\n",
              "    <tr style=\"text-align: right;\">\n",
              "      <th></th>\n",
              "      <th>kalimat</th>\n",
              "      <th>cinta</th>\n",
              "      <th>kegembiraan</th>\n",
              "      <th>kemarahan</th>\n",
              "      <th>kesedihan</th>\n",
              "      <th>ketakutan</th>\n",
              "    </tr>\n",
              "  </thead>\n",
              "  <tbody>\n",
              "    <tr>\n",
              "      <th>16</th>\n",
              "      <td>saya tidak benar-benar merasa malu</td>\n",
              "      <td>0</td>\n",
              "      <td>0</td>\n",
              "      <td>0</td>\n",
              "      <td>1</td>\n",
              "      <td>0</td>\n",
              "    </tr>\n",
              "    <tr>\n",
              "      <th>18</th>\n",
              "      <td>saya mulai merasa sentimental tentang boneka yang saya miliki sebagai seorang anak dan mulai koleksi boneka barbie vintage dari tahun enam puluhan</td>\n",
              "      <td>0</td>\n",
              "      <td>0</td>\n",
              "      <td>0</td>\n",
              "      <td>1</td>\n",
              "      <td>0</td>\n",
              "    </tr>\n",
              "    <tr>\n",
              "      <th>25</th>\n",
              "      <td>saya masih mencintai saya dan berharap yang terbaik untuknya saya tidak bisa lagi mentolerir efek yang dimiliki bm pada kehidupan kita dan fakta yang telah mengubah saya menjadi orang yang pemarah pahit yang tidak selalu sangat baik kepada orang-orang di sekitarnya ketika dia merasa stres</td>\n",
              "      <td>0</td>\n",
              "      <td>0</td>\n",
              "      <td>0</td>\n",
              "      <td>1</td>\n",
              "      <td>0</td>\n",
              "    </tr>\n",
              "    <tr>\n",
              "      <th>40</th>\n",
              "      <td>saya berencana untuk berbagi cerita kehidupan sehari-hari saya inspirasi petualangan perjalanan dan kreasi buatan tangan dengan Anda dan berharap Anda juga akan merasa terinspirasi</td>\n",
              "      <td>0</td>\n",
              "      <td>0</td>\n",
              "      <td>0</td>\n",
              "      <td>1</td>\n",
              "      <td>0</td>\n",
              "    </tr>\n",
              "    <tr>\n",
              "      <th>70</th>\n",
              "      <td>saya merasa sengsara tetapi saya juga ibu paling bangga di bumi</td>\n",
              "      <td>0</td>\n",
              "      <td>0</td>\n",
              "      <td>0</td>\n",
              "      <td>1</td>\n",
              "      <td>0</td>\n",
              "    </tr>\n",
              "    <tr>\n",
              "      <th>...</th>\n",
              "      <td>...</td>\n",
              "      <td>...</td>\n",
              "      <td>...</td>\n",
              "      <td>...</td>\n",
              "      <td>...</td>\n",
              "      <td>...</td>\n",
              "    </tr>\n",
              "    <tr>\n",
              "      <th>15772</th>\n",
              "      <td>saya bagian pada dasarnya mereka merasa simpatik sedikit terlambat menurut pendapat saya hachi bergegas untuk menemukan bahwa nobu sedang mencoba untuk membantu nana dengan meniup ke dalam kantong kertas</td>\n",
              "      <td>1</td>\n",
              "      <td>0</td>\n",
              "      <td>0</td>\n",
              "      <td>0</td>\n",
              "      <td>0</td>\n",
              "    </tr>\n",
              "    <tr>\n",
              "      <th>15794</th>\n",
              "      <td>Saya lebih baik dari perasaan Anda yang lain tetapi perasaan diterima</td>\n",
              "      <td>1</td>\n",
              "      <td>0</td>\n",
              "      <td>0</td>\n",
              "      <td>0</td>\n",
              "      <td>0</td>\n",
              "    </tr>\n",
              "    <tr>\n",
              "      <th>15816</th>\n",
              "      <td>Saya merasa akan ada sekuel dan saya ingin menutup akhir buku ini</td>\n",
              "      <td>1</td>\n",
              "      <td>0</td>\n",
              "      <td>0</td>\n",
              "      <td>0</td>\n",
              "      <td>0</td>\n",
              "    </tr>\n",
              "    <tr>\n",
              "      <th>15829</th>\n",
              "      <td>saya merasa itu tidak akan mencintai saya tidak memperingatkan Anda tentang krisis sosial yang akan datang yang dihadapi montana</td>\n",
              "      <td>1</td>\n",
              "      <td>0</td>\n",
              "      <td>0</td>\n",
              "      <td>0</td>\n",
              "      <td>0</td>\n",
              "    </tr>\n",
              "    <tr>\n",
              "      <th>15852</th>\n",
              "      <td>saya merasa sangat simpatik terhadap mereka</td>\n",
              "      <td>1</td>\n",
              "      <td>0</td>\n",
              "      <td>0</td>\n",
              "      <td>0</td>\n",
              "      <td>0</td>\n",
              "    </tr>\n",
              "  </tbody>\n",
              "</table>\n",
              "<p>5000 rows × 6 columns</p>\n",
              "</div>"
            ],
            "text/plain": [
              "                                                                                                                                                                                                                                                                                                 kalimat  ...  ketakutan\n",
              "16     saya tidak benar-benar merasa malu                                                                                                                                                                                                                                                                 ...  0        \n",
              "18     saya mulai merasa sentimental tentang boneka yang saya miliki sebagai seorang anak dan mulai koleksi boneka barbie vintage dari tahun enam puluhan                                                                                                                                                 ...  0        \n",
              "25     saya masih mencintai saya dan berharap yang terbaik untuknya saya tidak bisa lagi mentolerir efek yang dimiliki bm pada kehidupan kita dan fakta yang telah mengubah saya menjadi orang yang pemarah pahit yang tidak selalu sangat baik kepada orang-orang di sekitarnya ketika dia merasa stres  ...  0        \n",
              "40     saya berencana untuk berbagi cerita kehidupan sehari-hari saya inspirasi petualangan perjalanan dan kreasi buatan tangan dengan Anda dan berharap Anda juga akan merasa terinspirasi                                                                                                               ...  0        \n",
              "70     saya merasa sengsara tetapi saya juga ibu paling bangga di bumi                                                                                                                                                                                                                                    ...  0        \n",
              "...                                                                ...                                                                                                                                                                                                                                    ... ..        \n",
              "15772  saya bagian pada dasarnya mereka merasa simpatik sedikit terlambat menurut pendapat saya hachi bergegas untuk menemukan bahwa nobu sedang mencoba untuk membantu nana dengan meniup ke dalam kantong kertas                                                                                        ...  0        \n",
              "15794  Saya lebih baik dari perasaan Anda yang lain tetapi perasaan diterima                                                                                                                                                                                                                              ...  0        \n",
              "15816  Saya merasa akan ada sekuel dan saya ingin menutup akhir buku ini                                                                                                                                                                                                                                  ...  0        \n",
              "15829  saya merasa itu tidak akan mencintai saya tidak memperingatkan Anda tentang krisis sosial yang akan datang yang dihadapi montana                                                                                                                                                                   ...  0        \n",
              "15852  saya merasa sangat simpatik terhadap mereka                                                                                                                                                                                                                                                        ...  0        \n",
              "\n",
              "[5000 rows x 6 columns]"
            ]
          },
          "metadata": {
            "tags": []
          },
          "execution_count": 10
        }
      ]
    },
    {
      "cell_type": "code",
      "metadata": {
        "id": "nRMmIT2e2WSI"
      },
      "source": [
        "def load_img_steering(df):\n",
        "  teks = []\n",
        "  label = []\n",
        "  for i in range(len(df)):\n",
        "    indexed_data = df.iloc[i]\n",
        "    teks.append((indexed_data[0]))\n",
        "    label.append(indexed_data[[1, 2, 3, 4, 5]] )\n",
        "    # left image append\n",
        "    #image_path.append(os.path.join(datadir,left.strip()))\n",
        "    #steering.append(float(indexed_data[3])+0.15)\n",
        "    # right image append\n",
        "    #image_path.append(os.path.join(datadir,right.strip()))\n",
        "    #steering.append(float(indexed_data[3])-0.15)\n",
        "  data_teks = np.asarray(teks)\n",
        "  label_teks = np.asarray(label)\n",
        "  return   data_teks , label_teks\n",
        " \n",
        "data_teks, label_teks = load_img_steering(df_baru)\n"
      ],
      "execution_count": 11,
      "outputs": []
    },
    {
      "cell_type": "code",
      "metadata": {
        "colab": {
          "base_uri": "https://localhost:8080/"
        },
        "id": "W0XFIV7O6Rob",
        "outputId": "59f68f23-d3a7-47de-e7f5-3927f39f3ab6"
      },
      "source": [
        "data_teks"
      ],
      "execution_count": 12,
      "outputs": [
        {
          "output_type": "execute_result",
          "data": {
            "text/plain": [
              "array(['saya tidak benar-benar merasa malu',\n",
              "       'saya mulai merasa sentimental tentang boneka yang saya miliki sebagai seorang anak dan mulai koleksi boneka barbie vintage dari tahun enam puluhan',\n",
              "       'saya masih mencintai saya dan berharap yang terbaik untuknya saya tidak bisa lagi mentolerir efek yang dimiliki bm pada kehidupan kita dan fakta yang telah mengubah saya menjadi orang yang pemarah pahit yang tidak selalu sangat baik kepada orang-orang di sekitarnya ketika dia merasa stres',\n",
              "       ...,\n",
              "       'Saya merasa akan ada sekuel dan saya ingin menutup akhir buku ini',\n",
              "       'saya merasa itu tidak akan mencintai saya tidak memperingatkan Anda tentang krisis sosial yang akan datang yang dihadapi montana',\n",
              "       'saya merasa sangat simpatik terhadap mereka'], dtype='<U403')"
            ]
          },
          "metadata": {
            "tags": []
          },
          "execution_count": 12
        }
      ]
    },
    {
      "cell_type": "code",
      "metadata": {
        "id": "PZntTDn69gTX",
        "colab": {
          "base_uri": "https://localhost:8080/"
        },
        "outputId": "437f784a-b07f-40f0-8fe8-87e0b4f770a6"
      },
      "source": [
        "label_teks = np.array(label_teks, dtype=np.int32)\n",
        "label_teks"
      ],
      "execution_count": 13,
      "outputs": [
        {
          "output_type": "execute_result",
          "data": {
            "text/plain": [
              "array([[0, 0, 0, 1, 0],\n",
              "       [0, 0, 0, 1, 0],\n",
              "       [0, 0, 0, 1, 0],\n",
              "       ...,\n",
              "       [1, 0, 0, 0, 0],\n",
              "       [1, 0, 0, 0, 0],\n",
              "       [1, 0, 0, 0, 0]], dtype=int32)"
            ]
          },
          "metadata": {
            "tags": []
          },
          "execution_count": 13
        }
      ]
    },
    {
      "cell_type": "code",
      "metadata": {
        "id": "ouKVPok0coEV",
        "outputId": "0697fc33-8335-4625-c45f-5c6c9518af1a",
        "colab": {
          "base_uri": "https://localhost:8080/"
        }
      },
      "source": [
        "label_teks.shape"
      ],
      "execution_count": 14,
      "outputs": [
        {
          "output_type": "execute_result",
          "data": {
            "text/plain": [
              "(5000, 5)"
            ]
          },
          "metadata": {
            "tags": []
          },
          "execution_count": 14
        }
      ]
    },
    {
      "cell_type": "code",
      "metadata": {
        "id": "eT8AvFrOMVGC"
      },
      "source": [
        "from sklearn.model_selection import train_test_split\n",
        "\n",
        "kalimat_latih, kalimat_test, y_latih, y_test = train_test_split(data_teks, label_teks, test_size=0.2)"
      ],
      "execution_count": 15,
      "outputs": []
    },
    {
      "cell_type": "code",
      "metadata": {
        "id": "QvHGllPIyEah"
      },
      "source": [
        "from tensorflow.keras.preprocessing.text import Tokenizer\n",
        "from tensorflow.keras.preprocessing.sequence import pad_sequences\n",
        "num_words = 10000\n",
        "tokenizer = Tokenizer(num_words, oov_token='*')\n",
        "tokenizer.fit_on_texts(kalimat_latih) \n",
        "tokenizer.fit_on_texts(kalimat_test)\n",
        " \n",
        "x_train_tokens = tokenizer.texts_to_sequences(kalimat_latih)\n",
        "x_valid_tokens = tokenizer.texts_to_sequences(kalimat_test)\n",
        "\n",
        "x_train_padded = pad_sequences(x_train_tokens) \n",
        "x_valid_padded = pad_sequences(x_valid_tokens)\n"
      ],
      "execution_count": 16,
      "outputs": []
    },
    {
      "cell_type": "code",
      "metadata": {
        "id": "1kty_l5P5U3-"
      },
      "source": [
        "num_tokens = [len(tokens) for tokens in x_train_tokens + x_valid_tokens]\n",
        "num_tokens = np.array(num_tokens)"
      ],
      "execution_count": 17,
      "outputs": []
    },
    {
      "cell_type": "code",
      "metadata": {
        "colab": {
          "base_uri": "https://localhost:8080/"
        },
        "id": "3oSPcLqN5cEV",
        "outputId": "b3cbb40c-e3a8-4e39-902e-97d310515a11"
      },
      "source": [
        "np.mean(num_tokens)"
      ],
      "execution_count": 18,
      "outputs": [
        {
          "output_type": "execute_result",
          "data": {
            "text/plain": [
              "17.61"
            ]
          },
          "metadata": {
            "tags": []
          },
          "execution_count": 18
        }
      ]
    },
    {
      "cell_type": "code",
      "metadata": {
        "colab": {
          "base_uri": "https://localhost:8080/"
        },
        "id": "B2iCb6-n5d_j",
        "outputId": "c07c4627-faa1-4682-b479-9eededa6cfdd"
      },
      "source": [
        "np.max(num_tokens)"
      ],
      "execution_count": 19,
      "outputs": [
        {
          "output_type": "execute_result",
          "data": {
            "text/plain": [
              "67"
            ]
          },
          "metadata": {
            "tags": []
          },
          "execution_count": 19
        }
      ]
    },
    {
      "cell_type": "code",
      "metadata": {
        "colab": {
          "base_uri": "https://localhost:8080/"
        },
        "id": "5GvhBddd5kLg",
        "outputId": "f91ea072-ae4b-4c83-c2af-0977ecaee09d"
      },
      "source": [
        "max_tokens = np.mean(num_tokens) + 2 * np.std(num_tokens)\n",
        "max_tokens = int(max_tokens)\n",
        "max_tokens"
      ],
      "execution_count": 20,
      "outputs": [
        {
          "output_type": "execute_result",
          "data": {
            "text/plain": [
              "37"
            ]
          },
          "metadata": {
            "tags": []
          },
          "execution_count": 20
        }
      ]
    },
    {
      "cell_type": "code",
      "metadata": {
        "colab": {
          "base_uri": "https://localhost:8080/"
        },
        "id": "q05eKTPS5nc_",
        "outputId": "6d0d70f4-be0b-4fa1-8687-858e6321d7f2"
      },
      "source": [
        "np.sum(num_tokens < max_tokens) / len(num_tokens)"
      ],
      "execution_count": 21,
      "outputs": [
        {
          "output_type": "execute_result",
          "data": {
            "text/plain": [
              "0.946"
            ]
          },
          "metadata": {
            "tags": []
          },
          "execution_count": 21
        }
      ]
    },
    {
      "cell_type": "code",
      "metadata": {
        "colab": {
          "base_uri": "https://localhost:8080/"
        },
        "id": "TKCyxImU2ipc",
        "outputId": "31157ad4-00e5-4114-9693-a211bfc8be93"
      },
      "source": [
        "print(kalimat_latih[0])\n",
        "print(np.array(x_train_tokens[0]))\n",
        "print(np.array(x_train_padded[0]))\n",
        "print(np.array(tokenizer.sequences_to_texts(x_train_padded)[0]))"
      ],
      "execution_count": 22,
      "outputs": [
        {
          "output_type": "stream",
          "text": [
            "saya merasa sejuk dan santai setelah menikmati master yang luar biasa ini\n",
            "[   2    3 2247    4  489  122  328 1125    5   92  105   11]\n",
            "[   0    0    0    0    0    0    0    0    0    0    0    0    0    0\n",
            "    0    0    0    0    0    0    0    0    0    0    0    0    0    0\n",
            "    0    0    0    0    0    0    0    0    0    0    0    0    0    0\n",
            "    0    0    0    0    0    0    0    0    0    0    0    0    0    2\n",
            "    3 2247    4  489  122  328 1125    5   92  105   11]\n",
            "* * * * * * * * * * * * * * * * * * * * * * * * * * * * * * * * * * * * * * * * * * * * * * * * * * * * * * * saya merasa sejuk dan santai setelah menikmati master yang luar biasa ini\n"
          ],
          "name": "stdout"
        }
      ]
    },
    {
      "cell_type": "code",
      "metadata": {
        "id": "_j5BmnnOHti0",
        "colab": {
          "base_uri": "https://localhost:8080/"
        },
        "outputId": "a5214f88-893d-4019-9ab4-721f38022e8a"
      },
      "source": [
        "pip install -q -U keras-tuner\n"
      ],
      "execution_count": 23,
      "outputs": [
        {
          "output_type": "stream",
          "text": [
            "\u001b[?25l\r\u001b[K     |███▍                            | 10 kB 21.7 MB/s eta 0:00:01\r\u001b[K     |██████▉                         | 20 kB 26.1 MB/s eta 0:00:01\r\u001b[K     |██████████▏                     | 30 kB 28.1 MB/s eta 0:00:01\r\u001b[K     |█████████████▋                  | 40 kB 21.2 MB/s eta 0:00:01\r\u001b[K     |█████████████████               | 51 kB 16.3 MB/s eta 0:00:01\r\u001b[K     |████████████████████▍           | 61 kB 11.5 MB/s eta 0:00:01\r\u001b[K     |███████████████████████▊        | 71 kB 12.8 MB/s eta 0:00:01\r\u001b[K     |███████████████████████████▏    | 81 kB 12.7 MB/s eta 0:00:01\r\u001b[K     |██████████████████████████████▋ | 92 kB 12.4 MB/s eta 0:00:01\r\u001b[K     |████████████████████████████████| 96 kB 3.5 MB/s \n",
            "\u001b[?25h  Building wheel for kt-legacy (setup.py) ... \u001b[?25l\u001b[?25hdone\n"
          ],
          "name": "stdout"
        }
      ]
    },
    {
      "cell_type": "code",
      "metadata": {
        "id": "lXrbBRZLHxwc",
        "colab": {
          "base_uri": "https://localhost:8080/"
        },
        "outputId": "03f17dbc-1fb8-4743-a846-08ceb46aefb8"
      },
      "source": [
        "import kerastuner.tuners as kt\n"
      ],
      "execution_count": 24,
      "outputs": [
        {
          "output_type": "stream",
          "text": [
            "/usr/local/lib/python3.7/dist-packages/ipykernel_launcher.py:1: DeprecationWarning: `import kerastuner` is deprecated, please use `import keras_tuner`.\n",
            "  \"\"\"Entry point for launching an IPython kernel.\n"
          ],
          "name": "stderr"
        }
      ]
    },
    {
      "cell_type": "code",
      "metadata": {
        "id": "BnrT-d1myNsq"
      },
      "source": [
        "import tensorflow as tf\n",
        "\n",
        "def model_rnn1(hp):\n",
        "  model = tf.keras.Sequential()\n",
        "  model.add(tf.keras.layers.Embedding(num_words, hp.Int(\"Output Embed\",min_value= 64, max_value = 256, step= 64), input_length=max_tokens,name='layer_embedding'))\n",
        "  model.add(tf.keras.layers.LSTM(hp.Int(\"LSTM\",min_value= 64, max_value = 256, step= 64)))\n",
        "\n",
        "  for i in range(hp.Int(\"Dense Layers\", min_value=1, max_value=3)):\n",
        "      model.add(tf.keras.layers.Dense(hp.Int(f\"Dense_{i}_layer\", min_value= 64, max_value = 256, step= 64), \n",
        "                                   activation='relu'))\n",
        "\n",
        "  model.add(tf.keras.layers.Dense(5, activation='softmax'))\n",
        "  model.compile(loss='categorical_crossentropy', optimizer=tf.keras.optimizers.Adam(hp.Choice(f\"learning_rate\", [ 3e-4,1e-3])),metrics=['accuracy'])\n",
        "  return model\n",
        "def model_rnn():\n",
        "  model = tf.keras.Sequential()\n",
        "  model.add(tf.keras.layers.Embedding(num_words, 8, input_length=max_tokens,name='layer_embedding'))\n",
        "  model.add(tf.keras.layers.LSTM(64))\n",
        "  model.add(tf.keras.layers.Dense(64, activation='relu'))\n",
        "  model.add(tf.keras.layers.Dense(64, activation='relu'))\n",
        "\n",
        "\n",
        "  model.add(tf.keras.layers.Dense(5, activation='softmax'))\n",
        "  model.compile(loss='categorical_crossentropy', optimizer=tf.keras.optimizers.Adam(1e-4),metrics=['accuracy'])\n",
        "  return model\n"
      ],
      "execution_count": 25,
      "outputs": []
    },
    {
      "cell_type": "code",
      "metadata": {
        "id": "Hew4ez7nI3bI"
      },
      "source": [
        "class myCallback(tf.keras.callbacks.Callback):\n",
        "\n",
        "  def on_epoch_end(self, epoch, logs={}):\n",
        "\n",
        "    if(logs.get('accuracy') > 0.90 and logs.get('val_accuracy') > 0.90 ):  \n",
        "\n",
        "\n",
        "      print(\"\\nAkurasi telah mencapai >90%!\")\n",
        "\n",
        "      self.model.stop_training = True\n",
        "\n",
        "callbacks90 = myCallback()"
      ],
      "execution_count": 26,
      "outputs": []
    },
    {
      "cell_type": "code",
      "metadata": {
        "id": "Ts-_PaLJKyan",
        "colab": {
          "base_uri": "https://localhost:8080/"
        },
        "outputId": "3091ee8c-18be-4758-d42e-c89b2f81301a"
      },
      "source": [
        "class MyTuner(kt.RandomSearch):\n",
        "  def run_trial(self, trial, *args, **kwargs):\n",
        "    # You can add additional HyperParameters for preprocessing and custom training loops\n",
        "    # via overriding `run_trial`\n",
        "\n",
        "    super(MyTuner, self).run_trial(trial, *args, **kwargs)\n",
        "\n",
        "# Uses same arguments as the BayesianOptimization Tuner.\n",
        "tuner = MyTuner(model_rnn1,\n",
        "                objective='val_accuracy',\n",
        "                max_trials=1000,)\n",
        "# Don't pass epochs or batch_size here, let the Tuner tune them.\n",
        "\n",
        "tuner.search(\n",
        "    x_train_padded, y_latih,\n",
        "        validation_split=0.2,\n",
        "            epochs=50,\n",
        "             steps_per_epoch = 500,\n",
        "            callbacks=[\n",
        "              tf.keras.callbacks.EarlyStopping(\n",
        "              monitor='val_accuracy',\n",
        "              patience=5,\n",
        "              ),callbacks90\n",
        "              ]\n",
        "             )"
      ],
      "execution_count": null,
      "outputs": [
        {
          "output_type": "stream",
          "text": [
            "Trial 38 Complete [00h 02m 39s]\n",
            "val_accuracy: 0.668749988079071\n",
            "\n",
            "Best val_accuracy So Far: 0.7512500286102295\n",
            "Total elapsed time: 02h 06m 39s\n",
            "\n",
            "Search: Running Trial #39\n",
            "\n",
            "Hyperparameter    |Value             |Best Value So Far \n",
            "Output Embed      |192               |192               \n",
            "LSTM              |256               |192               \n",
            "Dense Layers      |1                 |1                 \n",
            "Dense_0_layer     |128               |192               \n",
            "learning_rate     |0.0003            |0.001             \n",
            "Dense_1_layer     |256               |192               \n",
            "Dense_2_layer     |192               |64                \n",
            "\n",
            "Epoch 1/50\n",
            "WARNING:tensorflow:Model was constructed with shape (None, 37) for input KerasTensor(type_spec=TensorSpec(shape=(None, 37), dtype=tf.float32, name='layer_embedding_input'), name='layer_embedding_input', description=\"created by layer 'layer_embedding_input'\"), but it was called on an input with incompatible shape (None, 67).\n",
            "WARNING:tensorflow:Model was constructed with shape (None, 37) for input KerasTensor(type_spec=TensorSpec(shape=(None, 37), dtype=tf.float32, name='layer_embedding_input'), name='layer_embedding_input', description=\"created by layer 'layer_embedding_input'\"), but it was called on an input with incompatible shape (None, 67).\n",
            "425/500 [========================>.....] - ETA: 3s - loss: 1.5721 - accuracy: 0.2689"
          ],
          "name": "stdout"
        }
      ]
    },
    {
      "cell_type": "code",
      "metadata": {
        "id": "vuT4alASGLDX"
      },
      "source": [
        ""
      ],
      "execution_count": null,
      "outputs": []
    },
    {
      "cell_type": "code",
      "metadata": {
        "id": "1UYr5XPhyRXS"
      },
      "source": [
        "model = model_rnn()\n",
        "num_epochs = 30\n",
        "history = model.fit(x_train_padded, y_latih, epochs=num_epochs, \n",
        "                    validation_split=0.2)"
      ],
      "execution_count": null,
      "outputs": []
    },
    {
      "cell_type": "code",
      "metadata": {
        "id": "UojJD9VbK3Kb"
      },
      "source": [
        ""
      ],
      "execution_count": null,
      "outputs": []
    }
  ]
}