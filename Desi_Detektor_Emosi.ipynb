{
  "nbformat": 4,
  "nbformat_minor": 0,
  "metadata": {
    "colab": {
      "name": "Desi - Detektor Emosi.ipynb",
      "provenance": [],
      "mount_file_id": "1Pkkd8BHUkC2h2mRl0_7DI5OvvojiqI7u",
      "authorship_tag": "ABX9TyMTzG4c6pxL74xFlkKpECEy",
      "include_colab_link": true
    },
    "kernelspec": {
      "name": "python3",
      "display_name": "Python 3"
    },
    "language_info": {
      "name": "python"
    },
    "accelerator": "GPU"
  },
  "cells": [
    {
      "cell_type": "markdown",
      "metadata": {
        "id": "view-in-github",
        "colab_type": "text"
      },
      "source": [
        "<a href=\"https://colab.research.google.com/github/imadegunawinangun/NLP-Desi---Deteksi-Emosi/blob/main/Desi_Detektor_Emosi.ipynb\" target=\"_parent\"><img src=\"https://colab.research.google.com/assets/colab-badge.svg\" alt=\"Open In Colab\"/></a>"
      ]
    },
    {
      "cell_type": "code",
      "metadata": {
        "id": "PL4mKHLJufaT"
      },
      "source": [
        "from google.colab import drive\n",
        "#drive.mount('/content/drive')"
      ],
      "execution_count": 127,
      "outputs": []
    },
    {
      "cell_type": "code",
      "metadata": {
        "id": "nbBEbSckx7w2",
        "colab": {
          "base_uri": "https://localhost:8080/"
        },
        "outputId": "26950c9f-5487-4359-b52e-80f2287c59e0"
      },
      "source": [
        "!git clone https://github.com/imadegunawinangun/NLP-Desi---Deteksi-Emosi"
      ],
      "execution_count": 128,
      "outputs": [
        {
          "output_type": "stream",
          "text": [
            "fatal: destination path 'NLP-Desi---Deteksi-Emosi' already exists and is not an empty directory.\n"
          ],
          "name": "stdout"
        }
      ]
    },
    {
      "cell_type": "code",
      "metadata": {
        "id": "967DPXh9yB0K",
        "colab": {
          "base_uri": "https://localhost:8080/"
        },
        "outputId": "b9fac614-5f33-4100-9f45-be044c169034"
      },
      "source": [
        "!ls NLP-Desi---Deteksi-Emosi"
      ],
      "execution_count": 129,
      "outputs": [
        {
          "output_type": "stream",
          "text": [
            "archive.zip  data.txt\t\t\timdb_indonesian_movies_2.csv  test.txt\n",
            "data.csv     Desi_Detektor_Emosi.ipynb\tLICENSE\n"
          ],
          "name": "stdout"
        }
      ]
    },
    {
      "cell_type": "code",
      "metadata": {
        "id": "MDkRfX0uy_tJ"
      },
      "source": [
        "import pandas as pd\n",
        "import os\n",
        "import numpy as np\n"
      ],
      "execution_count": 130,
      "outputs": []
    },
    {
      "cell_type": "code",
      "metadata": {
        "id": "_BLUFCQjzSS9",
        "colab": {
          "base_uri": "https://localhost:8080/"
        },
        "outputId": "dbcf5342-41b1-41d7-89f7-5ee4b7661b87"
      },
      "source": [
        "read_file = pd.read_csv (r'NLP-Desi---Deteksi-Emosi/data.txt',error_bad_lines=False,sep=';')\n",
        "read_file.to_csv ('NLP-Desi---Deteksi-Emosi/data.csv', index=None)"
      ],
      "execution_count": 131,
      "outputs": [
        {
          "output_type": "stream",
          "text": [
            "b'Skipping line 144: expected 2 fields, saw 3\\nSkipping line 163: expected 2 fields, saw 3\\nSkipping line 460: expected 2 fields, saw 3\\nSkipping line 496: expected 2 fields, saw 3\\nSkipping line 541: expected 2 fields, saw 3\\nSkipping line 557: expected 2 fields, saw 3\\nSkipping line 697: expected 2 fields, saw 3\\nSkipping line 882: expected 2 fields, saw 3\\nSkipping line 890: expected 2 fields, saw 3\\nSkipping line 908: expected 2 fields, saw 3\\nSkipping line 911: expected 2 fields, saw 3\\nSkipping line 1037: expected 2 fields, saw 3\\nSkipping line 1070: expected 2 fields, saw 3\\nSkipping line 1173: expected 2 fields, saw 3\\nSkipping line 1193: expected 2 fields, saw 3\\nSkipping line 1197: expected 2 fields, saw 3\\nSkipping line 1317: expected 2 fields, saw 3\\nSkipping line 1698: expected 2 fields, saw 3\\nSkipping line 1716: expected 2 fields, saw 3\\nSkipping line 1874: expected 2 fields, saw 3\\nSkipping line 2188: expected 2 fields, saw 3\\nSkipping line 2228: expected 2 fields, saw 3\\nSkipping line 2552: expected 2 fields, saw 3\\nSkipping line 2770: expected 2 fields, saw 3\\nSkipping line 2808: expected 2 fields, saw 3\\nSkipping line 3193: expected 2 fields, saw 3\\nSkipping line 3254: expected 2 fields, saw 3\\nSkipping line 3466: expected 2 fields, saw 3\\nSkipping line 3541: expected 2 fields, saw 3\\nSkipping line 3548: expected 2 fields, saw 3\\nSkipping line 3561: expected 2 fields, saw 3\\nSkipping line 3579: expected 2 fields, saw 3\\nSkipping line 3606: expected 2 fields, saw 3\\nSkipping line 3680: expected 2 fields, saw 3\\nSkipping line 3863: expected 2 fields, saw 3\\nSkipping line 3883: expected 2 fields, saw 3\\nSkipping line 3886: expected 2 fields, saw 3\\nSkipping line 4013: expected 2 fields, saw 3\\nSkipping line 4127: expected 2 fields, saw 3\\nSkipping line 4235: expected 2 fields, saw 3\\nSkipping line 4277: expected 2 fields, saw 3\\nSkipping line 4675: expected 2 fields, saw 3\\nSkipping line 4746: expected 2 fields, saw 3\\nSkipping line 4882: expected 2 fields, saw 3\\nSkipping line 4920: expected 2 fields, saw 3\\nSkipping line 5379: expected 2 fields, saw 3\\nSkipping line 5382: expected 2 fields, saw 3\\nSkipping line 5483: expected 2 fields, saw 3\\nSkipping line 5528: expected 2 fields, saw 3\\nSkipping line 5572: expected 2 fields, saw 3\\nSkipping line 5594: expected 2 fields, saw 3\\nSkipping line 5616: expected 2 fields, saw 3\\nSkipping line 5924: expected 2 fields, saw 3\\nSkipping line 6100: expected 2 fields, saw 3\\nSkipping line 6216: expected 2 fields, saw 3\\nSkipping line 6222: expected 2 fields, saw 3\\nSkipping line 6362: expected 2 fields, saw 3\\nSkipping line 6401: expected 2 fields, saw 3\\nSkipping line 6567: expected 2 fields, saw 3\\nSkipping line 6696: expected 2 fields, saw 3\\nSkipping line 6730: expected 2 fields, saw 3\\nSkipping line 6814: expected 2 fields, saw 3\\nSkipping line 7013: expected 2 fields, saw 3\\nSkipping line 7191: expected 2 fields, saw 3\\nSkipping line 7266: expected 2 fields, saw 3\\nSkipping line 7291: expected 2 fields, saw 3\\nSkipping line 7313: expected 2 fields, saw 3\\nSkipping line 7562: expected 2 fields, saw 3\\nSkipping line 7646: expected 2 fields, saw 3\\nSkipping line 7672: expected 2 fields, saw 3\\nSkipping line 7761: expected 2 fields, saw 3\\nSkipping line 7772: expected 2 fields, saw 3\\nSkipping line 7789: expected 2 fields, saw 3\\nSkipping line 7877: expected 2 fields, saw 3\\nSkipping line 7938: expected 2 fields, saw 3\\nSkipping line 8130: expected 2 fields, saw 3\\nSkipping line 8310: expected 2 fields, saw 3\\nSkipping line 8316: expected 2 fields, saw 3\\nSkipping line 8516: expected 2 fields, saw 3\\nSkipping line 8612: expected 2 fields, saw 3\\nSkipping line 8756: expected 2 fields, saw 3\\nSkipping line 8886: expected 2 fields, saw 3\\nSkipping line 8916: expected 2 fields, saw 3\\nSkipping line 9219: expected 2 fields, saw 3\\nSkipping line 9424: expected 2 fields, saw 3\\nSkipping line 9470: expected 2 fields, saw 3\\nSkipping line 9812: expected 2 fields, saw 3\\nSkipping line 9814: expected 2 fields, saw 3\\nSkipping line 9828: expected 2 fields, saw 3\\nSkipping line 10029: expected 2 fields, saw 3\\nSkipping line 10054: expected 2 fields, saw 3\\nSkipping line 10119: expected 2 fields, saw 3\\nSkipping line 10185: expected 2 fields, saw 3\\nSkipping line 10221: expected 2 fields, saw 3\\nSkipping line 10227: expected 2 fields, saw 3\\nSkipping line 10323: expected 2 fields, saw 3\\nSkipping line 10618: expected 2 fields, saw 3\\nSkipping line 10622: expected 2 fields, saw 3\\nSkipping line 10920: expected 2 fields, saw 3\\nSkipping line 10948: expected 2 fields, saw 3\\nSkipping line 10961: expected 2 fields, saw 3\\nSkipping line 11285: expected 2 fields, saw 3\\nSkipping line 11375: expected 2 fields, saw 3\\nSkipping line 11517: expected 2 fields, saw 3\\nSkipping line 11646: expected 2 fields, saw 3\\nSkipping line 11742: expected 2 fields, saw 3\\nSkipping line 11803: expected 2 fields, saw 3\\nSkipping line 11843: expected 2 fields, saw 3\\nSkipping line 11854: expected 2 fields, saw 3\\nSkipping line 11874: expected 2 fields, saw 3\\nSkipping line 11946: expected 2 fields, saw 3\\nSkipping line 12263: expected 2 fields, saw 3\\nSkipping line 12818: expected 2 fields, saw 3\\nSkipping line 12855: expected 2 fields, saw 3\\nSkipping line 13014: expected 2 fields, saw 3\\nSkipping line 13089: expected 2 fields, saw 3\\nSkipping line 13359: expected 2 fields, saw 3\\nSkipping line 13400: expected 2 fields, saw 3\\nSkipping line 13456: expected 2 fields, saw 3\\nSkipping line 13481: expected 2 fields, saw 3\\nSkipping line 13496: expected 2 fields, saw 3\\nSkipping line 13632: expected 2 fields, saw 3\\nSkipping line 13770: expected 2 fields, saw 3\\nSkipping line 13819: expected 2 fields, saw 3\\nSkipping line 14032: expected 2 fields, saw 3\\nSkipping line 14440: expected 2 fields, saw 3\\nSkipping line 14456: expected 2 fields, saw 3\\nSkipping line 14668: expected 2 fields, saw 3\\nSkipping line 14844: expected 2 fields, saw 3\\nSkipping line 14919: expected 2 fields, saw 3\\nSkipping line 14992: expected 2 fields, saw 3\\nSkipping line 15144: expected 2 fields, saw 3\\nSkipping line 15162: expected 2 fields, saw 3\\nSkipping line 15244: expected 2 fields, saw 3\\nSkipping line 15325: expected 2 fields, saw 3\\nSkipping line 15368: expected 2 fields, saw 3\\nSkipping line 15369: expected 2 fields, saw 3\\nSkipping line 15398: expected 2 fields, saw 3\\nSkipping line 15502: expected 2 fields, saw 3\\nSkipping line 15556: expected 2 fields, saw 3\\nSkipping line 15588: expected 2 fields, saw 3\\nSkipping line 15923: expected 2 fields, saw 3\\n'\n"
          ],
          "name": "stderr"
        }
      ]
    },
    {
      "cell_type": "code",
      "metadata": {
        "id": "s6YuBztG0nmk",
        "colab": {
          "base_uri": "https://localhost:8080/",
          "height": 450
        },
        "outputId": "627b4fc9-647c-44bc-f56a-89433b962a3d"
      },
      "source": [
        "datadir = 'NLP-Desi---Deteksi-Emosi/'\n",
        "columns = ['kalimat', 'emosi']\n",
        "data = pd.read_csv(os.path.join(datadir, 'data.csv'), names = columns)\n",
        "#data['emosi']=data['emosi'].astype(\"category\")\n",
        "pd.set_option('display.max_colwidth', -1)\n",
        "data"
      ],
      "execution_count": 132,
      "outputs": [
        {
          "output_type": "stream",
          "text": [
            "/usr/local/lib/python3.7/dist-packages/ipykernel_launcher.py:5: FutureWarning: Passing a negative integer is deprecated in version 1.0 and will not be supported in future version. Instead, use None to not limit the column width.\n",
            "  \"\"\"\n"
          ],
          "name": "stderr"
        },
        {
          "output_type": "execute_result",
          "data": {
            "text/html": [
              "<div>\n",
              "<style scoped>\n",
              "    .dataframe tbody tr th:only-of-type {\n",
              "        vertical-align: middle;\n",
              "    }\n",
              "\n",
              "    .dataframe tbody tr th {\n",
              "        vertical-align: top;\n",
              "    }\n",
              "\n",
              "    .dataframe thead th {\n",
              "        text-align: right;\n",
              "    }\n",
              "</style>\n",
              "<table border=\"1\" class=\"dataframe\">\n",
              "  <thead>\n",
              "    <tr style=\"text-align: right;\">\n",
              "      <th></th>\n",
              "      <th>kalimat</th>\n",
              "      <th>emosi</th>\n",
              "    </tr>\n",
              "  </thead>\n",
              "  <tbody>\n",
              "    <tr>\n",
              "      <th>0</th>\n",
              "      <td>saya tidak merasa terhina</td>\n",
              "      <td>kesedihan</td>\n",
              "    </tr>\n",
              "    <tr>\n",
              "      <th>1</th>\n",
              "      <td>saya bisa berubah dari merasa sangat putus asa menjadi sangat berharap hanya dari berada di sekitar seseorang yang peduli dan terjaga</td>\n",
              "      <td>kesedihan</td>\n",
              "    </tr>\n",
              "    <tr>\n",
              "      <th>2</th>\n",
              "      <td>saya mengambil waktu sebentar untuk memposting saya merasa serakah salah</td>\n",
              "      <td>kemarahan</td>\n",
              "    </tr>\n",
              "    <tr>\n",
              "      <th>3</th>\n",
              "      <td>saya pernah merasa nostalgia tentang perapian saya akan tahu bahwa itu masih di properti</td>\n",
              "      <td>cinta</td>\n",
              "    </tr>\n",
              "    <tr>\n",
              "      <th>4</th>\n",
              "      <td>saya merasa kesal</td>\n",
              "      <td>kemarahan</td>\n",
              "    </tr>\n",
              "    <tr>\n",
              "      <th>...</th>\n",
              "      <td>...</td>\n",
              "      <td>...</td>\n",
              "    </tr>\n",
              "    <tr>\n",
              "      <th>15853</th>\n",
              "      <td>saya hanya memiliki waktu yang sangat singkat di beanbag dan saya berkata kepada anna bahwa saya merasa seperti saya telah dipukuli</td>\n",
              "      <td>kesedihan</td>\n",
              "    </tr>\n",
              "    <tr>\n",
              "      <th>15854</th>\n",
              "      <td>saya sekarang berbalik dan saya merasa menyedihkan bahwa saya masih menunggu meja dan subbing dengan gelar mengajar</td>\n",
              "      <td>kesedihan</td>\n",
              "    </tr>\n",
              "    <tr>\n",
              "      <th>15855</th>\n",
              "      <td>saya merasa kuat dan baik secara keseluruhan</td>\n",
              "      <td>kegembiraan</td>\n",
              "    </tr>\n",
              "    <tr>\n",
              "      <th>15856</th>\n",
              "      <td>Saya merasa ini adalah komentar yang kasar dan saya senang bahwa t</td>\n",
              "      <td>kemarahan</td>\n",
              "    </tr>\n",
              "    <tr>\n",
              "      <th>15857</th>\n",
              "      <td>saya tahu banyak tapi saya merasa sangat bodoh karena saya tidak bisa menggambarkannya</td>\n",
              "      <td>kesedihan</td>\n",
              "    </tr>\n",
              "  </tbody>\n",
              "</table>\n",
              "<p>15858 rows × 2 columns</p>\n",
              "</div>"
            ],
            "text/plain": [
              "                                                                                                                                     kalimat        emosi\n",
              "0      saya tidak merasa terhina                                                                                                              kesedihan  \n",
              "1      saya bisa berubah dari merasa sangat putus asa menjadi sangat berharap hanya dari berada di sekitar seseorang yang peduli dan terjaga  kesedihan  \n",
              "2      saya mengambil waktu sebentar untuk memposting saya merasa serakah salah                                                               kemarahan  \n",
              "3      saya pernah merasa nostalgia tentang perapian saya akan tahu bahwa itu masih di properti                                               cinta      \n",
              "4      saya merasa kesal                                                                                                                      kemarahan  \n",
              "...                  ...                                                                                                                            ...  \n",
              "15853  saya hanya memiliki waktu yang sangat singkat di beanbag dan saya berkata kepada anna bahwa saya merasa seperti saya telah dipukuli    kesedihan  \n",
              "15854  saya sekarang berbalik dan saya merasa menyedihkan bahwa saya masih menunggu meja dan subbing dengan gelar mengajar                    kesedihan  \n",
              "15855  saya merasa kuat dan baik secara keseluruhan                                                                                           kegembiraan\n",
              "15856  Saya merasa ini adalah komentar yang kasar dan saya senang bahwa t                                                                     kemarahan  \n",
              "15857  saya tahu banyak tapi saya merasa sangat bodoh karena saya tidak bisa menggambarkannya                                                 kesedihan  \n",
              "\n",
              "[15858 rows x 2 columns]"
            ]
          },
          "metadata": {
            "tags": []
          },
          "execution_count": 132
        }
      ]
    },
    {
      "cell_type": "code",
      "metadata": {
        "id": "IRlH0Fyas27x",
        "colab": {
          "base_uri": "https://localhost:8080/",
          "height": 282
        },
        "outputId": "ea54797c-8176-43db-d98b-55ec40ca9650"
      },
      "source": [
        "data.emosi.value_counts().sort_values().plot(kind = 'barh')"
      ],
      "execution_count": 133,
      "outputs": [
        {
          "output_type": "execute_result",
          "data": {
            "text/plain": [
              "<matplotlib.axes._subplots.AxesSubplot at 0x7f5d904e23d0>"
            ]
          },
          "metadata": {
            "tags": []
          },
          "execution_count": 133
        },
        {
          "output_type": "display_data",
          "data": {
            "image/png": "[encoded data removed]",
            "text/plain": [
              "<Figure size 432x288 with 1 Axes>"
            ]
          },
          "metadata": {
            "tags": [],
            "needs_background": "light"
          }
        }
      ]
    },
    {
      "cell_type": "code",
      "metadata": {
        "id": "L1kFtt3fxVc0"
      },
      "source": [
        "from sklearn.utils import shuffle\n",
        "\n",
        "def data_balancing(data, samples_per_bin ):\n",
        "  print('total data:', len(data))\n",
        "  remove_list = []\n",
        "  for j in range(1):\n",
        "    list_ = []\n",
        "    for i in range(len(data)):\n",
        "      list_.append(i)\n",
        "\n",
        "    list_ = shuffle(list_)\n",
        "    list_ = list_[samples_per_bin:]\n",
        "    remove_list.extend(list_)\n",
        "  list_ = []\n",
        "  list_.append(data)\n",
        "  list_ = shuffle(list_)\n",
        "  list_ = list_[samples_per_bin:]\n",
        "  remove_list.extend(list_)\n",
        "  print('removed:', len(remove_list))\n",
        "  data_=data.copy()\n",
        "  data_.drop(data_.index[remove_list], inplace=True)\n",
        "  print('remaining:', len(data_))\n",
        "  return data_"
      ],
      "execution_count": 134,
      "outputs": []
    },
    {
      "cell_type": "code",
      "metadata": {
        "id": "878H8z_HOc0v",
        "colab": {
          "base_uri": "https://localhost:8080/",
          "height": 442
        },
        "outputId": "a5aaf123-bdc0-4483-879b-360d8ee1e780"
      },
      "source": [
        "data.loc[data['emosi'] == 'kejutan']\n",
        "df = pd.concat([data_balancing(data.loc[data['emosi'] == 'kesedihan'],2000), \n",
        "                data_balancing(data.loc[data['emosi'] == 'kegembiraan'],2000),\n",
        "                data_balancing(data.loc[data['emosi'] == 'kemarahan'],2000)\n",
        "                ], \n",
        "               sort=True)\n",
        "df['emosi']=df['emosi'].astype(\"category\")\n",
        "df.emosi.value_counts().plot(kind = 'barh')\n"
      ],
      "execution_count": 135,
      "outputs": [
        {
          "output_type": "stream",
          "text": [
            "total data: 5094\n",
            "removed: 3094\n",
            "remaining: 2000\n",
            "total data: 4739\n",
            "removed: 2739\n",
            "remaining: 2000\n",
            "total data: 2096\n",
            "removed: 96\n",
            "remaining: 2000\n"
          ],
          "name": "stdout"
        },
        {
          "output_type": "execute_result",
          "data": {
            "text/plain": [
              "<matplotlib.axes._subplots.AxesSubplot at 0x7f5d91f81f50>"
            ]
          },
          "metadata": {
            "tags": []
          },
          "execution_count": 135
        },
        {
          "output_type": "display_data",
          "data": {
            "image/png": "[encoded data removed]",
            "text/plain": [
              "<Figure size 432x288 with 1 Axes>"
            ]
          },
          "metadata": {
            "tags": [],
            "needs_background": "light"
          }
        }
      ]
    },
    {
      "cell_type": "code",
      "metadata": {
        "colab": {
          "base_uri": "https://localhost:8080/",
          "height": 414
        },
        "id": "0bCGXCNw6lPu",
        "outputId": "e8f2cb12-449e-40be-c7cd-f3de2c807685"
      },
      "source": [
        "category = pd.get_dummies(df.emosi)\n",
        "df_baru = pd.concat([df, category], axis=1)\n",
        "df_baru = df_baru.drop(columns='emosi')\n",
        "df_baru"
      ],
      "execution_count": 136,
      "outputs": [
        {
          "output_type": "execute_result",
          "data": {
            "text/html": [
              "<div>\n",
              "<style scoped>\n",
              "    .dataframe tbody tr th:only-of-type {\n",
              "        vertical-align: middle;\n",
              "    }\n",
              "\n",
              "    .dataframe tbody tr th {\n",
              "        vertical-align: top;\n",
              "    }\n",
              "\n",
              "    .dataframe thead th {\n",
              "        text-align: right;\n",
              "    }\n",
              "</style>\n",
              "<table border=\"1\" class=\"dataframe\">\n",
              "  <thead>\n",
              "    <tr style=\"text-align: right;\">\n",
              "      <th></th>\n",
              "      <th>kalimat</th>\n",
              "      <th>kegembiraan</th>\n",
              "      <th>kemarahan</th>\n",
              "      <th>kesedihan</th>\n",
              "    </tr>\n",
              "  </thead>\n",
              "  <tbody>\n",
              "    <tr>\n",
              "      <th>1</th>\n",
              "      <td>saya bisa berubah dari merasa sangat putus asa menjadi sangat berharap hanya dari berada di sekitar seseorang yang peduli dan terjaga</td>\n",
              "      <td>0</td>\n",
              "      <td>0</td>\n",
              "      <td>1</td>\n",
              "    </tr>\n",
              "    <tr>\n",
              "      <th>5</th>\n",
              "      <td>Saya merasa sedikit terbebani akhir-akhir ini tidak yakin mengapa itu</td>\n",
              "      <td>0</td>\n",
              "      <td>0</td>\n",
              "      <td>1</td>\n",
              "    </tr>\n",
              "    <tr>\n",
              "      <th>27</th>\n",
              "      <td>saya menjadi kewalahan dan merasa kalah</td>\n",
              "      <td>0</td>\n",
              "      <td>0</td>\n",
              "      <td>1</td>\n",
              "    </tr>\n",
              "    <tr>\n",
              "      <th>40</th>\n",
              "      <td>saya berencana untuk berbagi cerita kehidupan sehari-hari saya inspirasi petualangan perjalanan dan kreasi buatan tangan dengan Anda dan berharap Anda juga akan merasa terinspirasi</td>\n",
              "      <td>0</td>\n",
              "      <td>0</td>\n",
              "      <td>1</td>\n",
              "    </tr>\n",
              "    <tr>\n",
              "      <th>51</th>\n",
              "      <td>saya menemukan diri saya merasa sedikit putus asa pagi itu</td>\n",
              "      <td>0</td>\n",
              "      <td>0</td>\n",
              "      <td>1</td>\n",
              "    </tr>\n",
              "    <tr>\n",
              "      <th>...</th>\n",
              "      <td>...</td>\n",
              "      <td>...</td>\n",
              "      <td>...</td>\n",
              "      <td>...</td>\n",
              "    </tr>\n",
              "    <tr>\n",
              "      <th>15825</th>\n",
              "      <td>saya punya perasaan saya akan menjadi tak berperasaan</td>\n",
              "      <td>0</td>\n",
              "      <td>1</td>\n",
              "      <td>0</td>\n",
              "    </tr>\n",
              "    <tr>\n",
              "      <th>15835</th>\n",
              "      <td>Saya sering merasa diri saya tersinggung ketika saya mendengar orang-orang yang saya yakini sebagai orang-orang brilian mengikuti apa yang saya anggap takhayul aneh dan ritual aneh</td>\n",
              "      <td>0</td>\n",
              "      <td>1</td>\n",
              "      <td>0</td>\n",
              "    </tr>\n",
              "    <tr>\n",
              "      <th>15840</th>\n",
              "      <td>saya meluangkan waktu sejenak untuk menghargai pepohonan di sekitar saya dan energi menenangkan yang mereka berikan kepada saya pada saat saya merasa sedikit mudah tersinggung</td>\n",
              "      <td>0</td>\n",
              "      <td>1</td>\n",
              "      <td>0</td>\n",
              "    </tr>\n",
              "    <tr>\n",
              "      <th>15850</th>\n",
              "      <td>saya pindah dia mengatakan sesuatu yang membuat saya merasa kasar tetapi itu adalah sesuatu yang saya masih tidak bisa mengerti</td>\n",
              "      <td>0</td>\n",
              "      <td>1</td>\n",
              "      <td>0</td>\n",
              "    </tr>\n",
              "    <tr>\n",
              "      <th>15856</th>\n",
              "      <td>Saya merasa ini adalah komentar yang kasar dan saya senang bahwa t</td>\n",
              "      <td>0</td>\n",
              "      <td>1</td>\n",
              "      <td>0</td>\n",
              "    </tr>\n",
              "  </tbody>\n",
              "</table>\n",
              "<p>6000 rows × 4 columns</p>\n",
              "</div>"
            ],
            "text/plain": [
              "                                                                                                                                                                                    kalimat  ...  kesedihan\n",
              "1      saya bisa berubah dari merasa sangat putus asa menjadi sangat berharap hanya dari berada di sekitar seseorang yang peduli dan terjaga                                                 ...  1        \n",
              "5      Saya merasa sedikit terbebani akhir-akhir ini tidak yakin mengapa itu                                                                                                                 ...  1        \n",
              "27     saya menjadi kewalahan dan merasa kalah                                                                                                                                               ...  1        \n",
              "40     saya berencana untuk berbagi cerita kehidupan sehari-hari saya inspirasi petualangan perjalanan dan kreasi buatan tangan dengan Anda dan berharap Anda juga akan merasa terinspirasi  ...  1        \n",
              "51     saya menemukan diri saya merasa sedikit putus asa pagi itu                                                                                                                            ...  1        \n",
              "...                                                           ...                                                                                                                            ... ..        \n",
              "15825  saya punya perasaan saya akan menjadi tak berperasaan                                                                                                                                 ...  0        \n",
              "15835  Saya sering merasa diri saya tersinggung ketika saya mendengar orang-orang yang saya yakini sebagai orang-orang brilian mengikuti apa yang saya anggap takhayul aneh dan ritual aneh  ...  0        \n",
              "15840  saya meluangkan waktu sejenak untuk menghargai pepohonan di sekitar saya dan energi menenangkan yang mereka berikan kepada saya pada saat saya merasa sedikit mudah tersinggung       ...  0        \n",
              "15850  saya pindah dia mengatakan sesuatu yang membuat saya merasa kasar tetapi itu adalah sesuatu yang saya masih tidak bisa mengerti                                                       ...  0        \n",
              "15856  Saya merasa ini adalah komentar yang kasar dan saya senang bahwa t                                                                                                                    ...  0        \n",
              "\n",
              "[6000 rows x 4 columns]"
            ]
          },
          "metadata": {
            "tags": []
          },
          "execution_count": 136
        }
      ]
    },
    {
      "cell_type": "code",
      "metadata": {
        "id": "nRMmIT2e2WSI"
      },
      "source": [
        "def separate_data_label(df):\n",
        "  teks = []\n",
        "  label = []\n",
        "  for i in range(len(df)):\n",
        "    indexed_data = df.iloc[i]\n",
        "    teks.append(indexed_data[0])\n",
        "    label.append(indexed_data[1:6] )\n",
        "  data_teks = np.asarray(teks)\n",
        "  label_teks = np.asarray(label)\n",
        "  return   data_teks , label_teks\n",
        " \n",
        "data_teks, label_teks = load_img_steering(df_baru)\n"
      ],
      "execution_count": 137,
      "outputs": []
    },
    {
      "cell_type": "code",
      "metadata": {
        "id": "PZntTDn69gTX",
        "colab": {
          "base_uri": "https://localhost:8080/"
        },
        "outputId": "4b2c197b-9b58-41ef-ab0b-a678f6699a44"
      },
      "source": [
        "label_teks = np.array(label_teks, dtype=np.int32)\n",
        "label_teks"
      ],
      "execution_count": 138,
      "outputs": [
        {
          "output_type": "execute_result",
          "data": {
            "text/plain": [
              "array([[0, 0, 1],\n",
              "       [0, 0, 1],\n",
              "       [0, 0, 1],\n",
              "       ...,\n",
              "       [0, 1, 0],\n",
              "       [0, 1, 0],\n",
              "       [0, 1, 0]], dtype=int32)"
            ]
          },
          "metadata": {
            "tags": []
          },
          "execution_count": 138
        }
      ]
    },
    {
      "cell_type": "code",
      "metadata": {
        "id": "ouKVPok0coEV",
        "colab": {
          "base_uri": "https://localhost:8080/"
        },
        "outputId": "b62279e4-8651-4b38-de2f-bec8f67e780a"
      },
      "source": [
        "label_teks.shape"
      ],
      "execution_count": 139,
      "outputs": [
        {
          "output_type": "execute_result",
          "data": {
            "text/plain": [
              "(6000, 3)"
            ]
          },
          "metadata": {
            "tags": []
          },
          "execution_count": 139
        }
      ]
    },
    {
      "cell_type": "code",
      "metadata": {
        "id": "eT8AvFrOMVGC"
      },
      "source": [
        "from sklearn.model_selection import train_test_split\n",
        "\n",
        "kalimat_latih, kalimat_test, y_latih, y_test = train_test_split(data_teks, label_teks, test_size=0.2)"
      ],
      "execution_count": 140,
      "outputs": []
    },
    {
      "cell_type": "code",
      "metadata": {
        "id": "QvHGllPIyEah"
      },
      "source": [
        "from tensorflow.keras.preprocessing.text import Tokenizer\n",
        "from tensorflow.keras.preprocessing.sequence import pad_sequences\n",
        "num_words = 10000\n",
        "tokenizer = Tokenizer(num_words, oov_token='*')\n",
        "tokenizer.fit_on_texts(kalimat_latih) \n",
        "tokenizer.fit_on_texts(kalimat_test)\n",
        " \n",
        "x_train_tokens = tokenizer.texts_to_sequences(kalimat_latih)\n",
        "x_valid_tokens = tokenizer.texts_to_sequences(kalimat_test)\n",
        "\n",
        "x_train_padded = pad_sequences(x_train_tokens) \n",
        "x_valid_padded = pad_sequences(x_valid_tokens)\n"
      ],
      "execution_count": 141,
      "outputs": []
    },
    {
      "cell_type": "code",
      "metadata": {
        "id": "1kty_l5P5U3-"
      },
      "source": [
        "num_tokens = [len(tokens) for tokens in x_train_tokens + x_valid_tokens]\n",
        "num_tokens = np.array(num_tokens)"
      ],
      "execution_count": 142,
      "outputs": []
    },
    {
      "cell_type": "code",
      "metadata": {
        "colab": {
          "base_uri": "https://localhost:8080/"
        },
        "id": "3oSPcLqN5cEV",
        "outputId": "ae4e4956-f6e2-4d3c-efe9-bf2394bb0782"
      },
      "source": [
        "np.mean(num_tokens)"
      ],
      "execution_count": 143,
      "outputs": [
        {
          "output_type": "execute_result",
          "data": {
            "text/plain": [
              "17.3715"
            ]
          },
          "metadata": {
            "tags": []
          },
          "execution_count": 143
        }
      ]
    },
    {
      "cell_type": "code",
      "metadata": {
        "colab": {
          "base_uri": "https://localhost:8080/"
        },
        "id": "B2iCb6-n5d_j",
        "outputId": "98a20622-3bf5-48a4-87c0-e90b27d06ae5"
      },
      "source": [
        "np.max(num_tokens)"
      ],
      "execution_count": 144,
      "outputs": [
        {
          "output_type": "execute_result",
          "data": {
            "text/plain": [
              "63"
            ]
          },
          "metadata": {
            "tags": []
          },
          "execution_count": 144
        }
      ]
    },
    {
      "cell_type": "code",
      "metadata": {
        "colab": {
          "base_uri": "https://localhost:8080/"
        },
        "id": "5GvhBddd5kLg",
        "outputId": "a385f112-23fc-4883-b8be-2395673f3883"
      },
      "source": [
        "max_tokens = np.mean(num_tokens) + 2 * np.std(num_tokens)\n",
        "max_tokens = int(max_tokens)\n",
        "max_tokens"
      ],
      "execution_count": 145,
      "outputs": [
        {
          "output_type": "execute_result",
          "data": {
            "text/plain": [
              "37"
            ]
          },
          "metadata": {
            "tags": []
          },
          "execution_count": 145
        }
      ]
    },
    {
      "cell_type": "code",
      "metadata": {
        "colab": {
          "base_uri": "https://localhost:8080/"
        },
        "id": "q05eKTPS5nc_",
        "outputId": "6d07af47-597f-4a2e-8d2b-77051bfaa4da"
      },
      "source": [
        "np.sum(num_tokens < max_tokens) / len(num_tokens)"
      ],
      "execution_count": 146,
      "outputs": [
        {
          "output_type": "execute_result",
          "data": {
            "text/plain": [
              "0.9436666666666667"
            ]
          },
          "metadata": {
            "tags": []
          },
          "execution_count": 146
        }
      ]
    },
    {
      "cell_type": "code",
      "metadata": {
        "colab": {
          "base_uri": "https://localhost:8080/"
        },
        "id": "TKCyxImU2ipc",
        "outputId": "cd683694-04fe-45a0-ac2d-c53d8d4971c0"
      },
      "source": [
        "print(kalimat_latih[0])\n",
        "print(np.array(x_train_tokens[0]))\n",
        "print(np.array(x_train_padded[0]))\n",
        "print(np.array(tokenizer.sequences_to_texts(x_train_padded)[0]))"
      ],
      "execution_count": 147,
      "outputs": [
        {
          "output_type": "stream",
          "text": [
            "saya merasa agak kesepian tanpa komentar untuk menanggapi c\n",
            "[   2    3   85  316  130  551    7 1611 1906]\n",
            "[   0    0    0    0    0    0    0    0    0    0    0    0    0    0\n",
            "    0    0    0    0    0    0    0    0    0    0    0    0    0    0\n",
            "    0    0    0    0    0    0    0    0    0    0    0    0    0    0\n",
            "    0    0    0    0    0    0    0    0    0    0    0    0    2    3\n",
            "   85  316  130  551    7 1611 1906]\n",
            "* * * * * * * * * * * * * * * * * * * * * * * * * * * * * * * * * * * * * * * * * * * * * * * * * * * * * * saya merasa agak kesepian tanpa komentar untuk menanggapi c\n"
          ],
          "name": "stdout"
        }
      ]
    },
    {
      "cell_type": "code",
      "metadata": {
        "id": "_j5BmnnOHti0"
      },
      "source": [
        "pip install -q -U keras-tuner\n"
      ],
      "execution_count": 148,
      "outputs": []
    },
    {
      "cell_type": "code",
      "metadata": {
        "id": "lXrbBRZLHxwc"
      },
      "source": [
        "import kerastuner.tuners as kt\n"
      ],
      "execution_count": 149,
      "outputs": []
    },
    {
      "cell_type": "code",
      "metadata": {
        "id": "BnrT-d1myNsq"
      },
      "source": [
        "import tensorflow as tf\n",
        "\n",
        "def model_rnn1(hp):\n",
        "  model = tf.keras.Sequential()\n",
        "  model.add(tf.keras.layers.Embedding(num_words, hp.Int(\"Output Embed\",min_value= 64, max_value = 256, step= 64), input_length=max_tokens,name='layer_embedding'))\n",
        "  model.add(tf.keras.layers.LSTM(hp.Int(\"LSTM\",min_value= 64, max_value = 256, step= 64)))\n",
        "\n",
        "  for i in range(hp.Int(\"Dense Layers\", min_value=1, max_value=3)):\n",
        "      model.add(tf.keras.layers.Dense(hp.Int(f\"Dense_{i}_layer\", min_value= 64, max_value = 256, step= 64), \n",
        "                                   activation='relu'))\n",
        "\n",
        "  model.add(tf.keras.layers.Dense(3, activation='softmax'))\n",
        "  model.compile(loss='categorical_crossentropy', optimizer=tf.keras.optimizers.Adam(hp.Choice(f\"learning_rate\", [ 3e-4,1e-3])),metrics=['accuracy'])\n",
        "  return model\n",
        "def model_rnn():\n",
        "  model = tf.keras.Sequential()\n",
        "  model.add(tf.keras.layers.Embedding(num_words, 192, input_length=max_tokens,name='layer_embedding'))\n",
        "  model.add(tf.keras.layers.LSTM(128))\n",
        "  model.add(tf.keras.layers.Dense(64, activation='relu'))\n",
        "  model.add(tf.keras.layers.Dense(128, activation='relu'))\n",
        "\n",
        "\n",
        "  model.add(tf.keras.layers.Dense(3, activation='softmax'))\n",
        "  model.compile(loss='categorical_crossentropy', optimizer=tf.keras.optimizers.Adam(1e-3),metrics=['accuracy'])\n",
        "  return model\n"
      ],
      "execution_count": 185,
      "outputs": []
    },
    {
      "cell_type": "code",
      "metadata": {
        "id": "Hew4ez7nI3bI"
      },
      "source": [
        "class myCallback(tf.keras.callbacks.Callback):\n",
        "\n",
        "  def on_epoch_end(self, epoch, logs={}):\n",
        "\n",
        "    if(logs.get('accuracy') > 0.90 and logs.get('val_accuracy') > 0.90 ):  \n",
        "\n",
        "\n",
        "      print(\"\\nAkurasi telah mencapai >90%!\")\n",
        "\n",
        "      self.model.stop_training = True\n",
        "\n",
        "callbacks90 = myCallback()"
      ],
      "execution_count": 158,
      "outputs": []
    },
    {
      "cell_type": "code",
      "metadata": {
        "id": "Ts-_PaLJKyan",
        "colab": {
          "base_uri": "https://localhost:8080/",
          "height": 727
        },
        "outputId": "339a40e5-010d-43bf-ae68-97824130fefe"
      },
      "source": [
        "class MyTuner(kt.RandomSearch):\n",
        "  def run_trial(self, trial, *args, **kwargs):\n",
        "    # You can add additional HyperParameters for preprocessing and custom training loops\n",
        "    # via overriding `run_trial`\n",
        "\n",
        "    super(MyTuner, self).run_trial(trial, *args, **kwargs)\n",
        "\n",
        "# Uses same arguments as the BayesianOptimization Tuner.\n",
        "tuner = MyTuner(model_rnn1,\n",
        "                objective='val_accuracy',\n",
        "                max_trials=1000,)\n",
        "# Don't pass epochs or batch_size here, let the Tuner tune them.\n",
        "\n",
        "tuner.search(\n",
        "    x_train_padded, y_latih,\n",
        "        validation_split=0.2,\n",
        "            epochs=50,\n",
        "             steps_per_epoch = 500,\n",
        "            callbacks=[\n",
        "              tf.keras.callbacks.EarlyStopping(\n",
        "              monitor='val_accuracy',\n",
        "              patience=5,\n",
        "              ),callbacks90\n",
        "              ]\n",
        "             )"
      ],
      "execution_count": 182,
      "outputs": [
        {
          "output_type": "stream",
          "text": [
            "INFO:tensorflow:Reloading Oracle from existing project ./untitled_project/oracle.json\n",
            "INFO:tensorflow:Reloading Tuner from ./untitled_project/tuner0.json\n",
            "\n",
            "Search: Running Trial #1\n",
            "\n",
            "Hyperparameter    |Value             |Best Value So Far \n",
            "Output Embed      |128               |192               \n",
            "LSTM              |128               |128               \n",
            "Dense Layers      |2                 |2                 \n",
            "Dense_0_layer     |256               |64                \n",
            "learning_rate     |0.001             |0.001             \n",
            "Dense_1_layer     |128               |128               \n",
            "Dense_2_layer     |192               |192               \n",
            "\n",
            "Epoch 1/50\n",
            "WARNING:tensorflow:Model was constructed with shape (None, 37) for input KerasTensor(type_spec=TensorSpec(shape=(None, 37), dtype=tf.float32, name='layer_embedding_input'), name='layer_embedding_input', description=\"created by layer 'layer_embedding_input'\"), but it was called on an input with incompatible shape (8, 63).\n",
            "WARNING:tensorflow:Model was constructed with shape (None, 37) for input KerasTensor(type_spec=TensorSpec(shape=(None, 37), dtype=tf.float32, name='layer_embedding_input'), name='layer_embedding_input', description=\"created by layer 'layer_embedding_input'\"), but it was called on an input with incompatible shape (8, 63).\n",
            "430/500 [========================>.....] - ETA: 1s - loss: 0.9655 - accuracy: 0.5061"
          ],
          "name": "stdout"
        },
        {
          "output_type": "error",
          "ename": "KeyboardInterrupt",
          "evalue": "ignored",
          "traceback": [
            "\u001b[0;31m---------------------------------------------------------------------------\u001b[0m",
            "\u001b[0;31mKeyboardInterrupt\u001b[0m                         Traceback (most recent call last)",
            "\u001b[0;32m<ipython-input-182-7d5f110135dd>\u001b[0m in \u001b[0;36m<module>\u001b[0;34m()\u001b[0m\n\u001b[1;32m     21\u001b[0m               \u001b[0mmonitor\u001b[0m\u001b[0;34m=\u001b[0m\u001b[0;34m'val_accuracy'\u001b[0m\u001b[0;34m,\u001b[0m\u001b[0;34m\u001b[0m\u001b[0;34m\u001b[0m\u001b[0m\n\u001b[1;32m     22\u001b[0m               \u001b[0mpatience\u001b[0m\u001b[0;34m=\u001b[0m\u001b[0;36m5\u001b[0m\u001b[0;34m,\u001b[0m\u001b[0;34m\u001b[0m\u001b[0;34m\u001b[0m\u001b[0m\n\u001b[0;32m---> 23\u001b[0;31m               ),callbacks90\n\u001b[0m\u001b[1;32m     24\u001b[0m               ]\n\u001b[1;32m     25\u001b[0m              )\n",
            "\u001b[0;32m/usr/local/lib/python3.7/dist-packages/keras_tuner/engine/base_tuner.py\u001b[0m in \u001b[0;36msearch\u001b[0;34m(self, *fit_args, **fit_kwargs)\u001b[0m\n\u001b[1;32m    142\u001b[0m \u001b[0;34m\u001b[0m\u001b[0m\n\u001b[1;32m    143\u001b[0m             \u001b[0mself\u001b[0m\u001b[0;34m.\u001b[0m\u001b[0mon_trial_begin\u001b[0m\u001b[0;34m(\u001b[0m\u001b[0mtrial\u001b[0m\u001b[0;34m)\u001b[0m\u001b[0;34m\u001b[0m\u001b[0;34m\u001b[0m\u001b[0m\n\u001b[0;32m--> 144\u001b[0;31m             \u001b[0mself\u001b[0m\u001b[0;34m.\u001b[0m\u001b[0mrun_trial\u001b[0m\u001b[0;34m(\u001b[0m\u001b[0mtrial\u001b[0m\u001b[0;34m,\u001b[0m \u001b[0;34m*\u001b[0m\u001b[0mfit_args\u001b[0m\u001b[0;34m,\u001b[0m \u001b[0;34m**\u001b[0m\u001b[0mfit_kwargs\u001b[0m\u001b[0;34m)\u001b[0m\u001b[0;34m\u001b[0m\u001b[0;34m\u001b[0m\u001b[0m\n\u001b[0m\u001b[1;32m    145\u001b[0m             \u001b[0mself\u001b[0m\u001b[0;34m.\u001b[0m\u001b[0mon_trial_end\u001b[0m\u001b[0;34m(\u001b[0m\u001b[0mtrial\u001b[0m\u001b[0;34m)\u001b[0m\u001b[0;34m\u001b[0m\u001b[0;34m\u001b[0m\u001b[0m\n\u001b[1;32m    146\u001b[0m         \u001b[0mself\u001b[0m\u001b[0;34m.\u001b[0m\u001b[0mon_search_end\u001b[0m\u001b[0;34m(\u001b[0m\u001b[0;34m)\u001b[0m\u001b[0;34m\u001b[0m\u001b[0;34m\u001b[0m\u001b[0m\n",
            "\u001b[0;32m<ipython-input-182-7d5f110135dd>\u001b[0m in \u001b[0;36mrun_trial\u001b[0;34m(self, trial, *args, **kwargs)\u001b[0m\n\u001b[1;32m      4\u001b[0m     \u001b[0;31m# via overriding `run_trial`\u001b[0m\u001b[0;34m\u001b[0m\u001b[0;34m\u001b[0m\u001b[0;34m\u001b[0m\u001b[0m\n\u001b[1;32m      5\u001b[0m \u001b[0;34m\u001b[0m\u001b[0m\n\u001b[0;32m----> 6\u001b[0;31m     \u001b[0msuper\u001b[0m\u001b[0;34m(\u001b[0m\u001b[0mMyTuner\u001b[0m\u001b[0;34m,\u001b[0m \u001b[0mself\u001b[0m\u001b[0;34m)\u001b[0m\u001b[0;34m.\u001b[0m\u001b[0mrun_trial\u001b[0m\u001b[0;34m(\u001b[0m\u001b[0mtrial\u001b[0m\u001b[0;34m,\u001b[0m \u001b[0;34m*\u001b[0m\u001b[0margs\u001b[0m\u001b[0;34m,\u001b[0m \u001b[0;34m**\u001b[0m\u001b[0mkwargs\u001b[0m\u001b[0;34m)\u001b[0m\u001b[0;34m\u001b[0m\u001b[0;34m\u001b[0m\u001b[0m\n\u001b[0m\u001b[1;32m      7\u001b[0m \u001b[0;34m\u001b[0m\u001b[0m\n\u001b[1;32m      8\u001b[0m \u001b[0;31m# Uses same arguments as the BayesianOptimization Tuner.\u001b[0m\u001b[0;34m\u001b[0m\u001b[0;34m\u001b[0m\u001b[0;34m\u001b[0m\u001b[0m\n",
            "\u001b[0;32m/usr/local/lib/python3.7/dist-packages/keras_tuner/engine/multi_execution_tuner.py\u001b[0m in \u001b[0;36mrun_trial\u001b[0;34m(self, trial, *fit_args, **fit_kwargs)\u001b[0m\n\u001b[1;32m     88\u001b[0m             \u001b[0mcopied_fit_kwargs\u001b[0m\u001b[0;34m[\u001b[0m\u001b[0;34m\"callbacks\"\u001b[0m\u001b[0;34m]\u001b[0m \u001b[0;34m=\u001b[0m \u001b[0mcallbacks\u001b[0m\u001b[0;34m\u001b[0m\u001b[0;34m\u001b[0m\u001b[0m\n\u001b[1;32m     89\u001b[0m \u001b[0;34m\u001b[0m\u001b[0m\n\u001b[0;32m---> 90\u001b[0;31m             \u001b[0mhistory\u001b[0m \u001b[0;34m=\u001b[0m \u001b[0mself\u001b[0m\u001b[0;34m.\u001b[0m\u001b[0m_build_and_fit_model\u001b[0m\u001b[0;34m(\u001b[0m\u001b[0mtrial\u001b[0m\u001b[0;34m,\u001b[0m \u001b[0mfit_args\u001b[0m\u001b[0;34m,\u001b[0m \u001b[0mcopied_fit_kwargs\u001b[0m\u001b[0;34m)\u001b[0m\u001b[0;34m\u001b[0m\u001b[0;34m\u001b[0m\u001b[0m\n\u001b[0m\u001b[1;32m     91\u001b[0m             \u001b[0;32mfor\u001b[0m \u001b[0mmetric\u001b[0m\u001b[0;34m,\u001b[0m \u001b[0mepoch_values\u001b[0m \u001b[0;32min\u001b[0m \u001b[0mhistory\u001b[0m\u001b[0;34m.\u001b[0m\u001b[0mhistory\u001b[0m\u001b[0;34m.\u001b[0m\u001b[0mitems\u001b[0m\u001b[0;34m(\u001b[0m\u001b[0;34m)\u001b[0m\u001b[0;34m:\u001b[0m\u001b[0;34m\u001b[0m\u001b[0;34m\u001b[0m\u001b[0m\n\u001b[1;32m     92\u001b[0m                 \u001b[0;32mif\u001b[0m \u001b[0mself\u001b[0m\u001b[0;34m.\u001b[0m\u001b[0moracle\u001b[0m\u001b[0;34m.\u001b[0m\u001b[0mobjective\u001b[0m\u001b[0;34m.\u001b[0m\u001b[0mdirection\u001b[0m \u001b[0;34m==\u001b[0m \u001b[0;34m\"min\"\u001b[0m\u001b[0;34m:\u001b[0m\u001b[0;34m\u001b[0m\u001b[0;34m\u001b[0m\u001b[0m\n",
            "\u001b[0;32m/usr/local/lib/python3.7/dist-packages/keras_tuner/engine/tuner.py\u001b[0m in \u001b[0;36m_build_and_fit_model\u001b[0;34m(self, trial, fit_args, fit_kwargs)\u001b[0m\n\u001b[1;32m    145\u001b[0m         \"\"\"\n\u001b[1;32m    146\u001b[0m         \u001b[0mmodel\u001b[0m \u001b[0;34m=\u001b[0m \u001b[0mself\u001b[0m\u001b[0;34m.\u001b[0m\u001b[0mhypermodel\u001b[0m\u001b[0;34m.\u001b[0m\u001b[0mbuild\u001b[0m\u001b[0;34m(\u001b[0m\u001b[0mtrial\u001b[0m\u001b[0;34m.\u001b[0m\u001b[0mhyperparameters\u001b[0m\u001b[0;34m)\u001b[0m\u001b[0;34m\u001b[0m\u001b[0;34m\u001b[0m\u001b[0m\n\u001b[0;32m--> 147\u001b[0;31m         \u001b[0;32mreturn\u001b[0m \u001b[0mmodel\u001b[0m\u001b[0;34m.\u001b[0m\u001b[0mfit\u001b[0m\u001b[0;34m(\u001b[0m\u001b[0;34m*\u001b[0m\u001b[0mfit_args\u001b[0m\u001b[0;34m,\u001b[0m \u001b[0;34m**\u001b[0m\u001b[0mfit_kwargs\u001b[0m\u001b[0;34m)\u001b[0m\u001b[0;34m\u001b[0m\u001b[0;34m\u001b[0m\u001b[0m\n\u001b[0m\u001b[1;32m    148\u001b[0m \u001b[0;34m\u001b[0m\u001b[0m\n\u001b[1;32m    149\u001b[0m     \u001b[0;32mdef\u001b[0m \u001b[0mrun_trial\u001b[0m\u001b[0;34m(\u001b[0m\u001b[0mself\u001b[0m\u001b[0;34m,\u001b[0m \u001b[0mtrial\u001b[0m\u001b[0;34m,\u001b[0m \u001b[0;34m*\u001b[0m\u001b[0mfit_args\u001b[0m\u001b[0;34m,\u001b[0m \u001b[0;34m**\u001b[0m\u001b[0mfit_kwargs\u001b[0m\u001b[0;34m)\u001b[0m\u001b[0;34m:\u001b[0m\u001b[0;34m\u001b[0m\u001b[0;34m\u001b[0m\u001b[0m\n",
            "\u001b[0;32m/usr/local/lib/python3.7/dist-packages/tensorflow/python/keras/engine/training.py\u001b[0m in \u001b[0;36mfit\u001b[0;34m(self, x, y, batch_size, epochs, verbose, callbacks, validation_split, validation_data, shuffle, class_weight, sample_weight, initial_epoch, steps_per_epoch, validation_steps, validation_batch_size, validation_freq, max_queue_size, workers, use_multiprocessing)\u001b[0m\n\u001b[1;32m   1181\u001b[0m                 _r=1):\n\u001b[1;32m   1182\u001b[0m               \u001b[0mcallbacks\u001b[0m\u001b[0;34m.\u001b[0m\u001b[0mon_train_batch_begin\u001b[0m\u001b[0;34m(\u001b[0m\u001b[0mstep\u001b[0m\u001b[0;34m)\u001b[0m\u001b[0;34m\u001b[0m\u001b[0;34m\u001b[0m\u001b[0m\n\u001b[0;32m-> 1183\u001b[0;31m               \u001b[0mtmp_logs\u001b[0m \u001b[0;34m=\u001b[0m \u001b[0mself\u001b[0m\u001b[0;34m.\u001b[0m\u001b[0mtrain_function\u001b[0m\u001b[0;34m(\u001b[0m\u001b[0miterator\u001b[0m\u001b[0;34m)\u001b[0m\u001b[0;34m\u001b[0m\u001b[0;34m\u001b[0m\u001b[0m\n\u001b[0m\u001b[1;32m   1184\u001b[0m               \u001b[0;32mif\u001b[0m \u001b[0mdata_handler\u001b[0m\u001b[0;34m.\u001b[0m\u001b[0mshould_sync\u001b[0m\u001b[0;34m:\u001b[0m\u001b[0;34m\u001b[0m\u001b[0;34m\u001b[0m\u001b[0m\n\u001b[1;32m   1185\u001b[0m                 \u001b[0mcontext\u001b[0m\u001b[0;34m.\u001b[0m\u001b[0masync_wait\u001b[0m\u001b[0;34m(\u001b[0m\u001b[0;34m)\u001b[0m\u001b[0;34m\u001b[0m\u001b[0;34m\u001b[0m\u001b[0m\n",
            "\u001b[0;32m/usr/local/lib/python3.7/dist-packages/tensorflow/python/eager/def_function.py\u001b[0m in \u001b[0;36m__call__\u001b[0;34m(self, *args, **kwds)\u001b[0m\n\u001b[1;32m    887\u001b[0m \u001b[0;34m\u001b[0m\u001b[0m\n\u001b[1;32m    888\u001b[0m       \u001b[0;32mwith\u001b[0m \u001b[0mOptionalXlaContext\u001b[0m\u001b[0;34m(\u001b[0m\u001b[0mself\u001b[0m\u001b[0;34m.\u001b[0m\u001b[0m_jit_compile\u001b[0m\u001b[0;34m)\u001b[0m\u001b[0;34m:\u001b[0m\u001b[0;34m\u001b[0m\u001b[0;34m\u001b[0m\u001b[0m\n\u001b[0;32m--> 889\u001b[0;31m         \u001b[0mresult\u001b[0m \u001b[0;34m=\u001b[0m \u001b[0mself\u001b[0m\u001b[0;34m.\u001b[0m\u001b[0m_call\u001b[0m\u001b[0;34m(\u001b[0m\u001b[0;34m*\u001b[0m\u001b[0margs\u001b[0m\u001b[0;34m,\u001b[0m \u001b[0;34m**\u001b[0m\u001b[0mkwds\u001b[0m\u001b[0;34m)\u001b[0m\u001b[0;34m\u001b[0m\u001b[0;34m\u001b[0m\u001b[0m\n\u001b[0m\u001b[1;32m    890\u001b[0m \u001b[0;34m\u001b[0m\u001b[0m\n\u001b[1;32m    891\u001b[0m       \u001b[0mnew_tracing_count\u001b[0m \u001b[0;34m=\u001b[0m \u001b[0mself\u001b[0m\u001b[0;34m.\u001b[0m\u001b[0mexperimental_get_tracing_count\u001b[0m\u001b[0;34m(\u001b[0m\u001b[0;34m)\u001b[0m\u001b[0;34m\u001b[0m\u001b[0;34m\u001b[0m\u001b[0m\n",
            "\u001b[0;32m/usr/local/lib/python3.7/dist-packages/tensorflow/python/eager/def_function.py\u001b[0m in \u001b[0;36m_call\u001b[0;34m(self, *args, **kwds)\u001b[0m\n\u001b[1;32m    915\u001b[0m       \u001b[0;31m# In this case we have created variables on the first call, so we run the\u001b[0m\u001b[0;34m\u001b[0m\u001b[0;34m\u001b[0m\u001b[0;34m\u001b[0m\u001b[0m\n\u001b[1;32m    916\u001b[0m       \u001b[0;31m# defunned version which is guaranteed to never create variables.\u001b[0m\u001b[0;34m\u001b[0m\u001b[0;34m\u001b[0m\u001b[0;34m\u001b[0m\u001b[0m\n\u001b[0;32m--> 917\u001b[0;31m       \u001b[0;32mreturn\u001b[0m \u001b[0mself\u001b[0m\u001b[0;34m.\u001b[0m\u001b[0m_stateless_fn\u001b[0m\u001b[0;34m(\u001b[0m\u001b[0;34m*\u001b[0m\u001b[0margs\u001b[0m\u001b[0;34m,\u001b[0m \u001b[0;34m**\u001b[0m\u001b[0mkwds\u001b[0m\u001b[0;34m)\u001b[0m  \u001b[0;31m# pylint: disable=not-callable\u001b[0m\u001b[0;34m\u001b[0m\u001b[0;34m\u001b[0m\u001b[0m\n\u001b[0m\u001b[1;32m    918\u001b[0m     \u001b[0;32melif\u001b[0m \u001b[0mself\u001b[0m\u001b[0;34m.\u001b[0m\u001b[0m_stateful_fn\u001b[0m \u001b[0;32mis\u001b[0m \u001b[0;32mnot\u001b[0m \u001b[0;32mNone\u001b[0m\u001b[0;34m:\u001b[0m\u001b[0;34m\u001b[0m\u001b[0;34m\u001b[0m\u001b[0m\n\u001b[1;32m    919\u001b[0m       \u001b[0;31m# Release the lock early so that multiple threads can perform the call\u001b[0m\u001b[0;34m\u001b[0m\u001b[0;34m\u001b[0m\u001b[0;34m\u001b[0m\u001b[0m\n",
            "\u001b[0;32m/usr/local/lib/python3.7/dist-packages/tensorflow/python/eager/function.py\u001b[0m in \u001b[0;36m__call__\u001b[0;34m(self, *args, **kwargs)\u001b[0m\n\u001b[1;32m   3022\u001b[0m        filtered_flat_args) = self._maybe_define_function(args, kwargs)\n\u001b[1;32m   3023\u001b[0m     return graph_function._call_flat(\n\u001b[0;32m-> 3024\u001b[0;31m         filtered_flat_args, captured_inputs=graph_function.captured_inputs)  # pylint: disable=protected-access\n\u001b[0m\u001b[1;32m   3025\u001b[0m \u001b[0;34m\u001b[0m\u001b[0m\n\u001b[1;32m   3026\u001b[0m   \u001b[0;34m@\u001b[0m\u001b[0mproperty\u001b[0m\u001b[0;34m\u001b[0m\u001b[0;34m\u001b[0m\u001b[0m\n",
            "\u001b[0;32m/usr/local/lib/python3.7/dist-packages/tensorflow/python/eager/function.py\u001b[0m in \u001b[0;36m_call_flat\u001b[0;34m(self, args, captured_inputs, cancellation_manager)\u001b[0m\n\u001b[1;32m   1959\u001b[0m       \u001b[0;31m# No tape is watching; skip to running the function.\u001b[0m\u001b[0;34m\u001b[0m\u001b[0;34m\u001b[0m\u001b[0;34m\u001b[0m\u001b[0m\n\u001b[1;32m   1960\u001b[0m       return self._build_call_outputs(self._inference_function.call(\n\u001b[0;32m-> 1961\u001b[0;31m           ctx, args, cancellation_manager=cancellation_manager))\n\u001b[0m\u001b[1;32m   1962\u001b[0m     forward_backward = self._select_forward_and_backward_functions(\n\u001b[1;32m   1963\u001b[0m         \u001b[0margs\u001b[0m\u001b[0;34m,\u001b[0m\u001b[0;34m\u001b[0m\u001b[0;34m\u001b[0m\u001b[0m\n",
            "\u001b[0;32m/usr/local/lib/python3.7/dist-packages/tensorflow/python/eager/function.py\u001b[0m in \u001b[0;36mcall\u001b[0;34m(self, ctx, args, cancellation_manager)\u001b[0m\n\u001b[1;32m    594\u001b[0m               \u001b[0minputs\u001b[0m\u001b[0;34m=\u001b[0m\u001b[0margs\u001b[0m\u001b[0;34m,\u001b[0m\u001b[0;34m\u001b[0m\u001b[0;34m\u001b[0m\u001b[0m\n\u001b[1;32m    595\u001b[0m               \u001b[0mattrs\u001b[0m\u001b[0;34m=\u001b[0m\u001b[0mattrs\u001b[0m\u001b[0;34m,\u001b[0m\u001b[0;34m\u001b[0m\u001b[0;34m\u001b[0m\u001b[0m\n\u001b[0;32m--> 596\u001b[0;31m               ctx=ctx)\n\u001b[0m\u001b[1;32m    597\u001b[0m         \u001b[0;32melse\u001b[0m\u001b[0;34m:\u001b[0m\u001b[0;34m\u001b[0m\u001b[0;34m\u001b[0m\u001b[0m\n\u001b[1;32m    598\u001b[0m           outputs = execute.execute_with_cancellation(\n",
            "\u001b[0;32m/usr/local/lib/python3.7/dist-packages/tensorflow/python/eager/execute.py\u001b[0m in \u001b[0;36mquick_execute\u001b[0;34m(op_name, num_outputs, inputs, attrs, ctx, name)\u001b[0m\n\u001b[1;32m     58\u001b[0m     \u001b[0mctx\u001b[0m\u001b[0;34m.\u001b[0m\u001b[0mensure_initialized\u001b[0m\u001b[0;34m(\u001b[0m\u001b[0;34m)\u001b[0m\u001b[0;34m\u001b[0m\u001b[0;34m\u001b[0m\u001b[0m\n\u001b[1;32m     59\u001b[0m     tensors = pywrap_tfe.TFE_Py_Execute(ctx._handle, device_name, op_name,\n\u001b[0;32m---> 60\u001b[0;31m                                         inputs, attrs, num_outputs)\n\u001b[0m\u001b[1;32m     61\u001b[0m   \u001b[0;32mexcept\u001b[0m \u001b[0mcore\u001b[0m\u001b[0;34m.\u001b[0m\u001b[0m_NotOkStatusException\u001b[0m \u001b[0;32mas\u001b[0m \u001b[0me\u001b[0m\u001b[0;34m:\u001b[0m\u001b[0;34m\u001b[0m\u001b[0;34m\u001b[0m\u001b[0m\n\u001b[1;32m     62\u001b[0m     \u001b[0;32mif\u001b[0m \u001b[0mname\u001b[0m \u001b[0;32mis\u001b[0m \u001b[0;32mnot\u001b[0m \u001b[0;32mNone\u001b[0m\u001b[0;34m:\u001b[0m\u001b[0;34m\u001b[0m\u001b[0;34m\u001b[0m\u001b[0m\n",
            "\u001b[0;31mKeyboardInterrupt\u001b[0m: "
          ]
        }
      ]
    },
    {
      "cell_type": "code",
      "metadata": {
        "id": "vuT4alASGLDX",
        "colab": {
          "base_uri": "https://localhost:8080/"
        },
        "outputId": "a34057a1-5c8c-4f12-ca96-320fff9f7c57"
      },
      "source": [
        "model = model_rnn()\n",
        "num_epochs = 30\n",
        "history = model.fit(\n",
        "    x_train_padded, y_latih,\n",
        "        validation_split=0.2,\n",
        "            epochs=50,\n",
        "            callbacks=[\n",
        "              tf.keras.callbacks.EarlyStopping(\n",
        "              monitor='val_accuracy',\n",
        "              patience=3,\n",
        "                                      restore_best_weights=True\n",
        "\n",
        "              ),callbacks90\n",
        "              ]\n",
        "             )\n"
      ],
      "execution_count": 190,
      "outputs": [
        {
          "output_type": "stream",
          "text": [
            "Epoch 1/50\n",
            "WARNING:tensorflow:Model was constructed with shape (None, 37) for input KerasTensor(type_spec=TensorSpec(shape=(None, 37), dtype=tf.float32, name='layer_embedding_input'), name='layer_embedding_input', description=\"created by layer 'layer_embedding_input'\"), but it was called on an input with incompatible shape (32, 63).\n",
            "WARNING:tensorflow:Model was constructed with shape (None, 37) for input KerasTensor(type_spec=TensorSpec(shape=(None, 37), dtype=tf.float32, name='layer_embedding_input'), name='layer_embedding_input', description=\"created by layer 'layer_embedding_input'\"), but it was called on an input with incompatible shape (32, 63).\n",
            "118/120 [============================>.] - ETA: 0s - loss: 0.9864 - accuracy: 0.5000WARNING:tensorflow:Model was constructed with shape (None, 37) for input KerasTensor(type_spec=TensorSpec(shape=(None, 37), dtype=tf.float32, name='layer_embedding_input'), name='layer_embedding_input', description=\"created by layer 'layer_embedding_input'\"), but it was called on an input with incompatible shape (32, 63).\n",
            "120/120 [==============================] - 4s 26ms/step - loss: 0.9832 - accuracy: 0.5026 - val_loss: 0.8106 - val_accuracy: 0.6698\n",
            "Epoch 2/50\n",
            "120/120 [==============================] - 3s 23ms/step - loss: 0.4823 - accuracy: 0.8221 - val_loss: 0.6670 - val_accuracy: 0.7115\n",
            "Epoch 3/50\n",
            "120/120 [==============================] - 3s 23ms/step - loss: 0.2525 - accuracy: 0.9130 - val_loss: 0.7131 - val_accuracy: 0.7667\n",
            "Epoch 4/50\n",
            "120/120 [==============================] - 3s 23ms/step - loss: 0.1458 - accuracy: 0.9531 - val_loss: 0.7364 - val_accuracy: 0.7635\n",
            "Epoch 5/50\n",
            "120/120 [==============================] - 3s 23ms/step - loss: 0.0935 - accuracy: 0.9703 - val_loss: 0.8998 - val_accuracy: 0.7563\n",
            "Epoch 6/50\n",
            "120/120 [==============================] - 3s 23ms/step - loss: 0.0654 - accuracy: 0.9794 - val_loss: 1.0052 - val_accuracy: 0.7635\n"
          ],
          "name": "stdout"
        }
      ]
    },
    {
      "cell_type": "code",
      "metadata": {
        "id": "UojJD9VbK3Kb",
        "colab": {
          "base_uri": "https://localhost:8080/",
          "height": 312
        },
        "outputId": "ecb0b2d7-4b2a-4679-acda-16af9a5089b5"
      },
      "source": [
        "import matplotlib.pyplot as plt\n",
        "\n",
        "plt.plot(history.history['loss'])\n",
        "plt.plot(history.history['val_loss'])\n",
        "plt.legend(['training', 'validation'])\n",
        "plt.title('Loss')\n",
        "plt.xlabel('Epoch')"
      ],
      "execution_count": 191,
      "outputs": [
        {
          "output_type": "execute_result",
          "data": {
            "text/plain": [
              "Text(0.5, 0, 'Epoch')"
            ]
          },
          "metadata": {
            "tags": []
          },
          "execution_count": 191
        },
        {
          "output_type": "display_data",
          "data": {
            "image/png": "[encoded data removed]",
            "text/plain": [
              "<Figure size 432x288 with 1 Axes>"
            ]
          },
          "metadata": {
            "tags": [],
            "needs_background": "light"
          }
        }
      ]
    },
    {
      "cell_type": "code",
      "metadata": {
        "id": "1UYr5XPhyRXS",
        "colab": {
          "base_uri": "https://localhost:8080/",
          "height": 298
        },
        "outputId": "7f1a5036-e924-4644-8745-a8afd47a26f7"
      },
      "source": [
        "plt.plot(history.history['accuracy'])\n",
        "plt.plot(history.history['val_accuracy'])\n",
        "plt.legend([ 'accuracy', 'val_accuracy'])\n",
        "plt.title('Accuracy')"
      ],
      "execution_count": 192,
      "outputs": [
        {
          "output_type": "execute_result",
          "data": {
            "text/plain": [
              "Text(0.5, 1.0, 'Accuracy')"
            ]
          },
          "metadata": {
            "tags": []
          },
          "execution_count": 192
        },
        {
          "output_type": "display_data",
          "data": {
            "image/png": "[encoded data removed]",
            "text/plain": [
              "<Figure size 432x288 with 1 Axes>"
            ]
          },
          "metadata": {
            "tags": [],
            "needs_background": "light"
          }
        }
      ]
    },
    {
      "cell_type": "code",
      "metadata": {
        "colab": {
          "base_uri": "https://localhost:8080/"
        },
        "id": "xI_mOcxPrDTd",
        "outputId": "c5b9f6cc-e37f-4f17-a04c-581c89a4e818"
      },
      "source": [
        "print(x_valid_padded[1])\n",
        "print(np.array(tokenizer.sequences_to_texts(x_valid_padded)[1]))"
      ],
      "execution_count": 200,
      "outputs": [
        {
          "output_type": "stream",
          "text": [
            "[  0   0   0   0   0   0   0   0   0   0   0   0   0   0   0   0   0   0\n",
            "   0   0   0   0   0   0   0   0   0   0   0   0   0   0   0   0   0   0\n",
            "   0   0   0   0   0   0   2 103   4 175   8 126 130   3  96 963  33 712]\n",
            "* * * * * * * * * * * * * * * * * * * * * * * * * * * * * * * * * * * * * * * * * * saya suka dan melakukannya dengan cara tanpa merasa terlalu berlebihan atau sombong\n"
          ],
          "name": "stdout"
        }
      ]
    },
    {
      "cell_type": "code",
      "metadata": {
        "colab": {
          "base_uri": "https://localhost:8080/"
        },
        "id": "kP_kjaFjrLQj",
        "outputId": "cf47bc81-bf94-4078-991a-df1ccb7f59cb"
      },
      "source": [
        "classes = np.argmax(model.predict(x_valid_padded)[1])\n",
        "print(classes)\n",
        "\n",
        "if (classes==0):\n",
        "  print('kegembiraan')\n",
        "elif (classes==1):\n",
        "  print('kemarahan')\n",
        "elif (classes==2):\n",
        "  print('kesedihan')"
      ],
      "execution_count": 199,
      "outputs": [
        {
          "output_type": "stream",
          "text": [
            "0\n",
            "kegembiraan\n"
          ],
          "name": "stdout"
        }
      ]
    },
    {
      "cell_type": "code",
      "metadata": {
        "id": "n8AHF-LorNmD"
      },
      "source": [
        ""
      ],
      "execution_count": null,
      "outputs": []
    }
  ]
}