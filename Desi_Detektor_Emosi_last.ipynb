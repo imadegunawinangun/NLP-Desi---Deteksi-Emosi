{
  "nbformat": 4,
  "nbformat_minor": 0,
  "metadata": {
    "colab": {
      "name": "Desi - Detektor Emosi.ipynb",
      "provenance": [],
      "include_colab_link": true
    },
    "kernelspec": {
      "name": "python3",
      "display_name": "Python 3"
    },
    "language_info": {
      "name": "python"
    },
    "accelerator": "GPU"
  },
  "cells": [
    {
      "cell_type": "markdown",
      "metadata": {
        "id": "view-in-github",
        "colab_type": "text"
      },
      "source": [
        "<a href=\"https://colab.research.google.com/github/imadegunawinangun/NLP-Desi---Deteksi-Emosi/blob/main/Desi_Detektor_Emosi_last.ipynb\" target=\"_parent\"><img src=\"https://colab.research.google.com/assets/colab-badge.svg\" alt=\"Open In Colab\"/></a>"
      ]
    },
    {
      "cell_type": "code",
      "metadata": {
        "id": "PL4mKHLJufaT"
      },
      "source": [
        "from google.colab import drive\n",
        "#drive.mount('/content/drive')"
      ],
      "execution_count": 2,
      "outputs": []
    },
    {
      "cell_type": "code",
      "metadata": {
        "id": "nbBEbSckx7w2",
        "colab": {
          "base_uri": "https://localhost:8080/"
        },
        "outputId": "78699f4d-d437-41d1-f3a6-829823419349"
      },
      "source": [
        "!git clone https://github.com/imadegunawinangun/NLP-Desi---Deteksi-Emosi"
      ],
      "execution_count": 3,
      "outputs": [
        {
          "output_type": "stream",
          "text": [
            "Cloning into 'NLP-Desi---Deteksi-Emosi'...\n",
            "remote: Enumerating objects: 44, done.\u001b[K\n",
            "remote: Counting objects: 100% (44/44), done.\u001b[K\n",
            "remote: Compressing objects: 100% (41/41), done.\u001b[K\n",
            "remote: Total 44 (delta 22), reused 14 (delta 3), pack-reused 0\u001b[K\n",
            "Unpacking objects: 100% (44/44), done.\n"
          ],
          "name": "stdout"
        }
      ]
    },
    {
      "cell_type": "code",
      "metadata": {
        "id": "967DPXh9yB0K",
        "colab": {
          "base_uri": "https://localhost:8080/"
        },
        "outputId": "a26c936e-40f3-4c6f-aead-1d8310837f5b"
      },
      "source": [
        "!ls NLP-Desi---Deteksi-Emosi"
      ],
      "execution_count": 4,
      "outputs": [
        {
          "output_type": "stream",
          "text": [
            "archive.zip\t\t   Desi_Detektor_Emosi_last.ipynb  test.txt\n",
            "data.txt\t\t   imdb_indonesian_movies_2.csv\n",
            "Desi_Detektor_Emosi.ipynb  LICENSE\n"
          ],
          "name": "stdout"
        }
      ]
    },
    {
      "cell_type": "code",
      "metadata": {
        "id": "MDkRfX0uy_tJ"
      },
      "source": [
        "import pandas as pd\n",
        "import os\n",
        "import numpy as np\n"
      ],
      "execution_count": 5,
      "outputs": []
    },
    {
      "cell_type": "code",
      "metadata": {
        "id": "_BLUFCQjzSS9",
        "colab": {
          "base_uri": "https://localhost:8080/"
        },
        "outputId": "ce4f91f2-534d-4f09-ba01-84c7d3dd349a"
      },
      "source": [
        "read_file = pd.read_csv (r'NLP-Desi---Deteksi-Emosi/data.txt',error_bad_lines=False,sep=';')\n",
        "read_file.to_csv ('NLP-Desi---Deteksi-Emosi/data.csv', index=None)"
      ],
      "execution_count": 6,
      "outputs": [
        {
          "output_type": "stream",
          "text": [
            "b'Skipping line 144: expected 2 fields, saw 3\\nSkipping line 163: expected 2 fields, saw 3\\nSkipping line 460: expected 2 fields, saw 3\\nSkipping line 496: expected 2 fields, saw 3\\nSkipping line 541: expected 2 fields, saw 3\\nSkipping line 557: expected 2 fields, saw 3\\nSkipping line 697: expected 2 fields, saw 3\\nSkipping line 882: expected 2 fields, saw 3\\nSkipping line 890: expected 2 fields, saw 3\\nSkipping line 908: expected 2 fields, saw 3\\nSkipping line 911: expected 2 fields, saw 3\\nSkipping line 1037: expected 2 fields, saw 3\\nSkipping line 1070: expected 2 fields, saw 3\\nSkipping line 1173: expected 2 fields, saw 3\\nSkipping line 1193: expected 2 fields, saw 3\\nSkipping line 1197: expected 2 fields, saw 3\\nSkipping line 1317: expected 2 fields, saw 3\\nSkipping line 1698: expected 2 fields, saw 3\\nSkipping line 1716: expected 2 fields, saw 3\\nSkipping line 1874: expected 2 fields, saw 3\\nSkipping line 2188: expected 2 fields, saw 3\\nSkipping line 2228: expected 2 fields, saw 3\\nSkipping line 2552: expected 2 fields, saw 3\\nSkipping line 2770: expected 2 fields, saw 3\\nSkipping line 2808: expected 2 fields, saw 3\\nSkipping line 3193: expected 2 fields, saw 3\\nSkipping line 3254: expected 2 fields, saw 3\\nSkipping line 3466: expected 2 fields, saw 3\\nSkipping line 3541: expected 2 fields, saw 3\\nSkipping line 3548: expected 2 fields, saw 3\\nSkipping line 3561: expected 2 fields, saw 3\\nSkipping line 3579: expected 2 fields, saw 3\\nSkipping line 3606: expected 2 fields, saw 3\\nSkipping line 3680: expected 2 fields, saw 3\\nSkipping line 3863: expected 2 fields, saw 3\\nSkipping line 3883: expected 2 fields, saw 3\\nSkipping line 3886: expected 2 fields, saw 3\\nSkipping line 4013: expected 2 fields, saw 3\\nSkipping line 4127: expected 2 fields, saw 3\\nSkipping line 4235: expected 2 fields, saw 3\\nSkipping line 4277: expected 2 fields, saw 3\\nSkipping line 4675: expected 2 fields, saw 3\\nSkipping line 4746: expected 2 fields, saw 3\\nSkipping line 4882: expected 2 fields, saw 3\\nSkipping line 4920: expected 2 fields, saw 3\\nSkipping line 5379: expected 2 fields, saw 3\\nSkipping line 5382: expected 2 fields, saw 3\\nSkipping line 5483: expected 2 fields, saw 3\\nSkipping line 5528: expected 2 fields, saw 3\\nSkipping line 5572: expected 2 fields, saw 3\\nSkipping line 5594: expected 2 fields, saw 3\\nSkipping line 5616: expected 2 fields, saw 3\\nSkipping line 5924: expected 2 fields, saw 3\\nSkipping line 6100: expected 2 fields, saw 3\\nSkipping line 6216: expected 2 fields, saw 3\\nSkipping line 6222: expected 2 fields, saw 3\\nSkipping line 6362: expected 2 fields, saw 3\\nSkipping line 6401: expected 2 fields, saw 3\\nSkipping line 6567: expected 2 fields, saw 3\\nSkipping line 6696: expected 2 fields, saw 3\\nSkipping line 6730: expected 2 fields, saw 3\\nSkipping line 6814: expected 2 fields, saw 3\\nSkipping line 7013: expected 2 fields, saw 3\\nSkipping line 7191: expected 2 fields, saw 3\\nSkipping line 7266: expected 2 fields, saw 3\\nSkipping line 7291: expected 2 fields, saw 3\\nSkipping line 7313: expected 2 fields, saw 3\\nSkipping line 7562: expected 2 fields, saw 3\\nSkipping line 7646: expected 2 fields, saw 3\\nSkipping line 7672: expected 2 fields, saw 3\\nSkipping line 7761: expected 2 fields, saw 3\\nSkipping line 7772: expected 2 fields, saw 3\\nSkipping line 7789: expected 2 fields, saw 3\\nSkipping line 7877: expected 2 fields, saw 3\\nSkipping line 7938: expected 2 fields, saw 3\\nSkipping line 8130: expected 2 fields, saw 3\\nSkipping line 8310: expected 2 fields, saw 3\\nSkipping line 8316: expected 2 fields, saw 3\\nSkipping line 8516: expected 2 fields, saw 3\\nSkipping line 8612: expected 2 fields, saw 3\\nSkipping line 8756: expected 2 fields, saw 3\\nSkipping line 8886: expected 2 fields, saw 3\\nSkipping line 8916: expected 2 fields, saw 3\\nSkipping line 9219: expected 2 fields, saw 3\\nSkipping line 9424: expected 2 fields, saw 3\\nSkipping line 9470: expected 2 fields, saw 3\\nSkipping line 9812: expected 2 fields, saw 3\\nSkipping line 9814: expected 2 fields, saw 3\\nSkipping line 9828: expected 2 fields, saw 3\\nSkipping line 10029: expected 2 fields, saw 3\\nSkipping line 10054: expected 2 fields, saw 3\\nSkipping line 10119: expected 2 fields, saw 3\\nSkipping line 10185: expected 2 fields, saw 3\\nSkipping line 10221: expected 2 fields, saw 3\\nSkipping line 10227: expected 2 fields, saw 3\\nSkipping line 10323: expected 2 fields, saw 3\\nSkipping line 10618: expected 2 fields, saw 3\\nSkipping line 10622: expected 2 fields, saw 3\\nSkipping line 10920: expected 2 fields, saw 3\\nSkipping line 10948: expected 2 fields, saw 3\\nSkipping line 10961: expected 2 fields, saw 3\\nSkipping line 11285: expected 2 fields, saw 3\\nSkipping line 11375: expected 2 fields, saw 3\\nSkipping line 11517: expected 2 fields, saw 3\\nSkipping line 11646: expected 2 fields, saw 3\\nSkipping line 11742: expected 2 fields, saw 3\\nSkipping line 11803: expected 2 fields, saw 3\\nSkipping line 11843: expected 2 fields, saw 3\\nSkipping line 11854: expected 2 fields, saw 3\\nSkipping line 11874: expected 2 fields, saw 3\\nSkipping line 11946: expected 2 fields, saw 3\\nSkipping line 12263: expected 2 fields, saw 3\\nSkipping line 12818: expected 2 fields, saw 3\\nSkipping line 12855: expected 2 fields, saw 3\\nSkipping line 13014: expected 2 fields, saw 3\\nSkipping line 13089: expected 2 fields, saw 3\\nSkipping line 13359: expected 2 fields, saw 3\\nSkipping line 13400: expected 2 fields, saw 3\\nSkipping line 13456: expected 2 fields, saw 3\\nSkipping line 13481: expected 2 fields, saw 3\\nSkipping line 13496: expected 2 fields, saw 3\\nSkipping line 13632: expected 2 fields, saw 3\\nSkipping line 13770: expected 2 fields, saw 3\\nSkipping line 13819: expected 2 fields, saw 3\\nSkipping line 14032: expected 2 fields, saw 3\\nSkipping line 14440: expected 2 fields, saw 3\\nSkipping line 14456: expected 2 fields, saw 3\\nSkipping line 14668: expected 2 fields, saw 3\\nSkipping line 14844: expected 2 fields, saw 3\\nSkipping line 14919: expected 2 fields, saw 3\\nSkipping line 14992: expected 2 fields, saw 3\\nSkipping line 15144: expected 2 fields, saw 3\\nSkipping line 15162: expected 2 fields, saw 3\\nSkipping line 15244: expected 2 fields, saw 3\\nSkipping line 15325: expected 2 fields, saw 3\\nSkipping line 15368: expected 2 fields, saw 3\\nSkipping line 15369: expected 2 fields, saw 3\\nSkipping line 15398: expected 2 fields, saw 3\\nSkipping line 15502: expected 2 fields, saw 3\\nSkipping line 15556: expected 2 fields, saw 3\\nSkipping line 15588: expected 2 fields, saw 3\\nSkipping line 15923: expected 2 fields, saw 3\\n'\n"
          ],
          "name": "stderr"
        }
      ]
    },
    {
      "cell_type": "code",
      "metadata": {
        "id": "s6YuBztG0nmk",
        "colab": {
          "base_uri": "https://localhost:8080/",
          "height": 470
        },
        "outputId": "6e9820ac-378c-4ce9-df07-e9b85df6500d"
      },
      "source": [
        "datadir = 'NLP-Desi---Deteksi-Emosi/'\n",
        "columns = ['kalimat', 'emosi']\n",
        "data = pd.read_csv(os.path.join(datadir, 'data.csv'), names = columns)\n",
        "#data['emosi']=data['emosi'].astype(\"category\")\n",
        "pd.set_option('display.max_colwidth', -1)\n",
        "data"
      ],
      "execution_count": 7,
      "outputs": [
        {
          "output_type": "stream",
          "text": [
            "/usr/local/lib/python3.7/dist-packages/ipykernel_launcher.py:5: FutureWarning: Passing a negative integer is deprecated in version 1.0 and will not be supported in future version. Instead, use None to not limit the column width.\n",
            "  \"\"\"\n"
          ],
          "name": "stderr"
        },
        {
          "output_type": "execute_result",
          "data": {
            "text/html": [
              "<div>\n",
              "<style scoped>\n",
              "    .dataframe tbody tr th:only-of-type {\n",
              "        vertical-align: middle;\n",
              "    }\n",
              "\n",
              "    .dataframe tbody tr th {\n",
              "        vertical-align: top;\n",
              "    }\n",
              "\n",
              "    .dataframe thead th {\n",
              "        text-align: right;\n",
              "    }\n",
              "</style>\n",
              "<table border=\"1\" class=\"dataframe\">\n",
              "  <thead>\n",
              "    <tr style=\"text-align: right;\">\n",
              "      <th></th>\n",
              "      <th>kalimat</th>\n",
              "      <th>emosi</th>\n",
              "    </tr>\n",
              "  </thead>\n",
              "  <tbody>\n",
              "    <tr>\n",
              "      <th>0</th>\n",
              "      <td>saya tidak merasa terhina</td>\n",
              "      <td>kesedihan</td>\n",
              "    </tr>\n",
              "    <tr>\n",
              "      <th>1</th>\n",
              "      <td>saya bisa berubah dari merasa sangat putus asa menjadi sangat berharap hanya dari berada di sekitar seseorang yang peduli dan terjaga</td>\n",
              "      <td>kesedihan</td>\n",
              "    </tr>\n",
              "    <tr>\n",
              "      <th>2</th>\n",
              "      <td>saya mengambil waktu sebentar untuk memposting saya merasa serakah salah</td>\n",
              "      <td>kemarahan</td>\n",
              "    </tr>\n",
              "    <tr>\n",
              "      <th>3</th>\n",
              "      <td>saya pernah merasa nostalgia tentang perapian saya akan tahu bahwa itu masih di properti</td>\n",
              "      <td>cinta</td>\n",
              "    </tr>\n",
              "    <tr>\n",
              "      <th>4</th>\n",
              "      <td>saya merasa kesal</td>\n",
              "      <td>kemarahan</td>\n",
              "    </tr>\n",
              "    <tr>\n",
              "      <th>...</th>\n",
              "      <td>...</td>\n",
              "      <td>...</td>\n",
              "    </tr>\n",
              "    <tr>\n",
              "      <th>15853</th>\n",
              "      <td>saya hanya memiliki waktu yang sangat singkat di beanbag dan saya berkata kepada anna bahwa saya merasa seperti saya telah dipukuli</td>\n",
              "      <td>kesedihan</td>\n",
              "    </tr>\n",
              "    <tr>\n",
              "      <th>15854</th>\n",
              "      <td>saya sekarang berbalik dan saya merasa menyedihkan bahwa saya masih menunggu meja dan subbing dengan gelar mengajar</td>\n",
              "      <td>kesedihan</td>\n",
              "    </tr>\n",
              "    <tr>\n",
              "      <th>15855</th>\n",
              "      <td>saya merasa kuat dan baik secara keseluruhan</td>\n",
              "      <td>kegembiraan</td>\n",
              "    </tr>\n",
              "    <tr>\n",
              "      <th>15856</th>\n",
              "      <td>Saya merasa ini adalah komentar yang kasar dan saya senang bahwa t</td>\n",
              "      <td>kemarahan</td>\n",
              "    </tr>\n",
              "    <tr>\n",
              "      <th>15857</th>\n",
              "      <td>saya tahu banyak tapi saya merasa sangat bodoh karena saya tidak bisa menggambarkannya</td>\n",
              "      <td>kesedihan</td>\n",
              "    </tr>\n",
              "  </tbody>\n",
              "</table>\n",
              "<p>15858 rows × 2 columns</p>\n",
              "</div>"
            ],
            "text/plain": [
              "                                                                                                                                     kalimat        emosi\n",
              "0      saya tidak merasa terhina                                                                                                              kesedihan  \n",
              "1      saya bisa berubah dari merasa sangat putus asa menjadi sangat berharap hanya dari berada di sekitar seseorang yang peduli dan terjaga  kesedihan  \n",
              "2      saya mengambil waktu sebentar untuk memposting saya merasa serakah salah                                                               kemarahan  \n",
              "3      saya pernah merasa nostalgia tentang perapian saya akan tahu bahwa itu masih di properti                                               cinta      \n",
              "4      saya merasa kesal                                                                                                                      kemarahan  \n",
              "...                  ...                                                                                                                            ...  \n",
              "15853  saya hanya memiliki waktu yang sangat singkat di beanbag dan saya berkata kepada anna bahwa saya merasa seperti saya telah dipukuli    kesedihan  \n",
              "15854  saya sekarang berbalik dan saya merasa menyedihkan bahwa saya masih menunggu meja dan subbing dengan gelar mengajar                    kesedihan  \n",
              "15855  saya merasa kuat dan baik secara keseluruhan                                                                                           kegembiraan\n",
              "15856  Saya merasa ini adalah komentar yang kasar dan saya senang bahwa t                                                                     kemarahan  \n",
              "15857  saya tahu banyak tapi saya merasa sangat bodoh karena saya tidak bisa menggambarkannya                                                 kesedihan  \n",
              "\n",
              "[15858 rows x 2 columns]"
            ]
          },
          "metadata": {
            "tags": []
          },
          "execution_count": 7
        }
      ]
    },
    {
      "cell_type": "code",
      "metadata": {
        "id": "IRlH0Fyas27x",
        "colab": {
          "base_uri": "https://localhost:8080/",
          "height": 282
        },
        "outputId": "96d7d2f9-dce8-4869-ca23-0636ef2d27e6"
      },
      "source": [
        "data.emosi.value_counts().sort_values().plot(kind = 'barh')"
      ],
      "execution_count": 8,
      "outputs": [
        {
          "output_type": "execute_result",
          "data": {
            "text/plain": [
              "<matplotlib.axes._subplots.AxesSubplot at 0x7f44b008a9d0>"
            ]
          },
          "metadata": {
            "tags": []
          },
          "execution_count": 8
        },
        {
          "output_type": "display_data",
          "data": {
            "image/png": "[encoded data removed]",
            "text/plain": [
              "<Figure size 432x288 with 1 Axes>"
            ]
          },
          "metadata": {
            "tags": [],
            "needs_background": "light"
          }
        }
      ]
    },
    {
      "cell_type": "code",
      "metadata": {
        "id": "L1kFtt3fxVc0"
      },
      "source": [
        "from sklearn.utils import shuffle\n",
        "\n",
        "def data_balancing(data, samples_per_bin ):\n",
        "  print('total data:', len(data))\n",
        "  remove_list = []\n",
        "  for j in range(1):\n",
        "    list_ = []\n",
        "    for i in range(len(data)):\n",
        "      list_.append(i)\n",
        "\n",
        "    list_ = shuffle(list_)\n",
        "    list_ = list_[samples_per_bin:]\n",
        "    remove_list.extend(list_)\n",
        "  list_ = []\n",
        "  list_.append(data)\n",
        "  list_ = shuffle(list_)\n",
        "  list_ = list_[samples_per_bin:]\n",
        "  remove_list.extend(list_)\n",
        "  print('removed:', len(remove_list))\n",
        "  data_=data.copy()\n",
        "  data_.drop(data_.index[remove_list], inplace=True)\n",
        "  print('remaining:', len(data_))\n",
        "  return data_"
      ],
      "execution_count": 9,
      "outputs": []
    },
    {
      "cell_type": "code",
      "metadata": {
        "colab": {
          "base_uri": "https://localhost:8080/",
          "height": 534
        },
        "id": "878H8z_HOc0v",
        "outputId": "de33f958-34c9-4305-b691-c0ffffe210ba"
      },
      "source": [
        "data.loc[data['emosi'] == 'kejutan']\n",
        "df = pd.concat([data_balancing(data.loc[data['emosi'] == 'kesedihan'],1000), \n",
        "                data_balancing(data.loc[data['emosi'] == 'kegembiraan'],1000),\n",
        "                data_balancing(data.loc[data['emosi'] == 'kemarahan'],1000),\n",
        "                data_balancing(data.loc[data['emosi'] == 'ketakutan'],1000),\n",
        "                data_balancing(data.loc[data['emosi'] == 'cinta'],1000)], \n",
        "               sort=True)\n",
        "df['emosi']=df['emosi'].astype(\"category\")\n",
        "df.emosi.value_counts().plot(kind = 'barh')\n"
      ],
      "execution_count": 10,
      "outputs": [
        {
          "output_type": "stream",
          "text": [
            "total data: 5094\n",
            "removed: 4094\n",
            "remaining: 1000\n",
            "total data: 4739\n",
            "removed: 3739\n",
            "remaining: 1000\n",
            "total data: 2096\n",
            "removed: 1096\n",
            "remaining: 1000\n",
            "total data: 1886\n",
            "removed: 886\n",
            "remaining: 1000\n",
            "total data: 1266\n",
            "removed: 266\n",
            "remaining: 1000\n"
          ],
          "name": "stdout"
        },
        {
          "output_type": "execute_result",
          "data": {
            "text/plain": [
              "<matplotlib.axes._subplots.AxesSubplot at 0x7f44a8d70910>"
            ]
          },
          "metadata": {
            "tags": []
          },
          "execution_count": 10
        },
        {
          "output_type": "display_data",
          "data": {
            "image/png": "[encoded data removed]",
            "text/plain": [
              "<Figure size 432x288 with 1 Axes>"
            ]
          },
          "metadata": {
            "tags": [],
            "needs_background": "light"
          }
        }
      ]
    },
    {
      "cell_type": "code",
      "metadata": {
        "colab": {
          "base_uri": "https://localhost:8080/",
          "height": 434
        },
        "id": "0bCGXCNw6lPu",
        "outputId": "520bd741-56f4-4f31-f09a-a6e5afffd485"
      },
      "source": [
        "category = pd.get_dummies(df.emosi)\n",
        "df_baru = pd.concat([df, category], axis=1)\n",
        "df_baru = df_baru.drop(columns='emosi')\n",
        "df_baru"
      ],
      "execution_count": 11,
      "outputs": [
        {
          "output_type": "execute_result",
          "data": {
            "text/html": [
              "<div>\n",
              "<style scoped>\n",
              "    .dataframe tbody tr th:only-of-type {\n",
              "        vertical-align: middle;\n",
              "    }\n",
              "\n",
              "    .dataframe tbody tr th {\n",
              "        vertical-align: top;\n",
              "    }\n",
              "\n",
              "    .dataframe thead th {\n",
              "        text-align: right;\n",
              "    }\n",
              "</style>\n",
              "<table border=\"1\" class=\"dataframe\">\n",
              "  <thead>\n",
              "    <tr style=\"text-align: right;\">\n",
              "      <th></th>\n",
              "      <th>kalimat</th>\n",
              "      <th>cinta</th>\n",
              "      <th>kegembiraan</th>\n",
              "      <th>kemarahan</th>\n",
              "      <th>kesedihan</th>\n",
              "      <th>ketakutan</th>\n",
              "    </tr>\n",
              "  </thead>\n",
              "  <tbody>\n",
              "    <tr>\n",
              "      <th>0</th>\n",
              "      <td>saya tidak merasa terhina</td>\n",
              "      <td>0</td>\n",
              "      <td>0</td>\n",
              "      <td>0</td>\n",
              "      <td>1</td>\n",
              "      <td>0</td>\n",
              "    </tr>\n",
              "    <tr>\n",
              "      <th>1</th>\n",
              "      <td>saya bisa berubah dari merasa sangat putus asa menjadi sangat berharap hanya dari berada di sekitar seseorang yang peduli dan terjaga</td>\n",
              "      <td>0</td>\n",
              "      <td>0</td>\n",
              "      <td>0</td>\n",
              "      <td>1</td>\n",
              "      <td>0</td>\n",
              "    </tr>\n",
              "    <tr>\n",
              "      <th>10</th>\n",
              "      <td>Saya merasa seperti saya harus membuat penderitaan yang saya lihat berarti sesuatu</td>\n",
              "      <td>0</td>\n",
              "      <td>0</td>\n",
              "      <td>0</td>\n",
              "      <td>1</td>\n",
              "      <td>0</td>\n",
              "    </tr>\n",
              "    <tr>\n",
              "      <th>17</th>\n",
              "      <td>saya merasa sangat menyedihkan sebagian besar waktu</td>\n",
              "      <td>0</td>\n",
              "      <td>0</td>\n",
              "      <td>0</td>\n",
              "      <td>1</td>\n",
              "      <td>0</td>\n",
              "    </tr>\n",
              "    <tr>\n",
              "      <th>27</th>\n",
              "      <td>saya menjadi kewalahan dan merasa kalah</td>\n",
              "      <td>0</td>\n",
              "      <td>0</td>\n",
              "      <td>0</td>\n",
              "      <td>1</td>\n",
              "      <td>0</td>\n",
              "    </tr>\n",
              "    <tr>\n",
              "      <th>...</th>\n",
              "      <td>...</td>\n",
              "      <td>...</td>\n",
              "      <td>...</td>\n",
              "      <td>...</td>\n",
              "      <td>...</td>\n",
              "      <td>...</td>\n",
              "    </tr>\n",
              "    <tr>\n",
              "      <th>15794</th>\n",
              "      <td>Saya lebih baik dari perasaan Anda yang lain tetapi perasaan diterima</td>\n",
              "      <td>1</td>\n",
              "      <td>0</td>\n",
              "      <td>0</td>\n",
              "      <td>0</td>\n",
              "      <td>0</td>\n",
              "    </tr>\n",
              "    <tr>\n",
              "      <th>15816</th>\n",
              "      <td>Saya merasa akan ada sekuel dan saya ingin menutup akhir buku ini</td>\n",
              "      <td>1</td>\n",
              "      <td>0</td>\n",
              "      <td>0</td>\n",
              "      <td>0</td>\n",
              "      <td>0</td>\n",
              "    </tr>\n",
              "    <tr>\n",
              "      <th>15821</th>\n",
              "      <td>saya suka apa yang saya lakukan dan saya merasa sangat diberkati dan beruntung dapat bepergian dan menjadi kreatif dan bertemu orang-orang luar biasa dan bangun setiap hari mencintai pekerjaan saya</td>\n",
              "      <td>1</td>\n",
              "      <td>0</td>\n",
              "      <td>0</td>\n",
              "      <td>0</td>\n",
              "      <td>0</td>\n",
              "    </tr>\n",
              "    <tr>\n",
              "      <th>15829</th>\n",
              "      <td>saya merasa itu tidak akan mencintai saya tidak memperingatkan Anda tentang krisis sosial yang akan datang yang dihadapi montana</td>\n",
              "      <td>1</td>\n",
              "      <td>0</td>\n",
              "      <td>0</td>\n",
              "      <td>0</td>\n",
              "      <td>0</td>\n",
              "    </tr>\n",
              "    <tr>\n",
              "      <th>15852</th>\n",
              "      <td>saya merasa sangat simpatik terhadap mereka</td>\n",
              "      <td>1</td>\n",
              "      <td>0</td>\n",
              "      <td>0</td>\n",
              "      <td>0</td>\n",
              "      <td>0</td>\n",
              "    </tr>\n",
              "  </tbody>\n",
              "</table>\n",
              "<p>5000 rows × 6 columns</p>\n",
              "</div>"
            ],
            "text/plain": [
              "                                                                                                                                                                                                     kalimat  ...  ketakutan\n",
              "0      saya tidak merasa terhina                                                                                                                                                                              ...  0        \n",
              "1      saya bisa berubah dari merasa sangat putus asa menjadi sangat berharap hanya dari berada di sekitar seseorang yang peduli dan terjaga                                                                  ...  0        \n",
              "10     Saya merasa seperti saya harus membuat penderitaan yang saya lihat berarti sesuatu                                                                                                                     ...  0        \n",
              "17     saya merasa sangat menyedihkan sebagian besar waktu                                                                                                                                                    ...  0        \n",
              "27     saya menjadi kewalahan dan merasa kalah                                                                                                                                                                ...  0        \n",
              "...                                        ...                                                                                                                                                                ... ..        \n",
              "15794  Saya lebih baik dari perasaan Anda yang lain tetapi perasaan diterima                                                                                                                                  ...  0        \n",
              "15816  Saya merasa akan ada sekuel dan saya ingin menutup akhir buku ini                                                                                                                                      ...  0        \n",
              "15821  saya suka apa yang saya lakukan dan saya merasa sangat diberkati dan beruntung dapat bepergian dan menjadi kreatif dan bertemu orang-orang luar biasa dan bangun setiap hari mencintai pekerjaan saya  ...  0        \n",
              "15829  saya merasa itu tidak akan mencintai saya tidak memperingatkan Anda tentang krisis sosial yang akan datang yang dihadapi montana                                                                       ...  0        \n",
              "15852  saya merasa sangat simpatik terhadap mereka                                                                                                                                                            ...  0        \n",
              "\n",
              "[5000 rows x 6 columns]"
            ]
          },
          "metadata": {
            "tags": []
          },
          "execution_count": 11
        }
      ]
    },
    {
      "cell_type": "code",
      "metadata": {
        "id": "nRMmIT2e2WSI"
      },
      "source": [
        "def load_img_steering(df):\n",
        "  teks = []\n",
        "  label = []\n",
        "  for i in range(len(df)):\n",
        "    indexed_data = df.iloc[i]\n",
        "    teks.append((indexed_data[0]))\n",
        "    label.append(indexed_data[[1, 2, 3, 4, 5]] )\n",
        "  data_teks = np.asarray(teks)\n",
        "  label_teks = np.asarray(label)\n",
        "  return   data_teks , label_teks\n",
        " \n",
        "data_teks, label_teks = load_img_steering(df_baru)\n"
      ],
      "execution_count": 12,
      "outputs": []
    },
    {
      "cell_type": "code",
      "metadata": {
        "colab": {
          "base_uri": "https://localhost:8080/"
        },
        "id": "W0XFIV7O6Rob",
        "outputId": "02f1e51e-7537-4593-b3b9-58d4d21faf43"
      },
      "source": [
        "data_teks"
      ],
      "execution_count": 13,
      "outputs": [
        {
          "output_type": "execute_result",
          "data": {
            "text/plain": [
              "array(['saya tidak merasa terhina',\n",
              "       'saya bisa berubah dari merasa sangat putus asa menjadi sangat berharap hanya dari berada di sekitar seseorang yang peduli dan terjaga',\n",
              "       'Saya merasa seperti saya harus membuat penderitaan yang saya lihat berarti sesuatu',\n",
              "       ...,\n",
              "       'saya suka apa yang saya lakukan dan saya merasa sangat diberkati dan beruntung dapat bepergian dan menjadi kreatif dan bertemu orang-orang luar biasa dan bangun setiap hari mencintai pekerjaan saya',\n",
              "       'saya merasa itu tidak akan mencintai saya tidak memperingatkan Anda tentang krisis sosial yang akan datang yang dihadapi montana',\n",
              "       'saya merasa sangat simpatik terhadap mereka'], dtype='<U403')"
            ]
          },
          "metadata": {
            "tags": []
          },
          "execution_count": 13
        }
      ]
    },
    {
      "cell_type": "code",
      "metadata": {
        "id": "PZntTDn69gTX",
        "colab": {
          "base_uri": "https://localhost:8080/"
        },
        "outputId": "5ad5d051-3638-4e25-f3cb-a2a7ad17f287"
      },
      "source": [
        "label_teks = np.array(label_teks, dtype=np.int32)\n",
        "label_teks"
      ],
      "execution_count": 14,
      "outputs": [
        {
          "output_type": "execute_result",
          "data": {
            "text/plain": [
              "array([[0, 0, 0, 1, 0],\n",
              "       [0, 0, 0, 1, 0],\n",
              "       [0, 0, 0, 1, 0],\n",
              "       ...,\n",
              "       [1, 0, 0, 0, 0],\n",
              "       [1, 0, 0, 0, 0],\n",
              "       [1, 0, 0, 0, 0]], dtype=int32)"
            ]
          },
          "metadata": {
            "tags": []
          },
          "execution_count": 14
        }
      ]
    },
    {
      "cell_type": "code",
      "metadata": {
        "colab": {
          "base_uri": "https://localhost:8080/"
        },
        "id": "ouKVPok0coEV",
        "outputId": "1f159f9b-ac51-4a51-bbb4-eba97d73462d"
      },
      "source": [
        "label_teks.shape"
      ],
      "execution_count": 15,
      "outputs": [
        {
          "output_type": "execute_result",
          "data": {
            "text/plain": [
              "(5000, 5)"
            ]
          },
          "metadata": {
            "tags": []
          },
          "execution_count": 15
        }
      ]
    },
    {
      "cell_type": "code",
      "metadata": {
        "id": "eT8AvFrOMVGC"
      },
      "source": [
        "from sklearn.model_selection import train_test_split\n",
        "\n",
        "kalimat_latih, kalimat_test, y_latih, y_test = train_test_split(data_teks, label_teks, test_size=0.2)"
      ],
      "execution_count": 16,
      "outputs": []
    },
    {
      "cell_type": "code",
      "metadata": {
        "id": "QvHGllPIyEah"
      },
      "source": [
        "from tensorflow.keras.preprocessing.text import Tokenizer\n",
        "from tensorflow.keras.preprocessing.sequence import pad_sequences\n",
        "num_words = 10000\n",
        "tokenizer = Tokenizer(num_words, oov_token='*')\n",
        "tokenizer.fit_on_texts(kalimat_latih) \n",
        "tokenizer.fit_on_texts(kalimat_test)\n",
        " \n",
        "x_train_tokens = tokenizer.texts_to_sequences(kalimat_latih)\n",
        "x_valid_tokens = tokenizer.texts_to_sequences(kalimat_test)\n",
        "\n",
        "x_train_padded = pad_sequences(x_train_tokens) \n",
        "x_valid_padded = pad_sequences(x_valid_tokens)\n"
      ],
      "execution_count": 17,
      "outputs": []
    },
    {
      "cell_type": "code",
      "metadata": {
        "id": "1kty_l5P5U3-"
      },
      "source": [
        "num_tokens = [len(tokens) for tokens in x_train_tokens + x_valid_tokens]\n",
        "num_tokens = np.array(num_tokens)"
      ],
      "execution_count": 18,
      "outputs": []
    },
    {
      "cell_type": "code",
      "metadata": {
        "colab": {
          "base_uri": "https://localhost:8080/"
        },
        "id": "3oSPcLqN5cEV",
        "outputId": "1413c5a0-4a16-4fbe-f9d2-0dd0d2833377"
      },
      "source": [
        "np.mean(num_tokens)"
      ],
      "execution_count": 19,
      "outputs": [
        {
          "output_type": "execute_result",
          "data": {
            "text/plain": [
              "17.5402"
            ]
          },
          "metadata": {
            "tags": []
          },
          "execution_count": 19
        }
      ]
    },
    {
      "cell_type": "code",
      "metadata": {
        "colab": {
          "base_uri": "https://localhost:8080/"
        },
        "id": "B2iCb6-n5d_j",
        "outputId": "0e59e9d8-a0ef-43f1-8214-0d700d6c57e5"
      },
      "source": [
        "np.max(num_tokens)"
      ],
      "execution_count": 20,
      "outputs": [
        {
          "output_type": "execute_result",
          "data": {
            "text/plain": [
              "67"
            ]
          },
          "metadata": {
            "tags": []
          },
          "execution_count": 20
        }
      ]
    },
    {
      "cell_type": "code",
      "metadata": {
        "colab": {
          "base_uri": "https://localhost:8080/"
        },
        "id": "5GvhBddd5kLg",
        "outputId": "cab2b75a-c53a-49a2-9b05-95df067d55cf"
      },
      "source": [
        "max_tokens = np.mean(num_tokens) + 2 * np.std(num_tokens)\n",
        "max_tokens = int(max_tokens)\n",
        "max_tokens"
      ],
      "execution_count": 21,
      "outputs": [
        {
          "output_type": "execute_result",
          "data": {
            "text/plain": [
              "37"
            ]
          },
          "metadata": {
            "tags": []
          },
          "execution_count": 21
        }
      ]
    },
    {
      "cell_type": "code",
      "metadata": {
        "colab": {
          "base_uri": "https://localhost:8080/"
        },
        "id": "q05eKTPS5nc_",
        "outputId": "42de04df-ea4e-464f-8af7-41c10824ddb2"
      },
      "source": [
        "np.sum(num_tokens < max_tokens) / len(num_tokens)"
      ],
      "execution_count": 22,
      "outputs": [
        {
          "output_type": "execute_result",
          "data": {
            "text/plain": [
              "0.9448"
            ]
          },
          "metadata": {
            "tags": []
          },
          "execution_count": 22
        }
      ]
    },
    {
      "cell_type": "code",
      "metadata": {
        "colab": {
          "base_uri": "https://localhost:8080/"
        },
        "id": "TKCyxImU2ipc",
        "outputId": "b9019ae7-a8e0-4a04-c650-d3fdb164d469"
      },
      "source": [
        "print(kalimat_latih[0])\n",
        "print(np.array(x_train_tokens[0]))\n",
        "print(np.array(x_train_padded[0]))\n",
        "print(np.array(tokenizer.sequences_to_texts(x_train_padded)[0]))"
      ],
      "execution_count": 23,
      "outputs": [
        {
          "output_type": "stream",
          "text": [
            "saya sedang mengalengkan tomat dan merasa nostalgia\n",
            "[   2  189 3200 2219    4    3  267]\n",
            "[   0    0    0    0    0    0    0    0    0    0    0    0    0    0\n",
            "    0    0    0    0    0    0    0    0    0    0    0    0    0    0\n",
            "    0    0    0    0    0    0    0    0    0    0    0    0    0    0\n",
            "    0    0    0    0    0    0    0    0    0    0    0    0    0    0\n",
            "    2  189 3200 2219    4    3  267]\n",
            "* * * * * * * * * * * * * * * * * * * * * * * * * * * * * * * * * * * * * * * * * * * * * * * * * * * * * * * * saya sedang mengalengkan tomat dan merasa nostalgia\n"
          ],
          "name": "stdout"
        }
      ]
    },
    {
      "cell_type": "code",
      "metadata": {
        "id": "_j5BmnnOHti0",
        "colab": {
          "base_uri": "https://localhost:8080/"
        },
        "outputId": "4d76d08b-6451-4394-9c1e-c7c6e3cbe993"
      },
      "source": [
        "pip install -q -U keras-tuner\n"
      ],
      "execution_count": 24,
      "outputs": [
        {
          "output_type": "stream",
          "text": [
            "\u001b[?25l\r\u001b[K     |███▍                            | 10 kB 23.1 MB/s eta 0:00:01\r\u001b[K     |██████▉                         | 20 kB 30.1 MB/s eta 0:00:01\r\u001b[K     |██████████▏                     | 30 kB 27.3 MB/s eta 0:00:01\r\u001b[K     |█████████████▋                  | 40 kB 20.7 MB/s eta 0:00:01\r\u001b[K     |█████████████████               | 51 kB 9.5 MB/s eta 0:00:01\r\u001b[K     |████████████████████▍           | 61 kB 9.7 MB/s eta 0:00:01\r\u001b[K     |███████████████████████▊        | 71 kB 9.3 MB/s eta 0:00:01\r\u001b[K     |███████████████████████████▏    | 81 kB 9.2 MB/s eta 0:00:01\r\u001b[K     |██████████████████████████████▋ | 92 kB 9.6 MB/s eta 0:00:01\r\u001b[K     |████████████████████████████████| 96 kB 3.7 MB/s \n",
            "\u001b[?25h  Building wheel for kt-legacy (setup.py) ... \u001b[?25l\u001b[?25hdone\n"
          ],
          "name": "stdout"
        }
      ]
    },
    {
      "cell_type": "code",
      "metadata": {
        "id": "lXrbBRZLHxwc",
        "colab": {
          "base_uri": "https://localhost:8080/"
        },
        "outputId": "82e1c202-7b8e-49f1-88b8-83f0a9d85c8e"
      },
      "source": [
        "import kerastuner.tuners as kt\n"
      ],
      "execution_count": 25,
      "outputs": [
        {
          "output_type": "stream",
          "text": [
            "/usr/local/lib/python3.7/dist-packages/ipykernel_launcher.py:1: DeprecationWarning: `import kerastuner` is deprecated, please use `import keras_tuner`.\n",
            "  \"\"\"Entry point for launching an IPython kernel.\n"
          ],
          "name": "stderr"
        }
      ]
    },
    {
      "cell_type": "code",
      "metadata": {
        "id": "BnrT-d1myNsq"
      },
      "source": [
        "import tensorflow as tf\n",
        "\n",
        "def model_rnn1(hp):\n",
        "  model = tf.keras.Sequential()\n",
        "  model.add(tf.keras.layers.Embedding(num_words, hp.Int(\"Output Embed\",min_value= 64, max_value = 256, step= 64), input_length=max_tokens,name='layer_embedding'))\n",
        "  model.add(tf.keras.layers.LSTM(hp.Int(\"LSTM\",min_value= 64, max_value = 256, step= 64)))\n",
        "\n",
        "  for i in range(hp.Int(\"Dense Layers\", min_value=1, max_value=3)):\n",
        "      model.add(tf.keras.layers.Dense(hp.Int(f\"Dense_{i}_layer\", min_value= 64, max_value = 256, step= 64), \n",
        "                                   activation='relu'))\n",
        "\n",
        "  model.add(tf.keras.layers.Dense(5, activation='softmax'))\n",
        "  model.compile(loss='categorical_crossentropy', optimizer=tf.keras.optimizers.Adam(hp.Choice(f\"learning_rate\", [ 3e-4,1e-3])),metrics=['accuracy'])\n",
        "  return model\n",
        "def model_rnn():\n",
        "  model = tf.keras.Sequential()\n",
        "  model.add(tf.keras.layers.Embedding(num_words, 192, input_length=max_tokens,name='layer_embedding'))\n",
        "  model.add(tf.keras.layers.LSTM(192))\n",
        "  model.add(tf.keras.layers.Dense(192, activation='relu'))\n",
        " \n",
        "\n",
        "\n",
        "  model.add(tf.keras.layers.Dense(5, activation='softmax'))\n",
        "  model.compile(loss='categorical_crossentropy', optimizer=tf.keras.optimizers.Adam(1e-3),metrics=['accuracy'])\n",
        "  return model\n"
      ],
      "execution_count": 32,
      "outputs": []
    },
    {
      "cell_type": "code",
      "metadata": {
        "id": "Hew4ez7nI3bI"
      },
      "source": [
        "class myCallback(tf.keras.callbacks.Callback):\n",
        "\n",
        "  def on_epoch_end(self, epoch, logs={}):\n",
        "\n",
        "    if(logs.get('accuracy') > 0.90 and logs.get('val_accuracy') > 0.90 ):  \n",
        "\n",
        "\n",
        "      print(\"\\nAkurasi telah mencapai >90%!\")\n",
        "\n",
        "      self.model.stop_training = True\n",
        "\n",
        "callbacks90 = myCallback()"
      ],
      "execution_count": 26,
      "outputs": []
    },
    {
      "cell_type": "code",
      "metadata": {
        "id": "Ts-_PaLJKyan",
        "colab": {
          "base_uri": "https://localhost:8080/",
          "height": 676
        },
        "outputId": "3b98e374-2920-4be1-e7ba-dcf608cc20a7"
      },
      "source": [
        "class MyTuner(kt.RandomSearch):\n",
        "  def run_trial(self, trial, *args, **kwargs):\n",
        "    # You can add additional HyperParameters for preprocessing and custom training loops\n",
        "    # via overriding `run_trial`\n",
        "\n",
        "    super(MyTuner, self).run_trial(trial, *args, **kwargs)\n",
        "\n",
        "# Uses same arguments as the BayesianOptimization Tuner.\n",
        "tuner = MyTuner(model_rnn1,\n",
        "                objective='val_accuracy',\n",
        "                max_trials=1000,)\n",
        "# Don't pass epochs or batch_size here, let the Tuner tune them.\n",
        "\n",
        "tuner.search(\n",
        "    x_train_padded, y_latih,\n",
        "        validation_split=0.2,\n",
        "            epochs=50,\n",
        "             steps_per_epoch = 500,\n",
        "            callbacks=[\n",
        "              tf.keras.callbacks.EarlyStopping(\n",
        "              monitor='val_accuracy',\n",
        "              patience=5,\n",
        "              ),callbacks90\n",
        "              ]\n",
        "             )"
      ],
      "execution_count": 27,
      "outputs": [
        {
          "output_type": "stream",
          "text": [
            "\n",
            "Search: Running Trial #1\n",
            "\n",
            "Hyperparameter    |Value             |Best Value So Far \n",
            "Output Embed      |192               |?                 \n",
            "LSTM              |256               |?                 \n",
            "Dense Layers      |2                 |?                 \n",
            "Dense_0_layer     |192               |?                 \n",
            "learning_rate     |0.0003            |?                 \n",
            "\n",
            "Epoch 1/50\n",
            "WARNING:tensorflow:Model was constructed with shape (None, 37) for input KerasTensor(type_spec=TensorSpec(shape=(None, 37), dtype=tf.float32, name='layer_embedding_input'), name='layer_embedding_input', description=\"created by layer 'layer_embedding_input'\"), but it was called on an input with incompatible shape (None, 63).\n",
            "WARNING:tensorflow:Model was constructed with shape (None, 37) for input KerasTensor(type_spec=TensorSpec(shape=(None, 37), dtype=tf.float32, name='layer_embedding_input'), name='layer_embedding_input', description=\"created by layer 'layer_embedding_input'\"), but it was called on an input with incompatible shape (None, 63).\n",
            "500/500 [==============================] - ETA: 0s - loss: 1.5288 - accuracy: 0.3111WARNING:tensorflow:Model was constructed with shape (None, 37) for input KerasTensor(type_spec=TensorSpec(shape=(None, 37), dtype=tf.float32, name='layer_embedding_input'), name='layer_embedding_input', description=\"created by layer 'layer_embedding_input'\"), but it was called on an input with incompatible shape (32, 63).\n",
            "500/500 [==============================] - 95s 185ms/step - loss: 1.5288 - accuracy: 0.3111 - val_loss: 1.2560 - val_accuracy: 0.4625\n",
            "Epoch 2/50\n",
            "342/500 [===================>..........] - ETA: 28s - loss: 0.9973 - accuracy: 0.6228"
          ],
          "name": "stdout"
        },
        {
          "output_type": "error",
          "ename": "KeyboardInterrupt",
          "evalue": "ignored",
          "traceback": [
            "\u001b[0;31m---------------------------------------------------------------------------\u001b[0m",
            "\u001b[0;31mKeyboardInterrupt\u001b[0m                         Traceback (most recent call last)",
            "\u001b[0;32m<ipython-input-27-7d5f110135dd>\u001b[0m in \u001b[0;36m<module>\u001b[0;34m()\u001b[0m\n\u001b[1;32m     21\u001b[0m               \u001b[0mmonitor\u001b[0m\u001b[0;34m=\u001b[0m\u001b[0;34m'val_accuracy'\u001b[0m\u001b[0;34m,\u001b[0m\u001b[0;34m\u001b[0m\u001b[0;34m\u001b[0m\u001b[0m\n\u001b[1;32m     22\u001b[0m               \u001b[0mpatience\u001b[0m\u001b[0;34m=\u001b[0m\u001b[0;36m5\u001b[0m\u001b[0;34m,\u001b[0m\u001b[0;34m\u001b[0m\u001b[0;34m\u001b[0m\u001b[0m\n\u001b[0;32m---> 23\u001b[0;31m               ),callbacks90\n\u001b[0m\u001b[1;32m     24\u001b[0m               ]\n\u001b[1;32m     25\u001b[0m              )\n",
            "\u001b[0;32m/usr/local/lib/python3.7/dist-packages/keras_tuner/engine/base_tuner.py\u001b[0m in \u001b[0;36msearch\u001b[0;34m(self, *fit_args, **fit_kwargs)\u001b[0m\n\u001b[1;32m    142\u001b[0m \u001b[0;34m\u001b[0m\u001b[0m\n\u001b[1;32m    143\u001b[0m             \u001b[0mself\u001b[0m\u001b[0;34m.\u001b[0m\u001b[0mon_trial_begin\u001b[0m\u001b[0;34m(\u001b[0m\u001b[0mtrial\u001b[0m\u001b[0;34m)\u001b[0m\u001b[0;34m\u001b[0m\u001b[0;34m\u001b[0m\u001b[0m\n\u001b[0;32m--> 144\u001b[0;31m             \u001b[0mself\u001b[0m\u001b[0;34m.\u001b[0m\u001b[0mrun_trial\u001b[0m\u001b[0;34m(\u001b[0m\u001b[0mtrial\u001b[0m\u001b[0;34m,\u001b[0m \u001b[0;34m*\u001b[0m\u001b[0mfit_args\u001b[0m\u001b[0;34m,\u001b[0m \u001b[0;34m**\u001b[0m\u001b[0mfit_kwargs\u001b[0m\u001b[0;34m)\u001b[0m\u001b[0;34m\u001b[0m\u001b[0;34m\u001b[0m\u001b[0m\n\u001b[0m\u001b[1;32m    145\u001b[0m             \u001b[0mself\u001b[0m\u001b[0;34m.\u001b[0m\u001b[0mon_trial_end\u001b[0m\u001b[0;34m(\u001b[0m\u001b[0mtrial\u001b[0m\u001b[0;34m)\u001b[0m\u001b[0;34m\u001b[0m\u001b[0;34m\u001b[0m\u001b[0m\n\u001b[1;32m    146\u001b[0m         \u001b[0mself\u001b[0m\u001b[0;34m.\u001b[0m\u001b[0mon_search_end\u001b[0m\u001b[0;34m(\u001b[0m\u001b[0;34m)\u001b[0m\u001b[0;34m\u001b[0m\u001b[0;34m\u001b[0m\u001b[0m\n",
            "\u001b[0;32m<ipython-input-27-7d5f110135dd>\u001b[0m in \u001b[0;36mrun_trial\u001b[0;34m(self, trial, *args, **kwargs)\u001b[0m\n\u001b[1;32m      4\u001b[0m     \u001b[0;31m# via overriding `run_trial`\u001b[0m\u001b[0;34m\u001b[0m\u001b[0;34m\u001b[0m\u001b[0;34m\u001b[0m\u001b[0m\n\u001b[1;32m      5\u001b[0m \u001b[0;34m\u001b[0m\u001b[0m\n\u001b[0;32m----> 6\u001b[0;31m     \u001b[0msuper\u001b[0m\u001b[0;34m(\u001b[0m\u001b[0mMyTuner\u001b[0m\u001b[0;34m,\u001b[0m \u001b[0mself\u001b[0m\u001b[0;34m)\u001b[0m\u001b[0;34m.\u001b[0m\u001b[0mrun_trial\u001b[0m\u001b[0;34m(\u001b[0m\u001b[0mtrial\u001b[0m\u001b[0;34m,\u001b[0m \u001b[0;34m*\u001b[0m\u001b[0margs\u001b[0m\u001b[0;34m,\u001b[0m \u001b[0;34m**\u001b[0m\u001b[0mkwargs\u001b[0m\u001b[0;34m)\u001b[0m\u001b[0;34m\u001b[0m\u001b[0;34m\u001b[0m\u001b[0m\n\u001b[0m\u001b[1;32m      7\u001b[0m \u001b[0;34m\u001b[0m\u001b[0m\n\u001b[1;32m      8\u001b[0m \u001b[0;31m# Uses same arguments as the BayesianOptimization Tuner.\u001b[0m\u001b[0;34m\u001b[0m\u001b[0;34m\u001b[0m\u001b[0;34m\u001b[0m\u001b[0m\n",
            "\u001b[0;32m/usr/local/lib/python3.7/dist-packages/keras_tuner/engine/multi_execution_tuner.py\u001b[0m in \u001b[0;36mrun_trial\u001b[0;34m(self, trial, *fit_args, **fit_kwargs)\u001b[0m\n\u001b[1;32m     88\u001b[0m             \u001b[0mcopied_fit_kwargs\u001b[0m\u001b[0;34m[\u001b[0m\u001b[0;34m\"callbacks\"\u001b[0m\u001b[0;34m]\u001b[0m \u001b[0;34m=\u001b[0m \u001b[0mcallbacks\u001b[0m\u001b[0;34m\u001b[0m\u001b[0;34m\u001b[0m\u001b[0m\n\u001b[1;32m     89\u001b[0m \u001b[0;34m\u001b[0m\u001b[0m\n\u001b[0;32m---> 90\u001b[0;31m             \u001b[0mhistory\u001b[0m \u001b[0;34m=\u001b[0m \u001b[0mself\u001b[0m\u001b[0;34m.\u001b[0m\u001b[0m_build_and_fit_model\u001b[0m\u001b[0;34m(\u001b[0m\u001b[0mtrial\u001b[0m\u001b[0;34m,\u001b[0m \u001b[0mfit_args\u001b[0m\u001b[0;34m,\u001b[0m \u001b[0mcopied_fit_kwargs\u001b[0m\u001b[0;34m)\u001b[0m\u001b[0;34m\u001b[0m\u001b[0;34m\u001b[0m\u001b[0m\n\u001b[0m\u001b[1;32m     91\u001b[0m             \u001b[0;32mfor\u001b[0m \u001b[0mmetric\u001b[0m\u001b[0;34m,\u001b[0m \u001b[0mepoch_values\u001b[0m \u001b[0;32min\u001b[0m \u001b[0mhistory\u001b[0m\u001b[0;34m.\u001b[0m\u001b[0mhistory\u001b[0m\u001b[0;34m.\u001b[0m\u001b[0mitems\u001b[0m\u001b[0;34m(\u001b[0m\u001b[0;34m)\u001b[0m\u001b[0;34m:\u001b[0m\u001b[0;34m\u001b[0m\u001b[0;34m\u001b[0m\u001b[0m\n\u001b[1;32m     92\u001b[0m                 \u001b[0;32mif\u001b[0m \u001b[0mself\u001b[0m\u001b[0;34m.\u001b[0m\u001b[0moracle\u001b[0m\u001b[0;34m.\u001b[0m\u001b[0mobjective\u001b[0m\u001b[0;34m.\u001b[0m\u001b[0mdirection\u001b[0m \u001b[0;34m==\u001b[0m \u001b[0;34m\"min\"\u001b[0m\u001b[0;34m:\u001b[0m\u001b[0;34m\u001b[0m\u001b[0;34m\u001b[0m\u001b[0m\n",
            "\u001b[0;32m/usr/local/lib/python3.7/dist-packages/keras_tuner/engine/tuner.py\u001b[0m in \u001b[0;36m_build_and_fit_model\u001b[0;34m(self, trial, fit_args, fit_kwargs)\u001b[0m\n\u001b[1;32m    145\u001b[0m         \"\"\"\n\u001b[1;32m    146\u001b[0m         \u001b[0mmodel\u001b[0m \u001b[0;34m=\u001b[0m \u001b[0mself\u001b[0m\u001b[0;34m.\u001b[0m\u001b[0mhypermodel\u001b[0m\u001b[0;34m.\u001b[0m\u001b[0mbuild\u001b[0m\u001b[0;34m(\u001b[0m\u001b[0mtrial\u001b[0m\u001b[0;34m.\u001b[0m\u001b[0mhyperparameters\u001b[0m\u001b[0;34m)\u001b[0m\u001b[0;34m\u001b[0m\u001b[0;34m\u001b[0m\u001b[0m\n\u001b[0;32m--> 147\u001b[0;31m         \u001b[0;32mreturn\u001b[0m \u001b[0mmodel\u001b[0m\u001b[0;34m.\u001b[0m\u001b[0mfit\u001b[0m\u001b[0;34m(\u001b[0m\u001b[0;34m*\u001b[0m\u001b[0mfit_args\u001b[0m\u001b[0;34m,\u001b[0m \u001b[0;34m**\u001b[0m\u001b[0mfit_kwargs\u001b[0m\u001b[0;34m)\u001b[0m\u001b[0;34m\u001b[0m\u001b[0;34m\u001b[0m\u001b[0m\n\u001b[0m\u001b[1;32m    148\u001b[0m \u001b[0;34m\u001b[0m\u001b[0m\n\u001b[1;32m    149\u001b[0m     \u001b[0;32mdef\u001b[0m \u001b[0mrun_trial\u001b[0m\u001b[0;34m(\u001b[0m\u001b[0mself\u001b[0m\u001b[0;34m,\u001b[0m \u001b[0mtrial\u001b[0m\u001b[0;34m,\u001b[0m \u001b[0;34m*\u001b[0m\u001b[0mfit_args\u001b[0m\u001b[0;34m,\u001b[0m \u001b[0;34m**\u001b[0m\u001b[0mfit_kwargs\u001b[0m\u001b[0;34m)\u001b[0m\u001b[0;34m:\u001b[0m\u001b[0;34m\u001b[0m\u001b[0;34m\u001b[0m\u001b[0m\n",
            "\u001b[0;32m/usr/local/lib/python3.7/dist-packages/tensorflow/python/keras/engine/training.py\u001b[0m in \u001b[0;36mfit\u001b[0;34m(self, x, y, batch_size, epochs, verbose, callbacks, validation_split, validation_data, shuffle, class_weight, sample_weight, initial_epoch, steps_per_epoch, validation_steps, validation_batch_size, validation_freq, max_queue_size, workers, use_multiprocessing)\u001b[0m\n\u001b[1;32m   1181\u001b[0m                 _r=1):\n\u001b[1;32m   1182\u001b[0m               \u001b[0mcallbacks\u001b[0m\u001b[0;34m.\u001b[0m\u001b[0mon_train_batch_begin\u001b[0m\u001b[0;34m(\u001b[0m\u001b[0mstep\u001b[0m\u001b[0;34m)\u001b[0m\u001b[0;34m\u001b[0m\u001b[0;34m\u001b[0m\u001b[0m\n\u001b[0;32m-> 1183\u001b[0;31m               \u001b[0mtmp_logs\u001b[0m \u001b[0;34m=\u001b[0m \u001b[0mself\u001b[0m\u001b[0;34m.\u001b[0m\u001b[0mtrain_function\u001b[0m\u001b[0;34m(\u001b[0m\u001b[0miterator\u001b[0m\u001b[0;34m)\u001b[0m\u001b[0;34m\u001b[0m\u001b[0;34m\u001b[0m\u001b[0m\n\u001b[0m\u001b[1;32m   1184\u001b[0m               \u001b[0;32mif\u001b[0m \u001b[0mdata_handler\u001b[0m\u001b[0;34m.\u001b[0m\u001b[0mshould_sync\u001b[0m\u001b[0;34m:\u001b[0m\u001b[0;34m\u001b[0m\u001b[0;34m\u001b[0m\u001b[0m\n\u001b[1;32m   1185\u001b[0m                 \u001b[0mcontext\u001b[0m\u001b[0;34m.\u001b[0m\u001b[0masync_wait\u001b[0m\u001b[0;34m(\u001b[0m\u001b[0;34m)\u001b[0m\u001b[0;34m\u001b[0m\u001b[0;34m\u001b[0m\u001b[0m\n",
            "\u001b[0;32m/usr/local/lib/python3.7/dist-packages/tensorflow/python/eager/def_function.py\u001b[0m in \u001b[0;36m__call__\u001b[0;34m(self, *args, **kwds)\u001b[0m\n\u001b[1;32m    887\u001b[0m \u001b[0;34m\u001b[0m\u001b[0m\n\u001b[1;32m    888\u001b[0m       \u001b[0;32mwith\u001b[0m \u001b[0mOptionalXlaContext\u001b[0m\u001b[0;34m(\u001b[0m\u001b[0mself\u001b[0m\u001b[0;34m.\u001b[0m\u001b[0m_jit_compile\u001b[0m\u001b[0;34m)\u001b[0m\u001b[0;34m:\u001b[0m\u001b[0;34m\u001b[0m\u001b[0;34m\u001b[0m\u001b[0m\n\u001b[0;32m--> 889\u001b[0;31m         \u001b[0mresult\u001b[0m \u001b[0;34m=\u001b[0m \u001b[0mself\u001b[0m\u001b[0;34m.\u001b[0m\u001b[0m_call\u001b[0m\u001b[0;34m(\u001b[0m\u001b[0;34m*\u001b[0m\u001b[0margs\u001b[0m\u001b[0;34m,\u001b[0m \u001b[0;34m**\u001b[0m\u001b[0mkwds\u001b[0m\u001b[0;34m)\u001b[0m\u001b[0;34m\u001b[0m\u001b[0;34m\u001b[0m\u001b[0m\n\u001b[0m\u001b[1;32m    890\u001b[0m \u001b[0;34m\u001b[0m\u001b[0m\n\u001b[1;32m    891\u001b[0m       \u001b[0mnew_tracing_count\u001b[0m \u001b[0;34m=\u001b[0m \u001b[0mself\u001b[0m\u001b[0;34m.\u001b[0m\u001b[0mexperimental_get_tracing_count\u001b[0m\u001b[0;34m(\u001b[0m\u001b[0;34m)\u001b[0m\u001b[0;34m\u001b[0m\u001b[0;34m\u001b[0m\u001b[0m\n",
            "\u001b[0;32m/usr/local/lib/python3.7/dist-packages/tensorflow/python/eager/def_function.py\u001b[0m in \u001b[0;36m_call\u001b[0;34m(self, *args, **kwds)\u001b[0m\n\u001b[1;32m    915\u001b[0m       \u001b[0;31m# In this case we have created variables on the first call, so we run the\u001b[0m\u001b[0;34m\u001b[0m\u001b[0;34m\u001b[0m\u001b[0;34m\u001b[0m\u001b[0m\n\u001b[1;32m    916\u001b[0m       \u001b[0;31m# defunned version which is guaranteed to never create variables.\u001b[0m\u001b[0;34m\u001b[0m\u001b[0;34m\u001b[0m\u001b[0;34m\u001b[0m\u001b[0m\n\u001b[0;32m--> 917\u001b[0;31m       \u001b[0;32mreturn\u001b[0m \u001b[0mself\u001b[0m\u001b[0;34m.\u001b[0m\u001b[0m_stateless_fn\u001b[0m\u001b[0;34m(\u001b[0m\u001b[0;34m*\u001b[0m\u001b[0margs\u001b[0m\u001b[0;34m,\u001b[0m \u001b[0;34m**\u001b[0m\u001b[0mkwds\u001b[0m\u001b[0;34m)\u001b[0m  \u001b[0;31m# pylint: disable=not-callable\u001b[0m\u001b[0;34m\u001b[0m\u001b[0;34m\u001b[0m\u001b[0m\n\u001b[0m\u001b[1;32m    918\u001b[0m     \u001b[0;32melif\u001b[0m \u001b[0mself\u001b[0m\u001b[0;34m.\u001b[0m\u001b[0m_stateful_fn\u001b[0m \u001b[0;32mis\u001b[0m \u001b[0;32mnot\u001b[0m \u001b[0;32mNone\u001b[0m\u001b[0;34m:\u001b[0m\u001b[0;34m\u001b[0m\u001b[0;34m\u001b[0m\u001b[0m\n\u001b[1;32m    919\u001b[0m       \u001b[0;31m# Release the lock early so that multiple threads can perform the call\u001b[0m\u001b[0;34m\u001b[0m\u001b[0;34m\u001b[0m\u001b[0;34m\u001b[0m\u001b[0m\n",
            "\u001b[0;32m/usr/local/lib/python3.7/dist-packages/tensorflow/python/eager/function.py\u001b[0m in \u001b[0;36m__call__\u001b[0;34m(self, *args, **kwargs)\u001b[0m\n\u001b[1;32m   3022\u001b[0m        filtered_flat_args) = self._maybe_define_function(args, kwargs)\n\u001b[1;32m   3023\u001b[0m     return graph_function._call_flat(\n\u001b[0;32m-> 3024\u001b[0;31m         filtered_flat_args, captured_inputs=graph_function.captured_inputs)  # pylint: disable=protected-access\n\u001b[0m\u001b[1;32m   3025\u001b[0m \u001b[0;34m\u001b[0m\u001b[0m\n\u001b[1;32m   3026\u001b[0m   \u001b[0;34m@\u001b[0m\u001b[0mproperty\u001b[0m\u001b[0;34m\u001b[0m\u001b[0;34m\u001b[0m\u001b[0m\n",
            "\u001b[0;32m/usr/local/lib/python3.7/dist-packages/tensorflow/python/eager/function.py\u001b[0m in \u001b[0;36m_call_flat\u001b[0;34m(self, args, captured_inputs, cancellation_manager)\u001b[0m\n\u001b[1;32m   1959\u001b[0m       \u001b[0;31m# No tape is watching; skip to running the function.\u001b[0m\u001b[0;34m\u001b[0m\u001b[0;34m\u001b[0m\u001b[0;34m\u001b[0m\u001b[0m\n\u001b[1;32m   1960\u001b[0m       return self._build_call_outputs(self._inference_function.call(\n\u001b[0;32m-> 1961\u001b[0;31m           ctx, args, cancellation_manager=cancellation_manager))\n\u001b[0m\u001b[1;32m   1962\u001b[0m     forward_backward = self._select_forward_and_backward_functions(\n\u001b[1;32m   1963\u001b[0m         \u001b[0margs\u001b[0m\u001b[0;34m,\u001b[0m\u001b[0;34m\u001b[0m\u001b[0;34m\u001b[0m\u001b[0m\n",
            "\u001b[0;32m/usr/local/lib/python3.7/dist-packages/tensorflow/python/eager/function.py\u001b[0m in \u001b[0;36mcall\u001b[0;34m(self, ctx, args, cancellation_manager)\u001b[0m\n\u001b[1;32m    594\u001b[0m               \u001b[0minputs\u001b[0m\u001b[0;34m=\u001b[0m\u001b[0margs\u001b[0m\u001b[0;34m,\u001b[0m\u001b[0;34m\u001b[0m\u001b[0;34m\u001b[0m\u001b[0m\n\u001b[1;32m    595\u001b[0m               \u001b[0mattrs\u001b[0m\u001b[0;34m=\u001b[0m\u001b[0mattrs\u001b[0m\u001b[0;34m,\u001b[0m\u001b[0;34m\u001b[0m\u001b[0;34m\u001b[0m\u001b[0m\n\u001b[0;32m--> 596\u001b[0;31m               ctx=ctx)\n\u001b[0m\u001b[1;32m    597\u001b[0m         \u001b[0;32melse\u001b[0m\u001b[0;34m:\u001b[0m\u001b[0;34m\u001b[0m\u001b[0;34m\u001b[0m\u001b[0m\n\u001b[1;32m    598\u001b[0m           outputs = execute.execute_with_cancellation(\n",
            "\u001b[0;32m/usr/local/lib/python3.7/dist-packages/tensorflow/python/eager/execute.py\u001b[0m in \u001b[0;36mquick_execute\u001b[0;34m(op_name, num_outputs, inputs, attrs, ctx, name)\u001b[0m\n\u001b[1;32m     58\u001b[0m     \u001b[0mctx\u001b[0m\u001b[0;34m.\u001b[0m\u001b[0mensure_initialized\u001b[0m\u001b[0;34m(\u001b[0m\u001b[0;34m)\u001b[0m\u001b[0;34m\u001b[0m\u001b[0;34m\u001b[0m\u001b[0m\n\u001b[1;32m     59\u001b[0m     tensors = pywrap_tfe.TFE_Py_Execute(ctx._handle, device_name, op_name,\n\u001b[0;32m---> 60\u001b[0;31m                                         inputs, attrs, num_outputs)\n\u001b[0m\u001b[1;32m     61\u001b[0m   \u001b[0;32mexcept\u001b[0m \u001b[0mcore\u001b[0m\u001b[0;34m.\u001b[0m\u001b[0m_NotOkStatusException\u001b[0m \u001b[0;32mas\u001b[0m \u001b[0me\u001b[0m\u001b[0;34m:\u001b[0m\u001b[0;34m\u001b[0m\u001b[0;34m\u001b[0m\u001b[0m\n\u001b[1;32m     62\u001b[0m     \u001b[0;32mif\u001b[0m \u001b[0mname\u001b[0m \u001b[0;32mis\u001b[0m \u001b[0;32mnot\u001b[0m \u001b[0;32mNone\u001b[0m\u001b[0;34m:\u001b[0m\u001b[0;34m\u001b[0m\u001b[0;34m\u001b[0m\u001b[0m\n",
            "\u001b[0;31mKeyboardInterrupt\u001b[0m: "
          ]
        }
      ]
    },
    {
      "cell_type": "code",
      "metadata": {
        "id": "vuT4alASGLDX"
      },
      "source": [
        ""
      ],
      "execution_count": null,
      "outputs": []
    },
    {
      "cell_type": "code",
      "metadata": {
        "id": "1UYr5XPhyRXS",
        "outputId": "7d8ed353-b4d0-4cca-c67e-693f659e4584",
        "colab": {
          "base_uri": "https://localhost:8080/"
        }
      },
      "source": [
        "model = model_rnn()\n",
        "num_epochs = 30\n",
        "history = model.fit(\n",
        "    x_train_padded, y_latih,\n",
        "        validation_split=0.2,\n",
        "            epochs=50,\n",
        "             steps_per_epoch = 500,\n",
        "            callbacks=[\n",
        "              tf.keras.callbacks.EarlyStopping(\n",
        "              monitor='val_accuracy',\n",
        "              patience=20,\n",
        "                                      restore_best_weights=True\n",
        "\n",
        "              ),callbacks90\n",
        "              ]\n",
        "             )"
      ],
      "execution_count": 36,
      "outputs": [
        {
          "output_type": "stream",
          "text": [
            "Epoch 1/50\n",
            "WARNING:tensorflow:Model was constructed with shape (None, 37) for input KerasTensor(type_spec=TensorSpec(shape=(None, 37), dtype=tf.float32, name='layer_embedding_input'), name='layer_embedding_input', description=\"created by layer 'layer_embedding_input'\"), but it was called on an input with incompatible shape (None, 63).\n",
            "WARNING:tensorflow:Model was constructed with shape (None, 37) for input KerasTensor(type_spec=TensorSpec(shape=(None, 37), dtype=tf.float32, name='layer_embedding_input'), name='layer_embedding_input', description=\"created by layer 'layer_embedding_input'\"), but it was called on an input with incompatible shape (None, 63).\n",
            "500/500 [==============================] - ETA: 0s - loss: 1.3743 - accuracy: 0.3915WARNING:tensorflow:Model was constructed with shape (None, 37) for input KerasTensor(type_spec=TensorSpec(shape=(None, 37), dtype=tf.float32, name='layer_embedding_input'), name='layer_embedding_input', description=\"created by layer 'layer_embedding_input'\"), but it was called on an input with incompatible shape (32, 63).\n",
            "500/500 [==============================] - 61s 117ms/step - loss: 1.3743 - accuracy: 0.3915 - val_loss: 1.0685 - val_accuracy: 0.5987\n",
            "Epoch 2/50\n",
            "500/500 [==============================] - 58s 116ms/step - loss: 0.6316 - accuracy: 0.7736 - val_loss: 0.9157 - val_accuracy: 0.6888\n",
            "Epoch 3/50\n",
            "500/500 [==============================] - 57s 115ms/step - loss: 0.3033 - accuracy: 0.8990 - val_loss: 1.1581 - val_accuracy: 0.6862\n",
            "Epoch 4/50\n",
            "500/500 [==============================] - 58s 116ms/step - loss: 0.1562 - accuracy: 0.9465 - val_loss: 1.3264 - val_accuracy: 0.6975\n",
            "Epoch 5/50\n",
            "500/500 [==============================] - 58s 116ms/step - loss: 0.1041 - accuracy: 0.9625 - val_loss: 1.3923 - val_accuracy: 0.7050\n",
            "Epoch 6/50\n",
            "500/500 [==============================] - 58s 116ms/step - loss: 0.0600 - accuracy: 0.9780 - val_loss: 1.6048 - val_accuracy: 0.7212\n",
            "Epoch 7/50\n",
            "500/500 [==============================] - 58s 115ms/step - loss: 0.0383 - accuracy: 0.9886 - val_loss: 2.0180 - val_accuracy: 0.6812\n",
            "Epoch 8/50\n",
            "500/500 [==============================] - 58s 116ms/step - loss: 0.0523 - accuracy: 0.9823 - val_loss: 1.6752 - val_accuracy: 0.7100\n",
            "Epoch 9/50\n",
            "500/500 [==============================] - 58s 116ms/step - loss: 0.0407 - accuracy: 0.9865 - val_loss: 1.8840 - val_accuracy: 0.6775\n",
            "Epoch 10/50\n",
            "500/500 [==============================] - 58s 116ms/step - loss: 0.0207 - accuracy: 0.9920 - val_loss: 1.8261 - val_accuracy: 0.7113\n",
            "Epoch 11/50\n",
            "500/500 [==============================] - 58s 116ms/step - loss: 0.0136 - accuracy: 0.9963 - val_loss: 2.0027 - val_accuracy: 0.7050\n",
            "Epoch 12/50\n",
            "500/500 [==============================] - 58s 116ms/step - loss: 0.0172 - accuracy: 0.9957 - val_loss: 2.1749 - val_accuracy: 0.6988\n",
            "Epoch 13/50\n",
            "500/500 [==============================] - 58s 116ms/step - loss: 0.0265 - accuracy: 0.9906 - val_loss: 2.2855 - val_accuracy: 0.6963\n",
            "Epoch 14/50\n",
            "500/500 [==============================] - 58s 115ms/step - loss: 0.0198 - accuracy: 0.9940 - val_loss: 2.1324 - val_accuracy: 0.6950\n",
            "Epoch 15/50\n",
            "500/500 [==============================] - 57s 115ms/step - loss: 0.0124 - accuracy: 0.9960 - val_loss: 2.0819 - val_accuracy: 0.6975\n",
            "Epoch 16/50\n",
            "500/500 [==============================] - 58s 116ms/step - loss: 0.0199 - accuracy: 0.9954 - val_loss: 2.0985 - val_accuracy: 0.7050\n",
            "Epoch 17/50\n",
            "500/500 [==============================] - 58s 116ms/step - loss: 0.0020 - accuracy: 0.9991 - val_loss: 2.3132 - val_accuracy: 0.7063\n",
            "Epoch 18/50\n",
            "500/500 [==============================] - 58s 115ms/step - loss: 6.0049e-04 - accuracy: 1.0000 - val_loss: 2.3399 - val_accuracy: 0.7100\n",
            "Epoch 19/50\n",
            "500/500 [==============================] - 58s 115ms/step - loss: 1.0990e-04 - accuracy: 1.0000 - val_loss: 2.3934 - val_accuracy: 0.7063\n",
            "Epoch 20/50\n",
            "500/500 [==============================] - 58s 116ms/step - loss: 6.1837e-05 - accuracy: 1.0000 - val_loss: 2.4381 - val_accuracy: 0.7088\n",
            "Epoch 21/50\n",
            "500/500 [==============================] - 58s 116ms/step - loss: 4.5464e-05 - accuracy: 1.0000 - val_loss: 2.4809 - val_accuracy: 0.7100\n",
            "Epoch 22/50\n",
            "500/500 [==============================] - 58s 115ms/step - loss: 3.2105e-05 - accuracy: 1.0000 - val_loss: 2.5197 - val_accuracy: 0.7125\n",
            "Epoch 23/50\n",
            "500/500 [==============================] - 58s 115ms/step - loss: 2.4170e-05 - accuracy: 1.0000 - val_loss: 2.5581 - val_accuracy: 0.7125\n",
            "Epoch 24/50\n",
            "500/500 [==============================] - 58s 116ms/step - loss: 1.7263e-05 - accuracy: 1.0000 - val_loss: 2.6004 - val_accuracy: 0.7138\n",
            "Epoch 25/50\n",
            "500/500 [==============================] - 58s 116ms/step - loss: 1.2763e-05 - accuracy: 1.0000 - val_loss: 2.6401 - val_accuracy: 0.7175\n",
            "Epoch 26/50\n",
            "500/500 [==============================] - 58s 116ms/step - loss: 1.0784e-05 - accuracy: 1.0000 - val_loss: 2.6797 - val_accuracy: 0.7212\n"
          ],
          "name": "stdout"
        }
      ]
    },
    {
      "cell_type": "code",
      "metadata": {
        "id": "UojJD9VbK3Kb",
        "outputId": "4314e141-3da9-4635-ff35-08499f7d93ea",
        "colab": {
          "base_uri": "https://localhost:8080/"
        }
      },
      "source": [
        "model.summary()"
      ],
      "execution_count": 37,
      "outputs": [
        {
          "output_type": "stream",
          "text": [
            "Model: \"sequential_7\"\n",
            "_________________________________________________________________\n",
            "Layer (type)                 Output Shape              Param #   \n",
            "=================================================================\n",
            "layer_embedding (Embedding)  (None, 37, 192)           1920000   \n",
            "_________________________________________________________________\n",
            "lstm_7 (LSTM)                (None, 192)               295680    \n",
            "_________________________________________________________________\n",
            "dense_20 (Dense)             (None, 192)               37056     \n",
            "_________________________________________________________________\n",
            "dense_21 (Dense)             (None, 5)                 965       \n",
            "=================================================================\n",
            "Total params: 2,253,701\n",
            "Trainable params: 2,253,701\n",
            "Non-trainable params: 0\n",
            "_________________________________________________________________\n"
          ],
          "name": "stdout"
        }
      ]
    },
    {
      "cell_type": "code",
      "metadata": {
        "id": "MSXvBJPQb-9q"
      },
      "source": [
        ""
      ],
      "execution_count": null,
      "outputs": []
    }
  ]
}